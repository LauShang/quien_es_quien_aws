{
 "cells": [
  {
   "cell_type": "code",
   "execution_count": 1,
   "id": "8ef82ec4",
   "metadata": {},
   "outputs": [
    {
     "name": "stdout",
     "output_type": "stream",
     "text": [
      "Starting Spark application\n"
     ]
    },
    {
     "data": {
      "text/html": [
       "<table>\n",
       "<tr><th>ID</th><th>YARN Application ID</th><th>Kind</th><th>State</th><th>Spark UI</th><th>Driver log</th><th>User</th><th>Current session?</th></tr><tr><td>1</td><td>application_1713938380638_0002</td><td>pyspark</td><td>idle</td><td><a target=\"_blank\" href=\"http://ip-172-31-47-192.ec2.internal:20888/proxy/application_1713938380638_0002/\">Link</a></td><td><a target=\"_blank\" href=\"http://ip-172-31-33-212.ec2.internal:8042/node/containerlogs/container_1713938380638_0002_01_000001/livy\">Link</a></td><td>None</td><td>✔</td></tr></table>"
      ],
      "text/plain": [
       "<IPython.core.display.HTML object>"
      ]
     },
     "metadata": {},
     "output_type": "display_data"
    },
    {
     "data": {
      "application/vnd.jupyter.widget-view+json": {
       "model_id": "",
       "version_major": 2,
       "version_minor": 0
      },
      "text/plain": [
       "FloatProgress(value=0.0, bar_style='info', description='Progress:', layout=Layout(height='25px', width='50%'),…"
      ]
     },
     "metadata": {},
     "output_type": "display_data"
    },
    {
     "name": "stdout",
     "output_type": "stream",
     "text": [
      "SparkSession available as 'spark'.\n"
     ]
    },
    {
     "data": {
      "application/vnd.jupyter.widget-view+json": {
       "model_id": "",
       "version_major": 2,
       "version_minor": 0
      },
      "text/plain": [
       "FloatProgress(value=0.0, bar_style='info', description='Progress:', layout=Layout(height='25px', width='50%'),…"
      ]
     },
     "metadata": {},
     "output_type": "display_data"
    }
   ],
   "source": [
    "from pyspark.sql import SparkSession"
   ]
  },
  {
   "cell_type": "code",
   "execution_count": 19,
   "id": "a334c0ac",
   "metadata": {},
   "outputs": [
    {
     "data": {
      "application/vnd.jupyter.widget-view+json": {
       "model_id": "",
       "version_major": 2,
       "version_minor": 0
      },
      "text/plain": [
       "FloatProgress(value=0.0, bar_style='info', description='Progress:', layout=Layout(height='25px', width='50%'),…"
      ]
     },
     "metadata": {},
     "output_type": "display_data"
    }
   ],
   "source": [
    "from pyspark.sql.functions import year, to_date, countDistinct, col"
   ]
  },
  {
   "cell_type": "code",
   "execution_count": 2,
   "id": "771088d1",
   "metadata": {},
   "outputs": [
    {
     "data": {
      "application/vnd.jupyter.widget-view+json": {
       "model_id": "",
       "version_major": 2,
       "version_minor": 0
      },
      "text/plain": [
       "FloatProgress(value=0.0, bar_style='info', description='Progress:', layout=Layout(height='25px', width='50%'),…"
      ]
     },
     "metadata": {},
     "output_type": "display_data"
    }
   ],
   "source": [
    "BUCKET = 's3://proyecto-parcial-equipo-6/'"
   ]
  },
  {
   "cell_type": "code",
   "execution_count": 3,
   "id": "4a7b4368",
   "metadata": {},
   "outputs": [
    {
     "data": {
      "application/vnd.jupyter.widget-view+json": {
       "model_id": "",
       "version_major": 2,
       "version_minor": 0
      },
      "text/plain": [
       "FloatProgress(value=0.0, bar_style='info', description='Progress:', layout=Layout(height='25px', width='50%'),…"
      ]
     },
     "metadata": {},
     "output_type": "display_data"
    }
   ],
   "source": [
    "# Inicia una sesión Spark.\n",
    "spark = SparkSession.builder.appName(\"CSV to Parquet\").getOrCreate()"
   ]
  },
  {
   "cell_type": "code",
   "execution_count": 8,
   "id": "5ddee386",
   "metadata": {},
   "outputs": [
    {
     "data": {
      "application/vnd.jupyter.widget-view+json": {
       "model_id": "",
       "version_major": 2,
       "version_minor": 0
      },
      "text/plain": [
       "FloatProgress(value=0.0, bar_style='info', description='Progress:', layout=Layout(height='25px', width='50%'),…"
      ]
     },
     "metadata": {},
     "output_type": "display_data"
    }
   ],
   "source": [
    "# Carga el archivo CSV sin encabezados.\n",
    "df = spark.read.csv(BUCKET + \"clean/\", header=False, inferSchema=True, sep=\"|\")"
   ]
  },
  {
   "cell_type": "code",
   "execution_count": 10,
   "id": "003185c9",
   "metadata": {},
   "outputs": [
    {
     "data": {
      "application/vnd.jupyter.widget-view+json": {
       "model_id": "",
       "version_major": 2,
       "version_minor": 0
      },
      "text/plain": [
       "FloatProgress(value=0.0, bar_style='info', description='Progress:', layout=Layout(height='25px', width='50%'),…"
      ]
     },
     "metadata": {},
     "output_type": "display_data"
    }
   ],
   "source": [
    "# Renombrar las columnas del DataFrame.\n",
    "df_with_headers = df.toDF(\"producto\", \"presentacion\", \"marca\", \"categoria\", \"catalogo\", \"precio\", \"fecha_registro\", \"cadena_comercial\", \"giro\", \"nombre_comercial\", \"direccion\", \"estado\", \"municipio\", \"latitud\", \"longitud\")"
   ]
  },
  {
   "cell_type": "code",
   "execution_count": 12,
   "id": "bb41355e",
   "metadata": {},
   "outputs": [
    {
     "data": {
      "application/vnd.jupyter.widget-view+json": {
       "model_id": "",
       "version_major": 2,
       "version_minor": 0
      },
      "text/plain": [
       "FloatProgress(value=0.0, bar_style='info', description='Progress:', layout=Layout(height='25px', width='50%'),…"
      ]
     },
     "metadata": {},
     "output_type": "display_data"
    },
    {
     "name": "stdout",
     "output_type": "stream",
     "text": [
      "root\n",
      " |-- producto: string (nullable = true)\n",
      " |-- presentacion: string (nullable = true)\n",
      " |-- marca: string (nullable = true)\n",
      " |-- categoria: string (nullable = true)\n",
      " |-- catalogo: string (nullable = true)\n",
      " |-- precio: double (nullable = true)\n",
      " |-- fecha_registro: date (nullable = true)\n",
      " |-- cadena_comercial: string (nullable = true)\n",
      " |-- giro: string (nullable = true)\n",
      " |-- nombre_comercial: string (nullable = true)\n",
      " |-- direccion: string (nullable = true)\n",
      " |-- estado: string (nullable = true)\n",
      " |-- municipio: string (nullable = true)\n",
      " |-- latitud: string (nullable = true)\n",
      " |-- longitud: string (nullable = true)"
     ]
    }
   ],
   "source": [
    "df_with_headers.printSchema()"
   ]
  },
  {
   "cell_type": "code",
   "execution_count": 15,
   "id": "5bf61d36",
   "metadata": {},
   "outputs": [
    {
     "data": {
      "application/vnd.jupyter.widget-view+json": {
       "model_id": "",
       "version_major": 2,
       "version_minor": 0
      },
      "text/plain": [
       "FloatProgress(value=0.0, bar_style='info', description='Progress:', layout=Layout(height='25px', width='50%'),…"
      ]
     },
     "metadata": {},
     "output_type": "display_data"
    }
   ],
   "source": [
    "df_with_headers = df_with_headers.withColumn(\"latitud\", col(\"latitud\").cast(\"float\"))\n",
    "df_with_headers = df_with_headers.withColumn(\"longitud\", col(\"longitud\").cast(\"float\"))"
   ]
  },
  {
   "cell_type": "code",
   "execution_count": 17,
   "id": "a72fad04",
   "metadata": {},
   "outputs": [
    {
     "data": {
      "application/vnd.jupyter.widget-view+json": {
       "model_id": "",
       "version_major": 2,
       "version_minor": 0
      },
      "text/plain": [
       "FloatProgress(value=0.0, bar_style='info', description='Progress:', layout=Layout(height='25px', width='50%'),…"
      ]
     },
     "metadata": {},
     "output_type": "display_data"
    }
   ],
   "source": [
    "# Guarda el CSV como parquet en S3, particionalo por catalogo\n",
    "df_with_headers.write.mode(\"overwrite\").partitionBy(\"catalogo\").parquet(BUCKET+\"output/\")"
   ]
  },
  {
   "cell_type": "code",
   "execution_count": 18,
   "id": "8fdf2322",
   "metadata": {},
   "outputs": [
    {
     "data": {
      "application/vnd.jupyter.widget-view+json": {
       "model_id": "",
       "version_major": 2,
       "version_minor": 0
      },
      "text/plain": [
       "FloatProgress(value=0.0, bar_style='info', description='Progress:', layout=Layout(height='25px', width='50%'),…"
      ]
     },
     "metadata": {},
     "output_type": "display_data"
    },
    {
     "name": "stdout",
     "output_type": "stream",
     "text": [
      "root\n",
      " |-- producto: string (nullable = true)\n",
      " |-- presentacion: string (nullable = true)\n",
      " |-- marca: string (nullable = true)\n",
      " |-- categoria: string (nullable = true)\n",
      " |-- precio: double (nullable = true)\n",
      " |-- fecha_registro: date (nullable = true)\n",
      " |-- cadena_comercial: string (nullable = true)\n",
      " |-- giro: string (nullable = true)\n",
      " |-- nombre_comercial: string (nullable = true)\n",
      " |-- direccion: string (nullable = true)\n",
      " |-- estado: string (nullable = true)\n",
      " |-- municipio: string (nullable = true)\n",
      " |-- latitud: float (nullable = true)\n",
      " |-- longitud: float (nullable = true)\n",
      " |-- catalogo: string (nullable = true)"
     ]
    }
   ],
   "source": [
    "# Carga del parquet en Spark\n",
    "parquet_df = spark.read.parquet(BUCKET+\"output/\")\n",
    "parquet_df.printSchema()"
   ]
  },
  {
   "cell_type": "code",
   "execution_count": 20,
   "id": "a2042089",
   "metadata": {},
   "outputs": [
    {
     "data": {
      "application/vnd.jupyter.widget-view+json": {
       "model_id": "",
       "version_major": 2,
       "version_minor": 0
      },
      "text/plain": [
       "FloatProgress(value=0.0, bar_style='info', description='Progress:', layout=Layout(height='25px', width='50%'),…"
      ]
     },
     "metadata": {},
     "output_type": "display_data"
    },
    {
     "name": "stdout",
     "output_type": "stream",
     "text": [
      "+----+-----------------+\n",
      "| a?o|distinct_catalogs|\n",
      "+----+-----------------+\n",
      "|2018|                8|\n",
      "|2019|               10|\n",
      "|2020|                8|\n",
      "|2021|                9|\n",
      "|2022|               10|\n",
      "|2023|               10|\n",
      "|2024|               10|\n",
      "+----+-----------------+"
     ]
    }
   ],
   "source": [
    "# ¿Cuántos catálogos diferentes tenemos?\n",
    "catalog_count_by_year = (parquet_df\n",
    "    .groupBy(year(\"fecha_registro\").alias(\"año\"))  # Extrae el año y agrupa por este\n",
    "    .agg(countDistinct(\"catalogo\").alias(\"distinct_catalogs\"))  # Cuenta los catálogos únicos\n",
    ")\n",
    "\n",
    "catalog_count_by_year.show()"
   ]
  },
  {
   "cell_type": "code",
   "execution_count": 22,
   "id": "4e61be71",
   "metadata": {},
   "outputs": [
    {
     "data": {
      "application/vnd.jupyter.widget-view+json": {
       "model_id": "",
       "version_major": 2,
       "version_minor": 0
      },
      "text/plain": [
       "FloatProgress(value=0.0, bar_style='info', description='Progress:', layout=Layout(height='25px', width='50%'),…"
      ]
     },
     "metadata": {},
     "output_type": "display_data"
    },
    {
     "name": "stdout",
     "output_type": "stream",
     "text": [
      "+-------------------+-------+\n",
      "|           catalogo|  count|\n",
      "+-------------------+-------+\n",
      "|            basicos|2679091|\n",
      "|       medicamentos|1113677|\n",
      "|  electrodomesticos| 365301|\n",
      "| frutas y legumbres| 297033|\n",
      "|           juguetes| 160697|\n",
      "|           mercados| 123500|\n",
      "|              pacic| 116877|\n",
      "|   utiles escolares|  72747|\n",
      "|           navideos|  32973|\n",
      "|pescados y mariscos|  29631|\n",
      "|        aeropuertos|    321|\n",
      "+-------------------+-------+"
     ]
    }
   ],
   "source": [
    "# Encuentra los 20 catálogos con más observaciones.\n",
    "top_catalogs = parquet_df.groupBy(\"catalogo\").count().orderBy(col(\"count\").desc()).limit(20)\n",
    "\n",
    "# Muestra el resultado.\n",
    "top_catalogs.show()\n",
    "\n",
    "# Guarda la salida en el bucket de S3.\n",
    "top_catalogs.write.mode(\"overwrite\").parquet(BUCKET + \"preguntas/top_catalogs/\")"
   ]
  },
  {
   "cell_type": "code",
   "execution_count": 23,
   "id": "354c8c8a",
   "metadata": {},
   "outputs": [
    {
     "data": {
      "application/vnd.jupyter.widget-view+json": {
       "model_id": "",
       "version_major": 2,
       "version_minor": 0
      },
      "text/plain": [
       "FloatProgress(value=0.0, bar_style='info', description='Progress:', layout=Layout(height='25px', width='50%'),…"
      ]
     },
     "metadata": {},
     "output_type": "display_data"
    },
    {
     "name": "stdout",
     "output_type": "stream",
     "text": [
      "+---------------+\n",
      "|         estado|\n",
      "+---------------+\n",
      "|ciudad de mxico|\n",
      "|     tamaulipas|\n",
      "|      zacatecas|\n",
      "|       campeche|\n",
      "|         yucatn|\n",
      "|       veracruz|\n",
      "|        morelos|\n",
      "|     guanajuato|\n",
      "|         sonora|\n",
      "|       tlaxcala|\n",
      "|        nayarit|\n",
      "|        sinaloa|\n",
      "|         oaxaca|\n",
      "|       guerrero|\n",
      "|   quintana roo|\n",
      "|       quertaro|\n",
      "| san luis potos|\n",
      "|         puebla|\n",
      "|        durango|\n",
      "|estado de mxico|\n",
      "+---------------+\n",
      "only showing top 20 rows"
     ]
    }
   ],
   "source": [
    "# ¿Tenemos datos de todos los estados del país? De no ser así, ¿cuáles faltan?\n",
    "# Lista todos los estados únicos presentes en el DataFrame.\n",
    "unique_states = parquet_df.select(\"estado\").distinct()\n",
    "\n",
    "# Muestra los estados únicos.\n",
    "unique_states.show()\n",
    "\n",
    "# Opcional: Guarda la salida en el bucket de S3.\n",
    "unique_states.write.mode(\"overwrite\").csv(BUCKET + \"preguntas/unique_states/\")"
   ]
  },
  {
   "cell_type": "code",
   "execution_count": null,
   "id": "44a9270e",
   "metadata": {},
   "outputs": [],
   "source": []
  }
 ],
 "metadata": {
  "kernelspec": {
   "display_name": "PySpark",
   "language": "python",
   "name": "pysparkkernel"
  },
  "language_info": {
   "codemirror_mode": {
    "name": "python",
    "version": 3
   },
   "file_extension": ".py",
   "mimetype": "text/x-python",
   "name": "pyspark",
   "pygments_lexer": "python3"
  }
 },
 "nbformat": 4,
 "nbformat_minor": 5
}
