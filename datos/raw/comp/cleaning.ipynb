{
 "cells": [
  {
   "cell_type": "code",
   "execution_count": 12,
   "metadata": {},
   "outputs": [],
   "source": [
    "import csv\n",
    "import os\n",
    "from tqdm import tqdm"
   ]
  },
  {
   "cell_type": "code",
   "execution_count": 2,
   "metadata": {},
   "outputs": [],
   "source": [
    "def transform_file(file,output):\n",
    "    # Abre el archivo original y crea un nuevo archivo para los resultados\n",
    "    with open(file, 'r', encoding='utf-8', errors='replace') as infile, \\\n",
    "        open(output, 'w', encoding='ascii', errors='ignore') as outfile:\n",
    "\n",
    "        reader = csv.reader(infile)  # Usar el lector CSV para manejar correctamente las comas dentro de las comillas\n",
    "        writer = csv.writer(outfile, delimiter='|')  # Configurar el escritor CSV para usar pipe como delimitador\n",
    "\n",
    "        # Procesar cada fila en el archivo\n",
    "        for row in reader:\n",
    "            # Convertir cada campo a minúsculas y eliminar el carácter '|'\n",
    "            modified_row = [field.lower().replace('|', '') for field in row]\n",
    "            \n",
    "            # Convertir la fila modificada a ASCII, ignorando caracteres no convertibles\n",
    "            ascii_row = [field.encode('ascii', errors='ignore').decode('ascii') for field in modified_row]\n",
    "            \n",
    "            # Escribir la fila convertida usando pipe como delimitador\n",
    "            writer.writerow(ascii_row)\n"
   ]
  },
  {
   "cell_type": "code",
   "execution_count": 16,
   "metadata": {},
   "outputs": [
    {
     "name": "stderr",
     "output_type": "stream",
     "text": [
      "100%|██████████| 52/52 [01:38<00:00,  1.90s/it]\n",
      "100%|██████████| 6/6 [00:24<00:00,  4.14s/it]\n",
      "100%|██████████| 24/24 [01:41<00:00,  4.24s/it]\n",
      "100%|██████████| 53/53 [01:34<00:00,  1.78s/it]\n",
      "100%|██████████| 52/52 [03:30<00:00,  4.05s/it]\n",
      "100%|██████████| 53/53 [01:13<00:00,  1.39s/it]\n",
      "100%|██████████| 53/53 [01:55<00:00,  2.18s/it]\n"
     ]
    }
   ],
   "source": [
    "directories = list(filter(lambda s: s.find('.') == -1,os.listdir()))\n",
    "for dir_ in directories:\n",
    "    csv_s = list(filter(lambda s: s.find('.csv') != -1,os.listdir(dir_)))\n",
    "    for file in tqdm(csv_s):\n",
    "        input_file = os.path.join(dir_,file)\n",
    "        output_file = os.path.join('..',file)\n",
    "        transform_file(input_file,output_file)"
   ]
  }
 ],
 "metadata": {
  "kernelspec": {
   "display_name": "base",
   "language": "python",
   "name": "python3"
  },
  "language_info": {
   "codemirror_mode": {
    "name": "ipython",
    "version": 3
   },
   "file_extension": ".py",
   "mimetype": "text/x-python",
   "name": "python",
   "nbconvert_exporter": "python",
   "pygments_lexer": "ipython3",
   "version": "3.11.7"
  }
 },
 "nbformat": 4,
 "nbformat_minor": 2
}
