{
 "cells": [
  {
   "cell_type": "code",
   "execution_count": 1,
   "id": "8c80e296",
   "metadata": {},
   "outputs": [
    {
     "name": "stdout",
     "output_type": "stream",
     "text": [
      "Starting Spark application\n"
     ]
    },
    {
     "data": {
      "text/html": [
       "<table>\n",
       "<tr><th>ID</th><th>YARN Application ID</th><th>Kind</th><th>State</th><th>Spark UI</th><th>Driver log</th><th>User</th><th>Current session?</th></tr><tr><td>2</td><td>application_1713636313292_0003</td><td>pyspark</td><td>idle</td><td><a target=\"_blank\" href=\"http://ip-172-31-21-237.ec2.internal:20888/proxy/application_1713636313292_0003/\">Link</a></td><td><a target=\"_blank\" href=\"http://ip-172-31-29-170.ec2.internal:8042/node/containerlogs/container_1713636313292_0003_01_000001/livy\">Link</a></td><td>None</td><td>✔</td></tr></table>"
      ],
      "text/plain": [
       "<IPython.core.display.HTML object>"
      ]
     },
     "metadata": {},
     "output_type": "display_data"
    },
    {
     "data": {
      "application/vnd.jupyter.widget-view+json": {
       "model_id": "",
       "version_major": 2,
       "version_minor": 0
      },
      "text/plain": [
       "FloatProgress(value=0.0, bar_style='info', description='Progress:', layout=Layout(height='25px', width='50%'),…"
      ]
     },
     "metadata": {},
     "output_type": "display_data"
    },
    {
     "name": "stdout",
     "output_type": "stream",
     "text": [
      "SparkSession available as 'spark'.\n"
     ]
    },
    {
     "data": {
      "application/vnd.jupyter.widget-view+json": {
       "model_id": "",
       "version_major": 2,
       "version_minor": 0
      },
      "text/plain": [
       "FloatProgress(value=0.0, bar_style='info', description='Progress:', layout=Layout(height='25px', width='50%'),…"
      ]
     },
     "metadata": {},
     "output_type": "display_data"
    },
    {
     "name": "stdout",
     "output_type": "stream",
     "text": [
      "+------------------+--------------------+--------------------+--------------------+-----------------+-------+--------------+----------------+--------------------+--------------------+--------------------+--------------+--------------+---------+-----------+\n",
      "|          producto|        presentacion|               marca|           categoria|         catalogo| precio|fecha_registro|cadena_comercial|                giro|    nombre_comercial|           direccion|        estado|     municipio|  latitud|   longitud|\n",
      "+------------------+--------------------+--------------------+--------------------+-----------------+-------+--------------+----------------+--------------------+--------------------+--------------------+--------------+--------------+---------+-----------+\n",
      "| ASISTENTES DE VOZ|ECHO SHOW 5. COLO...|               ALEXA|APARATOS ELECTRON...|ELECTRODOMESTICOS| 2499.0|    2023-05-02|          COPPEL|TIENDA DE ELECTRO...|COPPEL SUCURSAL E...|TECNOLOGICO 120, ...|AGUASCALIENTES|AGUASCALIENTES|21.879490|-102.260011|\n",
      "| ASISTENTES DE VOZ|NEST MINI. COLOR ...|              GOOGLE|APARATOS ELECTRON...|ELECTRODOMESTICOS|  959.0|    2023-05-02|          COPPEL|TIENDA DE ELECTRO...|COPPEL SUCURSAL E...|TECNOLOGICO 120, ...|AGUASCALIENTES|AGUASCALIENTES|21.879490|-102.260011|\n",
      "|   BARRA DE SONIDO|HS205. BLUETOOTH,...|             HISENSE|APARATOS ELECTRON...|ELECTRODOMESTICOS| 1699.0|    2023-05-02|          COPPEL|TIENDA DE ELECTRO...|COPPEL SUCURSAL E...|TECNOLOGICO 120, ...|AGUASCALIENTES|AGUASCALIENTES|21.879490|-102.260011|\n",
      "|   BARRA DE SONIDO|HW-A450. BLUETOOT...|             SAMSUNG|APARATOS ELECTRON...|ELECTRODOMESTICOS| 4499.0|    2023-05-02|          COPPEL|TIENDA DE ELECTRO...|COPPEL SUCURSAL E...|TECNOLOGICO 120, ...|AGUASCALIENTES|AGUASCALIENTES|21.879490|-102.260011|\n",
      "|BOCINAS PORTÁTILES|RM1. USB Y BLUETO...|                  LG|APARATOS ELECTRON...|ELECTRODOMESTICOS| 2999.0|    2023-05-02|          COPPEL|TIENDA DE ELECTRO...|COPPEL SUCURSAL E...|TECNOLOGICO 120, ...|AGUASCALIENTES|AGUASCALIENTES|21.879490|-102.260011|\n",
      "|BOCINAS PORTÁTILES|RM2. USB Y BLUETO...|                  LG|APARATOS ELECTRON...|ELECTRODOMESTICOS| 4899.0|    2023-05-02|          COPPEL|TIENDA DE ELECTRO...|COPPEL SUCURSAL E...|TECNOLOGICO 120, ...|AGUASCALIENTES|AGUASCALIENTES|21.879490|-102.260011|\n",
      "|BOCINAS PORTÁTILES|RN5. USB Y BLUETOOTH|                  LG|APARATOS ELECTRON...|ELECTRODOMESTICOS| 5999.0|    2023-05-02|          COPPEL|TIENDA DE ELECTRO...|COPPEL SUCURSAL E...|TECNOLOGICO 120, ...|AGUASCALIENTES|AGUASCALIENTES|21.879490|-102.260011|\n",
      "|BOCINAS PORTÁTILES|RN7. USB Y BLUETO...|                  LG|APARATOS ELECTRON...|ELECTRODOMESTICOS| 7999.0|    2023-05-02|          COPPEL|TIENDA DE ELECTRO...|COPPEL SUCURSAL E...|TECNOLOGICO 120, ...|AGUASCALIENTES|AGUASCALIENTES|21.879490|-102.260011|\n",
      "|BOCINAS PORTÁTILES|MX-T50. USB Y BLU...|             SAMSUNG|APARATOS ELECTRON...|ELECTRODOMESTICOS| 6699.0|    2023-05-02|          COPPEL|TIENDA DE ELECTRO...|COPPEL SUCURSAL E...|TECNOLOGICO 120, ...|AGUASCALIENTES|AGUASCALIENTES|21.879490|-102.260011|\n",
      "|BOCINAS PORTÁTILES|GTK-PG10. USB Y B...|                SONY|APARATOS ELECTRON...|ELECTRODOMESTICOS| 7249.0|    2023-05-02|          COPPEL|TIENDA DE ELECTRO...|COPPEL SUCURSAL E...|TECNOLOGICO 120, ...|AGUASCALIENTES|AGUASCALIENTES|21.879490|-102.260011|\n",
      "|BOCINAS PORTÁTILES|MHC-V02. CD'S 1, ...|                SONY|APARATOS ELECTRON...|ELECTRODOMESTICOS| 5499.0|    2023-05-02|          COPPEL|TIENDA DE ELECTRO...|COPPEL SUCURSAL E...|TECNOLOGICO 120, ...|AGUASCALIENTES|AGUASCALIENTES|21.879490|-102.260011|\n",
      "|BOCINAS PORTÁTILES|MHC-V13. CD´S 1. ...|                SONY|APARATOS ELECTRON...|ELECTRODOMESTICOS| 7299.0|    2023-05-02|          COPPEL|TIENDA DE ELECTRO...|COPPEL SUCURSAL E...|TECNOLOGICO 120, ...|AGUASCALIENTES|AGUASCALIENTES|21.879490|-102.260011|\n",
      "|BOCINAS PORTÁTILES|MHC-V73D. CD´S 1....|                SONY|APARATOS ELECTRON...|ELECTRODOMESTICOS|14999.0|    2023-05-02|          COPPEL|TIENDA DE ELECTRO...|COPPEL SUCURSAL E...|TECNOLOGICO 120, ...|AGUASCALIENTES|AGUASCALIENTES|21.879490|-102.260011|\n",
      "|         CAFETERAS|BVSTDC10SS O BVST...|               OSTER| APARATOS ELECTRICOS|ELECTRODOMESTICOS|  879.0|    2023-05-02|          COPPEL|TIENDA DE ELECTRO...|COPPEL SUCURSAL E...|TECNOLOGICO 120, ...|AGUASCALIENTES|AGUASCALIENTES|21.879490|-102.260011|\n",
      "|         CAFETERAS|BVSTDC4401RD O BV...|               OSTER| APARATOS ELECTRICOS|ELECTRODOMESTICOS| 1299.0|    2023-05-02|          COPPEL|TIENDA DE ELECTRO...|COPPEL SUCURSAL E...|TECNOLOGICO 120, ...|AGUASCALIENTES|AGUASCALIENTES|21.879490|-102.260011|\n",
      "|         CAFETERAS|CM1408MX. CAPACID...|T-FAL. HELIORA GR...| APARATOS ELECTRICOS|ELECTRODOMESTICOS|  899.0|    2023-05-02|          COPPEL|TIENDA DE ELECTRO...|COPPEL SUCURSAL E...|TECNOLOGICO 120, ...|AGUASCALIENTES|AGUASCALIENTES|21.879490|-102.260011|\n",
      "| CAMARAS DIGITALES|INSTAX MINI 11. L...|  FUJIFILM. FINE PIX|APARATOS ELECTRON...|ELECTRODOMESTICOS| 2169.0|    2023-05-02|          COPPEL|TIENDA DE ELECTRO...|COPPEL SUCURSAL E...|TECNOLOGICO 120, ...|AGUASCALIENTES|AGUASCALIENTES|21.879490|-102.260011|\n",
      "|         CELULARES|MOTO E 20. ANDROI...|            MOTOROLA|APARATOS ELECTRON...|ELECTRODOMESTICOS| 2499.0|    2023-05-02|          COPPEL|TIENDA DE ELECTRO...|COPPEL SUCURSAL E...|TECNOLOGICO 120, ...|AGUASCALIENTES|AGUASCALIENTES|21.879490|-102.260011|\n",
      "|         CELULARES|MOTO E 32. ANDROI...|            MOTOROLA|APARATOS ELECTRON...|ELECTRODOMESTICOS| 3999.0|    2023-05-02|          COPPEL|TIENDA DE ELECTRO...|COPPEL SUCURSAL E...|TECNOLOGICO 120, ...|AGUASCALIENTES|AGUASCALIENTES|21.879490|-102.260011|\n",
      "|         CELULARES|A 57. ANDROID 12 ...|                OPPO|APARATOS ELECTRON...|ELECTRODOMESTICOS| 5499.0|    2023-05-02|          COPPEL|TIENDA DE ELECTRO...|COPPEL SUCURSAL E...|TECNOLOGICO 120, ...|AGUASCALIENTES|AGUASCALIENTES|21.879490|-102.260011|\n",
      "+------------------+--------------------+--------------------+--------------------+-----------------+-------+--------------+----------------+--------------------+--------------------+--------------------+--------------+--------------+---------+-----------+\n",
      "only showing top 20 rows"
     ]
    }
   ],
   "source": [
    "from pyspark.sql import SparkSession\n",
    "\n",
    "# Inicia una sesión Spark.\n",
    "spark = SparkSession.builder.appName(\"ParteA2\").getOrCreate()\n",
    "\n",
    "# Lee el archivo CSV desde S3.\n",
    "# Carga el archivo CSV sin encabezados.\n",
    "df = spark.read.csv(\"s3://qqa-completo/05-2023_01.csv\", header=False, inferSchema=True)\n",
    "\n",
    "# Renombrar las columnas del DataFrame.\n",
    "df_with_headers = df.toDF(\"producto\", \"presentacion\", \"marca\", \"categoria\", \"catalogo\", \"precio\", \"fecha_registro\", \"cadena_comercial\", \"giro\", \"nombre_comercial\", \"direccion\", \"estado\", \"municipio\", \"latitud\", \"longitud\")\n",
    "\n",
    "# Muestra las primeras filas con los nuevos encabezados.\n",
    "df_with_headers.show()"
   ]
  },
  {
   "cell_type": "code",
   "execution_count": 2,
   "id": "e6abce9e",
   "metadata": {},
   "outputs": [
    {
     "data": {
      "application/vnd.jupyter.widget-view+json": {
       "model_id": "",
       "version_major": 2,
       "version_minor": 0
      },
      "text/plain": [
       "FloatProgress(value=0.0, bar_style='info', description='Progress:', layout=Layout(height='25px', width='50%'),…"
      ]
     },
     "metadata": {},
     "output_type": "display_data"
    }
   ],
   "source": [
    "# Guarda el CSV como parquet en S3, particionalo por catalogo, acomodar la salida de donde se almacenarán los datos particionados\n",
    "df_with_headers.write.partitionBy(\"catalogo\").mode(\"overwrite\").parquet(\"s3://qqa-completo/output2/\")"
   ]
  },
  {
   "cell_type": "code",
   "execution_count": 3,
   "id": "55079dc0",
   "metadata": {},
   "outputs": [
    {
     "data": {
      "application/vnd.jupyter.widget-view+json": {
       "model_id": "",
       "version_major": 2,
       "version_minor": 0
      },
      "text/plain": [
       "FloatProgress(value=0.0, bar_style='info', description='Progress:', layout=Layout(height='25px', width='50%'),…"
      ]
     },
     "metadata": {},
     "output_type": "display_data"
    },
    {
     "name": "stdout",
     "output_type": "stream",
     "text": [
      "+------------------+--------------------+--------------------+--------------------+-------+--------------+----------------+--------------------+--------------------+--------------------+--------------+--------------+---------+-----------+-----------------+\n",
      "|          producto|        presentacion|               marca|           categoria| precio|fecha_registro|cadena_comercial|                giro|    nombre_comercial|           direccion|        estado|     municipio|  latitud|   longitud|         catalogo|\n",
      "+------------------+--------------------+--------------------+--------------------+-------+--------------+----------------+--------------------+--------------------+--------------------+--------------+--------------+---------+-----------+-----------------+\n",
      "| ASISTENTES DE VOZ|ECHO SHOW 5. COLO...|               ALEXA|APARATOS ELECTRON...| 2499.0|    2023-05-02|          COPPEL|TIENDA DE ELECTRO...|COPPEL SUCURSAL E...|TECNOLOGICO 120, ...|AGUASCALIENTES|AGUASCALIENTES|21.879490|-102.260011|ELECTRODOMESTICOS|\n",
      "| ASISTENTES DE VOZ|NEST MINI. COLOR ...|              GOOGLE|APARATOS ELECTRON...|  959.0|    2023-05-02|          COPPEL|TIENDA DE ELECTRO...|COPPEL SUCURSAL E...|TECNOLOGICO 120, ...|AGUASCALIENTES|AGUASCALIENTES|21.879490|-102.260011|ELECTRODOMESTICOS|\n",
      "|   BARRA DE SONIDO|HS205. BLUETOOTH,...|             HISENSE|APARATOS ELECTRON...| 1699.0|    2023-05-02|          COPPEL|TIENDA DE ELECTRO...|COPPEL SUCURSAL E...|TECNOLOGICO 120, ...|AGUASCALIENTES|AGUASCALIENTES|21.879490|-102.260011|ELECTRODOMESTICOS|\n",
      "|   BARRA DE SONIDO|HW-A450. BLUETOOT...|             SAMSUNG|APARATOS ELECTRON...| 4499.0|    2023-05-02|          COPPEL|TIENDA DE ELECTRO...|COPPEL SUCURSAL E...|TECNOLOGICO 120, ...|AGUASCALIENTES|AGUASCALIENTES|21.879490|-102.260011|ELECTRODOMESTICOS|\n",
      "|BOCINAS PORTÁTILES|RM1. USB Y BLUETO...|                  LG|APARATOS ELECTRON...| 2999.0|    2023-05-02|          COPPEL|TIENDA DE ELECTRO...|COPPEL SUCURSAL E...|TECNOLOGICO 120, ...|AGUASCALIENTES|AGUASCALIENTES|21.879490|-102.260011|ELECTRODOMESTICOS|\n",
      "|BOCINAS PORTÁTILES|RM2. USB Y BLUETO...|                  LG|APARATOS ELECTRON...| 4899.0|    2023-05-02|          COPPEL|TIENDA DE ELECTRO...|COPPEL SUCURSAL E...|TECNOLOGICO 120, ...|AGUASCALIENTES|AGUASCALIENTES|21.879490|-102.260011|ELECTRODOMESTICOS|\n",
      "|BOCINAS PORTÁTILES|RN5. USB Y BLUETOOTH|                  LG|APARATOS ELECTRON...| 5999.0|    2023-05-02|          COPPEL|TIENDA DE ELECTRO...|COPPEL SUCURSAL E...|TECNOLOGICO 120, ...|AGUASCALIENTES|AGUASCALIENTES|21.879490|-102.260011|ELECTRODOMESTICOS|\n",
      "|BOCINAS PORTÁTILES|RN7. USB Y BLUETO...|                  LG|APARATOS ELECTRON...| 7999.0|    2023-05-02|          COPPEL|TIENDA DE ELECTRO...|COPPEL SUCURSAL E...|TECNOLOGICO 120, ...|AGUASCALIENTES|AGUASCALIENTES|21.879490|-102.260011|ELECTRODOMESTICOS|\n",
      "|BOCINAS PORTÁTILES|MX-T50. USB Y BLU...|             SAMSUNG|APARATOS ELECTRON...| 6699.0|    2023-05-02|          COPPEL|TIENDA DE ELECTRO...|COPPEL SUCURSAL E...|TECNOLOGICO 120, ...|AGUASCALIENTES|AGUASCALIENTES|21.879490|-102.260011|ELECTRODOMESTICOS|\n",
      "|BOCINAS PORTÁTILES|GTK-PG10. USB Y B...|                SONY|APARATOS ELECTRON...| 7249.0|    2023-05-02|          COPPEL|TIENDA DE ELECTRO...|COPPEL SUCURSAL E...|TECNOLOGICO 120, ...|AGUASCALIENTES|AGUASCALIENTES|21.879490|-102.260011|ELECTRODOMESTICOS|\n",
      "|BOCINAS PORTÁTILES|MHC-V02. CD'S 1, ...|                SONY|APARATOS ELECTRON...| 5499.0|    2023-05-02|          COPPEL|TIENDA DE ELECTRO...|COPPEL SUCURSAL E...|TECNOLOGICO 120, ...|AGUASCALIENTES|AGUASCALIENTES|21.879490|-102.260011|ELECTRODOMESTICOS|\n",
      "|BOCINAS PORTÁTILES|MHC-V13. CD´S 1. ...|                SONY|APARATOS ELECTRON...| 7299.0|    2023-05-02|          COPPEL|TIENDA DE ELECTRO...|COPPEL SUCURSAL E...|TECNOLOGICO 120, ...|AGUASCALIENTES|AGUASCALIENTES|21.879490|-102.260011|ELECTRODOMESTICOS|\n",
      "|BOCINAS PORTÁTILES|MHC-V73D. CD´S 1....|                SONY|APARATOS ELECTRON...|14999.0|    2023-05-02|          COPPEL|TIENDA DE ELECTRO...|COPPEL SUCURSAL E...|TECNOLOGICO 120, ...|AGUASCALIENTES|AGUASCALIENTES|21.879490|-102.260011|ELECTRODOMESTICOS|\n",
      "|         CAFETERAS|BVSTDC10SS O BVST...|               OSTER| APARATOS ELECTRICOS|  879.0|    2023-05-02|          COPPEL|TIENDA DE ELECTRO...|COPPEL SUCURSAL E...|TECNOLOGICO 120, ...|AGUASCALIENTES|AGUASCALIENTES|21.879490|-102.260011|ELECTRODOMESTICOS|\n",
      "|         CAFETERAS|BVSTDC4401RD O BV...|               OSTER| APARATOS ELECTRICOS| 1299.0|    2023-05-02|          COPPEL|TIENDA DE ELECTRO...|COPPEL SUCURSAL E...|TECNOLOGICO 120, ...|AGUASCALIENTES|AGUASCALIENTES|21.879490|-102.260011|ELECTRODOMESTICOS|\n",
      "|         CAFETERAS|CM1408MX. CAPACID...|T-FAL. HELIORA GR...| APARATOS ELECTRICOS|  899.0|    2023-05-02|          COPPEL|TIENDA DE ELECTRO...|COPPEL SUCURSAL E...|TECNOLOGICO 120, ...|AGUASCALIENTES|AGUASCALIENTES|21.879490|-102.260011|ELECTRODOMESTICOS|\n",
      "| CAMARAS DIGITALES|INSTAX MINI 11. L...|  FUJIFILM. FINE PIX|APARATOS ELECTRON...| 2169.0|    2023-05-02|          COPPEL|TIENDA DE ELECTRO...|COPPEL SUCURSAL E...|TECNOLOGICO 120, ...|AGUASCALIENTES|AGUASCALIENTES|21.879490|-102.260011|ELECTRODOMESTICOS|\n",
      "|         CELULARES|MOTO E 20. ANDROI...|            MOTOROLA|APARATOS ELECTRON...| 2499.0|    2023-05-02|          COPPEL|TIENDA DE ELECTRO...|COPPEL SUCURSAL E...|TECNOLOGICO 120, ...|AGUASCALIENTES|AGUASCALIENTES|21.879490|-102.260011|ELECTRODOMESTICOS|\n",
      "|         CELULARES|MOTO E 32. ANDROI...|            MOTOROLA|APARATOS ELECTRON...| 3999.0|    2023-05-02|          COPPEL|TIENDA DE ELECTRO...|COPPEL SUCURSAL E...|TECNOLOGICO 120, ...|AGUASCALIENTES|AGUASCALIENTES|21.879490|-102.260011|ELECTRODOMESTICOS|\n",
      "|         CELULARES|A 57. ANDROID 12 ...|                OPPO|APARATOS ELECTRON...| 5499.0|    2023-05-02|          COPPEL|TIENDA DE ELECTRO...|COPPEL SUCURSAL E...|TECNOLOGICO 120, ...|AGUASCALIENTES|AGUASCALIENTES|21.879490|-102.260011|ELECTRODOMESTICOS|\n",
      "+------------------+--------------------+--------------------+--------------------+-------+--------------+----------------+--------------------+--------------------+--------------------+--------------+--------------+---------+-----------+-----------------+\n",
      "only showing top 20 rows"
     ]
    }
   ],
   "source": [
    "# Carga del parquet en Spark\n",
    "parquet_df = spark.read.parquet(\"s3://qqa-completo/output2/\")\n",
    "\n",
    "# Muestra las primeras filas.\n",
    "parquet_df.show()\n",
    "\n",
    "# Guarda la salida en el bucket de S3, apuntar la salida de donde quedarán los datos almacenados.\n",
    "parquet_df.write.mode(\"overwrite\").parquet(\"s3://qqa-completo/respuestasA2/parquet_df\")"
   ]
  },
  {
   "cell_type": "code",
   "execution_count": 4,
   "id": "627c00c5",
   "metadata": {},
   "outputs": [
    {
     "data": {
      "application/vnd.jupyter.widget-view+json": {
       "model_id": "",
       "version_major": 2,
       "version_minor": 0
      },
      "text/plain": [
       "FloatProgress(value=0.0, bar_style='info', description='Progress:', layout=Layout(height='25px', width='50%'),…"
      ]
     },
     "metadata": {},
     "output_type": "display_data"
    }
   ],
   "source": [
    "# ¿Cuańtas marcas diferentes tiene tu categoría?"
   ]
  },
  {
   "cell_type": "code",
   "execution_count": 5,
   "id": "eafe3f69",
   "metadata": {},
   "outputs": [
    {
     "data": {
      "application/vnd.jupyter.widget-view+json": {
       "model_id": "",
       "version_major": 2,
       "version_minor": 0
      },
      "text/plain": [
       "FloatProgress(value=0.0, bar_style='info', description='Progress:', layout=Layout(height='25px', width='50%'),…"
      ]
     },
     "metadata": {},
     "output_type": "display_data"
    },
    {
     "name": "stdout",
     "output_type": "stream",
     "text": [
      "Numero de marcas unicas en la catalogo: 'Basicos': 523"
     ]
    }
   ],
   "source": [
    "from pyspark.sql.functions import col\n",
    "\n",
    "# Filtra por catalogo específica, por ejemplo 'Electrónica'\n",
    "filtered_df = parquet_df.filter(col(\"catalogo\") == \"BASICOS\")\n",
    "\n",
    "# Selecciona la columna 'marca', encuentra valores únicos, y cuenta\n",
    "unique_brands_count = filtered_df.select(\"marca\").distinct().count()\n",
    "\n",
    "print(f\"Numero de marcas unicas en la catalogo: 'Basicos': {unique_brands_count}\")"
   ]
  },
  {
   "cell_type": "code",
   "execution_count": 6,
   "id": "99679767",
   "metadata": {},
   "outputs": [
    {
     "data": {
      "application/vnd.jupyter.widget-view+json": {
       "model_id": "",
       "version_major": 2,
       "version_minor": 0
      },
      "text/plain": [
       "FloatProgress(value=0.0, bar_style='info', description='Progress:', layout=Layout(height='25px', width='50%'),…"
      ]
     },
     "metadata": {},
     "output_type": "display_data"
    }
   ],
   "source": [
    "# ¿Cuál es la marca con mayor precio? ¿En qué estado?"
   ]
  },
  {
   "cell_type": "code",
   "execution_count": 7,
   "id": "80c1550d",
   "metadata": {},
   "outputs": [
    {
     "data": {
      "application/vnd.jupyter.widget-view+json": {
       "model_id": "",
       "version_major": 2,
       "version_minor": 0
      },
      "text/plain": [
       "FloatProgress(value=0.0, bar_style='info', description='Progress:', layout=Layout(height='25px', width='50%'),…"
      ]
     },
     "metadata": {},
     "output_type": "display_data"
    },
    {
     "name": "stdout",
     "output_type": "stream",
     "text": [
      "La marca con el precio m?s alto es DIVA CUP 2 con un precio de 690.0 en el estado de JALISCO."
     ]
    }
   ],
   "source": [
    "from pyspark.sql.functions import col, max\n",
    "\n",
    "# Encuentra la marca con el precio más alto y el estado correspondiente\n",
    "max_price_info = filtered_df.orderBy(col(\"precio\").desc()).select(\"marca\", \"precio\", \"estado\").first()\n",
    "\n",
    "print(f\"La marca con el precio más alto es {max_price_info['marca']} con un precio de {max_price_info['precio']} en el estado de {max_price_info['estado']}.\")"
   ]
  },
  {
   "cell_type": "code",
   "execution_count": 8,
   "id": "316d98ee",
   "metadata": {},
   "outputs": [
    {
     "data": {
      "application/vnd.jupyter.widget-view+json": {
       "model_id": "",
       "version_major": 2,
       "version_minor": 0
      },
      "text/plain": [
       "FloatProgress(value=0.0, bar_style='info', description='Progress:', layout=Layout(height='25px', width='50%'),…"
      ]
     },
     "metadata": {},
     "output_type": "display_data"
    }
   ],
   "source": [
    "# ¿Cuál es la marca con menor precio en CIUDAD DE MÉXICO?"
   ]
  },
  {
   "cell_type": "code",
   "execution_count": 9,
   "id": "fdf3c43d",
   "metadata": {},
   "outputs": [
    {
     "data": {
      "application/vnd.jupyter.widget-view+json": {
       "model_id": "",
       "version_major": 2,
       "version_minor": 0
      },
      "text/plain": [
       "FloatProgress(value=0.0, bar_style='info', description='Progress:', layout=Layout(height='25px', width='50%'),…"
      ]
     },
     "metadata": {},
     "output_type": "display_data"
    },
    {
     "name": "stdout",
     "output_type": "stream",
     "text": [
      "La marca con el precio m?s bajo en Ciudad de M?xico es S/M con un precio de 1.6."
     ]
    }
   ],
   "source": [
    "# Filtra por estados que contengan la secuencia 'CIUDAD DE'\n",
    "df_cdmx = filtered_df.filter(col(\"estado\").contains(\"CIUDAD DE\"))\n",
    "\n",
    "# Encuentra la marca con el precio más bajo y el estado correspondiente\n",
    "min_price_info = df_cdmx.orderBy(col(\"precio\").asc()).select(\"marca\", \"precio\", \"municipio\").first()\n",
    "\n",
    "print(f\"La marca con el precio más bajo en Ciudad de México es {min_price_info['marca']} con un precio de {min_price_info['precio']}.\")"
   ]
  },
  {
   "cell_type": "code",
   "execution_count": 10,
   "id": "f16cf069",
   "metadata": {},
   "outputs": [
    {
     "data": {
      "application/vnd.jupyter.widget-view+json": {
       "model_id": "",
       "version_major": 2,
       "version_minor": 0
      },
      "text/plain": [
       "FloatProgress(value=0.0, bar_style='info', description='Progress:', layout=Layout(height='25px', width='50%'),…"
      ]
     },
     "metadata": {},
     "output_type": "display_data"
    }
   ],
   "source": [
    "# ¿Cuál es la marca con mayores observaciones?"
   ]
  },
  {
   "cell_type": "code",
   "execution_count": 11,
   "id": "da1d3a89",
   "metadata": {},
   "outputs": [
    {
     "data": {
      "application/vnd.jupyter.widget-view+json": {
       "model_id": "",
       "version_major": 2,
       "version_minor": 0
      },
      "text/plain": [
       "FloatProgress(value=0.0, bar_style='info', description='Progress:', layout=Layout(height='25px', width='50%'),…"
      ]
     },
     "metadata": {},
     "output_type": "display_data"
    },
    {
     "name": "stdout",
     "output_type": "stream",
     "text": [
      "La marca con el mayor n?mero de observaciones es S/M, con 16231 observaciones."
     ]
    }
   ],
   "source": [
    "# Agrupa por la columna 'marca' y cuenta el número de observaciones para cada marca\n",
    "brand_counts = filtered_df.groupBy(\"marca\").count()\n",
    "\n",
    "# Ordena los resultados por el conteo en orden descendente y toma la primera fila\n",
    "most_observed_brand = brand_counts.orderBy(col(\"count\").desc()).first()\n",
    "\n",
    "# Verifica si hay resultados antes de acceder al resultado\n",
    "if most_observed_brand:\n",
    "    print(f\"La marca con el mayor número de observaciones es {most_observed_brand['marca']}, con {most_observed_brand['count']} observaciones.\")\n",
    "else:\n",
    "    print(\"No se encontraron registros en el dataset.\")"
   ]
  },
  {
   "cell_type": "code",
   "execution_count": 12,
   "id": "32c172e5",
   "metadata": {},
   "outputs": [
    {
     "data": {
      "application/vnd.jupyter.widget-view+json": {
       "model_id": "",
       "version_major": 2,
       "version_minor": 0
      },
      "text/plain": [
       "FloatProgress(value=0.0, bar_style='info', description='Progress:', layout=Layout(height='25px', width='50%'),…"
      ]
     },
     "metadata": {},
     "output_type": "display_data"
    }
   ],
   "source": [
    "# ¿Cuáles son el top 5 de marcas con mayor precio en cada estado? ¿Son diferentes?"
   ]
  },
  {
   "cell_type": "code",
   "execution_count": 13,
   "id": "dea30f9c",
   "metadata": {},
   "outputs": [
    {
     "data": {
      "application/vnd.jupyter.widget-view+json": {
       "model_id": "",
       "version_major": 2,
       "version_minor": 0
      },
      "text/plain": [
       "FloatProgress(value=0.0, bar_style='info', description='Progress:', layout=Layout(height='25px', width='50%'),…"
      ]
     },
     "metadata": {},
     "output_type": "display_data"
    },
    {
     "name": "stdout",
     "output_type": "stream",
     "text": [
      "+-------------------+--------------------+------+----------+\n",
      "|             estado|               marca|precio|row_number|\n",
      "+-------------------+--------------------+------+----------+\n",
      "|     AGUASCALIENTES|                 S/M| 570.0|         1|\n",
      "|     AGUASCALIENTES|                 S/M| 550.0|         2|\n",
      "|     AGUASCALIENTES|HUGGIES. ULTRA CO...| 485.0|         3|\n",
      "|     AGUASCALIENTES|JOSE CUERVO TRADI...| 470.0|         4|\n",
      "|     AGUASCALIENTES|JOSE CUERVO TRADI...| 470.0|         5|\n",
      "|    BAJA CALIFORNIA|                 S/M| 499.0|         1|\n",
      "|    BAJA CALIFORNIA|JOSE CUERVO TRADI...| 469.0|         2|\n",
      "|    BAJA CALIFORNIA|JOSE CUERVO TRADI...| 469.0|         3|\n",
      "|    BAJA CALIFORNIA|HUGGIES. ULTRA CO...| 419.0|         4|\n",
      "|    BAJA CALIFORNIA|HUGGIES. ULTRA CO...| 419.0|         5|\n",
      "|BAJA CALIFORNIA SUR|                 S/M| 685.0|         1|\n",
      "|BAJA CALIFORNIA SUR|                 S/M| 685.0|         2|\n",
      "|BAJA CALIFORNIA SUR|          DIVA CUP 1| 584.0|         3|\n",
      "|BAJA CALIFORNIA SUR|          DIVA CUP 2| 584.0|         4|\n",
      "|BAJA CALIFORNIA SUR|          DIVA CUP 1| 584.0|         5|\n",
      "|           CAMPECHE|                 S/M| 499.0|         1|\n",
      "|           CAMPECHE|                 S/M| 499.0|         2|\n",
      "|           CAMPECHE|           CAZADORES| 469.0|         3|\n",
      "|           CAMPECHE|           CAZADORES| 469.0|         4|\n",
      "|           CAMPECHE|HUGGIES. ULTRA CO...| 469.0|         5|\n",
      "+-------------------+--------------------+------+----------+\n",
      "only showing top 20 rows\n",
      "\n",
      "+--------------------+----------------------------------------------------------------------------------------------------------------------------+\n",
      "|estado              |top_5_brands                                                                                                                |\n",
      "+--------------------+----------------------------------------------------------------------------------------------------------------------------+\n",
      "|AGUASCALIENTES      |[S/M, S/M, HUGGIES. ULTRA CONFORT, JOSE CUERVO TRADICIONAL, JOSE CUERVO TRADICIONAL]                                        |\n",
      "|BAJA CALIFORNIA     |[S/M, JOSE CUERVO TRADICIONAL, JOSE CUERVO TRADICIONAL, HUGGIES. ULTRA CONFORT, HUGGIES. ULTRA CONFORT]                     |\n",
      "|BAJA CALIFORNIA SUR |[S/M, S/M, DIVA CUP 1, DIVA CUP 2, DIVA CUP 1]                                                                              |\n",
      "|CAMPECHE            |[S/M, S/M, CAZADORES, CAZADORES, HUGGIES. ULTRA CONFORT]                                                                    |\n",
      "|CHIAPAS             |[HUGGIES. ULTRA CONFORT, HUGGIES. ULTRA CONFORT, HUGGIES. ULTRA CONFORT, HUGGIES. ULTRA CONFORT, KLEEN BEBÉ. ABSORSEC ULTRA]|\n",
      "|CHIHUAHUA           |[DIVA CUP 1, JOSE CUERVO TRADICIONAL, JOSE CUERVO TRADICIONAL, HUGGIES. ULTRA CONFORT, HUGGIES. ULTRA CONFORT]              |\n",
      "|CIUDAD DE MÉXICO    |[DIVA CUP 2, DIVA CUP 2, S/M, S/M, S/M]                                                                                     |\n",
      "|COAHUILA DE ZARAGOZA|[S/M, JOSE CUERVO TRADICIONAL, CAZADORES, JOSE CUERVO TRADICIONAL, CAZADORES]                                               |\n",
      "|DURANGO             |[DIVA CUP 1, DIVA CUP 1, S/M, CAZADORES, CAZADORES]                                                                         |\n",
      "|ESTADO DE MÉXICO    |[DIVA CUP 2, DIVA CUP 2, S/M, S/M, S/M]                                                                                     |\n",
      "|GUANAJUATO          |[DIVA CUP 2, DIVA CUP 1, DIVA CUP 1, DIVA CUP 2, DIVA CUP 1]                                                                |\n",
      "|GUERRERO            |[CAZADORES, S/M, CAZADORES, HUGGIES. ULTRA CONFORT, HUGGIES. ULTRA CONFORT]                                                 |\n",
      "|HIDALGO             |[S/M, CAZADORES, S/M, S/M, HUGGIES. ULTRA CONFORT]                                                                          |\n",
      "|JALISCO             |[DIVA CUP 2, DIVA CUP 2, DIVA CUP 1, DIVA CUP 1, S/M]                                                                       |\n",
      "|MICHOACÁN DE OCAMPO |[S/M, S/M, CAZADORES, S/M, S/M]                                                                                             |\n",
      "|MORELOS             |[S/M, S/M, S/M, S/M, CAZADORES]                                                                                             |\n",
      "|NUEVO LEÓN          |[DIVA CUP 2, DIVA CUP 1, CAZADORES, JOSE CUERVO TRADICIONAL, JOSE CUERVO TRADICIONAL]                                       |\n",
      "|OAXACA              |[S/M, HUGGIES. ULTRA CONFORT, HUGGIES. ULTRA CONFORT, HUGGIES. ULTRA CONFORT, HUGGIES. ULTRA CONFORT]                       |\n",
      "|PUEBLA              |[DIVA CUP 2, DIVA CUP 2, S/M, S/M, DIVA CUP 1]                                                                              |\n",
      "|QUERÉTARO           |[DIVA CUP 2, S/M, DIVA CUP 1, DIVA CUP 1, S/M]                                                                              |\n",
      "|QUINTANA ROO        |[S/M, S/M, S/M, S/M, JOSE CUERVO TRADICIONAL]                                                                               |\n",
      "|SAN LUIS POTOSÍ     |[DIVA CUP 1, DIVA CUP 2, DIVA CUP 1, DIVA CUP 2, S/M]                                                                       |\n",
      "|SINALOA             |[NATURELLA, OLEICO, OLEICO, OLEICO, SABA]                                                                                   |\n",
      "|SONORA              |[S/M, S/M, S/M, S/M, CAZADORES]                                                                                             |\n",
      "|TABASCO             |[S/M, S/M, HUGGIES. ULTRA CONFORT, HUGGIES. ULTRA CONFORT, HUGGIES. ULTRA CONFORT]                                          |\n",
      "|TAMAULIPAS          |[HUGGIES. ULTRA CONFORT, HUGGIES. ULTRA CONFORT, HUGGIES. ULTRA CONFORT, HUGGIES. ULTRA CONFORT, S/M]                       |\n",
      "|TLAXCALA            |[HUGGIES. ULTRA CONFORT, JOSE CUERVO TRADICIONAL, JOSE CUERVO TRADICIONAL, HUGGIES. ULTRA CONFORT, HUGGIES. ULTRA CONFORT]  |\n",
      "|VERACRUZ            |[S/M, HUGGIES. ULTRA CONFORT, S/M, S/M, S/M]                                                                                |\n",
      "|YUCATÁN             |[S/M, S/M, S/M, JOSE CUERVO TRADICIONAL, CAZADORES]                                                                         |\n",
      "|ZACATECAS           |[DIVA CUP 1, DIVA CUP 1, S/M, JOSE CUERVO TRADICIONAL, CAZADORES]                                                           |\n",
      "+--------------------+----------------------------------------------------------------------------------------------------------------------------+"
     ]
    }
   ],
   "source": [
    "from pyspark.sql import SparkSession\n",
    "from pyspark.sql.functions import col, row_number, collect_list\n",
    "from pyspark.sql.window import Window\n",
    "\n",
    "# Definir una ventana ordenada por precio descendente dentro de cada estado\n",
    "windowSpec = Window.partitionBy(\"estado\").orderBy(col(\"precio\").desc())\n",
    "\n",
    "# Aplicar la ventana con un número de fila para identificar los 5 principales\n",
    "state_brand_prices = filtered_df.withColumn(\"row_number\", row_number().over(windowSpec)) \\\n",
    "    .filter(col(\"row_number\") <= 5) \\\n",
    "    .select(\"estado\", \"marca\", \"precio\", \"row_number\")\n",
    "\n",
    "state_brand_prices.show()\n",
    "\n",
    "# Para comparar las 5 listas principales en diferentes estados, las recopilamos e imprimimos agrupadas por estado.\n",
    "top_brands_by_state = state_brand_prices.groupBy(\"estado\") \\\n",
    "    .agg(collect_list(\"marca\").alias(\"top_5_brands\")) \\\n",
    "    .orderBy(\"estado\")\n",
    "top_brands_by_state.show(50, False)\n"
   ]
  },
  {
   "cell_type": "code",
   "execution_count": 14,
   "id": "cdb6eeb6",
   "metadata": {},
   "outputs": [
    {
     "data": {
      "application/vnd.jupyter.widget-view+json": {
       "model_id": "",
       "version_major": 2,
       "version_minor": 0
      },
      "text/plain": [
       "FloatProgress(value=0.0, bar_style='info', description='Progress:', layout=Layout(height='25px', width='50%'),…"
      ]
     },
     "metadata": {},
     "output_type": "display_data"
    }
   ],
   "source": [
    "# ¿Cuáles son el top 5 de marcas con menor precio en CIUDAD DE MÉXICO?"
   ]
  },
  {
   "cell_type": "code",
   "execution_count": 15,
   "id": "32cf9024",
   "metadata": {},
   "outputs": [
    {
     "data": {
      "application/vnd.jupyter.widget-view+json": {
       "model_id": "",
       "version_major": 2,
       "version_minor": 0
      },
      "text/plain": [
       "FloatProgress(value=0.0, bar_style='info', description='Progress:', layout=Layout(height='25px', width='50%'),…"
      ]
     },
     "metadata": {},
     "output_type": "display_data"
    },
    {
     "name": "stdout",
     "output_type": "stream",
     "text": [
      "+-------------------+------+------+----------+\n",
      "|             estado| marca|precio|row_number|\n",
      "+-------------------+------+------+----------+\n",
      "|     AGUASCALIENTES|   S/M|   1.6|         1|\n",
      "|     AGUASCALIENTES|   S/M|   1.6|         2|\n",
      "|     AGUASCALIENTES|   S/M|   1.8|         3|\n",
      "|     AGUASCALIENTES|   S/M|   2.9|         4|\n",
      "|     AGUASCALIENTES|   S/M|   2.9|         5|\n",
      "|    BAJA CALIFORNIA|LIVEAN|   3.5|         1|\n",
      "|    BAJA CALIFORNIA|CLIGHT|   3.6|         2|\n",
      "|    BAJA CALIFORNIA|LIVEAN|   3.6|         3|\n",
      "|    BAJA CALIFORNIA|CLIGHT|   3.6|         4|\n",
      "|    BAJA CALIFORNIA|CLIGHT|   3.7|         5|\n",
      "|BAJA CALIFORNIA SUR|   S/M|   1.8|         1|\n",
      "|BAJA CALIFORNIA SUR|   S/M|   1.8|         2|\n",
      "|BAJA CALIFORNIA SUR|   S/M|   1.8|         3|\n",
      "|BAJA CALIFORNIA SUR|   S/M|   2.1|         4|\n",
      "|BAJA CALIFORNIA SUR|   S/M|   2.1|         5|\n",
      "|           CAMPECHE|   S/M|   1.3|         1|\n",
      "|           CAMPECHE|   S/M|   1.3|         2|\n",
      "|           CAMPECHE|   S/M|   1.3|         3|\n",
      "|           CAMPECHE|   S/M|   1.3|         4|\n",
      "|           CAMPECHE|   S/M|   1.3|         5|\n",
      "+-------------------+------+------+----------+\n",
      "only showing top 20 rows\n",
      "\n",
      "+--------------------+------------------------------------------------------+\n",
      "|estado              |top_5_lowest_brands                                   |\n",
      "+--------------------+------------------------------------------------------+\n",
      "|AGUASCALIENTES      |[S/M, S/M, S/M, S/M, S/M]                             |\n",
      "|BAJA CALIFORNIA     |[LIVEAN, CLIGHT, LIVEAN, CLIGHT, CLIGHT]              |\n",
      "|BAJA CALIFORNIA SUR |[S/M, S/M, S/M, S/M, S/M]                             |\n",
      "|CAMPECHE            |[S/M, S/M, S/M, S/M, S/M]                             |\n",
      "|CHIAPAS             |[LA PERLA, PRECISSIMO, LA PERLA, LA PERLA, PRECISSIMO]|\n",
      "|CHIHUAHUA           |[S/M, S/M, S/M, S/M, S/M]                             |\n",
      "|CIUDAD DE MÉXICO    |[S/M, S/M, S/M, S/M, S/M]                             |\n",
      "|COAHUILA DE ZARAGOZA|[S/M, S/M, S/M, S/M, S/M]                             |\n",
      "|DURANGO             |[S/M, S/M, S/M, S/M, S/M]                             |\n",
      "|ESTADO DE MÉXICO    |[S/M, S/M, S/M, S/M, S/M]                             |\n",
      "|GUANAJUATO          |[S/M, S/M, S/M, S/M, S/M]                             |\n",
      "|GUERRERO            |[S/M, S/M, S/M, S/M, S/M]                             |\n",
      "|HIDALGO             |[S/M, S/M, S/M, LIVEAN, S/M]                          |\n",
      "|JALISCO             |[S/M, S/M, S/M, S/M, S/M]                             |\n",
      "|MICHOACÁN DE OCAMPO |[S/M, S/M, S/M, S/M, S/M]                             |\n",
      "|MORELOS             |[S/M, S/M, S/M, LIVEAN, S/M]                          |\n",
      "|NUEVO LEÓN          |[S/M, S/M, S/M, S/M, S/M]                             |\n",
      "|OAXACA              |[S/M, S/M, S/M, S/M, S/M]                             |\n",
      "|PUEBLA              |[S/M, S/M, S/M, S/M, S/M]                             |\n",
      "|QUERÉTARO           |[S/M, S/M, S/M, S/M, S/M]                             |\n",
      "|QUINTANA ROO        |[S/M, S/M, S/M, S/M, S/M]                             |\n",
      "|SAN LUIS POTOSÍ     |[S/M, S/M, S/M, S/M, S/M]                             |\n",
      "|SINALOA             |[EL DORADO, KOTEX, EL DORADO, EL DORADO, EL DORADO]   |\n",
      "|SONORA              |[S/M, S/M, S/M, CLIGHT, CLIGHT]                       |\n",
      "|TABASCO             |[S/M, S/M, S/M, S/M, S/M]                             |\n",
      "|TAMAULIPAS          |[CLIGHT, CLIGHT, CLIGHT, CLIGHT, CLIGHT]              |\n",
      "|TLAXCALA            |[S/M, S/M, S/M, S/M, S/M]                             |\n",
      "|VERACRUZ            |[S/M, S/M, S/M, S/M, S/M]                             |\n",
      "|YUCATÁN             |[S/M, S/M, S/M, S/M, S/M]                             |\n",
      "|ZACATECAS           |[S/M, S/M, S/M, S/M, S/M]                             |\n",
      "+--------------------+------------------------------------------------------+"
     ]
    }
   ],
   "source": [
    "# NOTA: use Contine por que no limpie los acentos\n",
    "# Define una ventana ordenada por precio ascendente dentro de cada estado que contiene \"CIUDAD DE\".\n",
    "windowSpec = Window.partitionBy(\"estado\").orderBy(col(\"precio\").asc())\n",
    "\n",
    "# Aplica la especificación de ventana con un número de fila para identificar el top 5 de precios más bajos.\n",
    "lowest_price_brands = filtered_df.withColumn(\"row_number\", row_number().over(windowSpec)) \\\n",
    "    .filter(col(\"row_number\") <= 5) \\\n",
    "    .select(\"estado\", \"marca\", \"precio\", \"row_number\")\n",
    "\n",
    "# Muestra las 5 marcas con los precios más bajos en los estados que contienen \"CIUDAD DE\".\n",
    "lowest_price_brands.show()\n",
    "\n",
    "# Para comparar las listas del top 5 entre diferentes \"CIUDAD DE\", las recopilamos y las mostramos agrupadas por estado.\n",
    "top_brands_by_state_lowest = lowest_price_brands.groupBy(\"estado\") \\\n",
    "    .agg(collect_list(\"marca\").alias(\"top_5_lowest_brands\")) \\\n",
    "    .orderBy(\"estado\")\n",
    "top_brands_by_state_lowest.show(50, False)"
   ]
  },
  {
   "cell_type": "code",
   "execution_count": 16,
   "id": "f25bd0e8",
   "metadata": {},
   "outputs": [
    {
     "data": {
      "application/vnd.jupyter.widget-view+json": {
       "model_id": "",
       "version_major": 2,
       "version_minor": 0
      },
      "text/plain": [
       "FloatProgress(value=0.0, bar_style='info', description='Progress:', layout=Layout(height='25px', width='50%'),…"
      ]
     },
     "metadata": {},
     "output_type": "display_data"
    }
   ],
   "source": [
    "# ¿Cuáles son el top 5 de marcas con mayores observaciones? ¿Se parecen a las de nivel por estado?"
   ]
  },
  {
   "cell_type": "code",
   "execution_count": 17,
   "id": "47435ae8",
   "metadata": {},
   "outputs": [
    {
     "data": {
      "application/vnd.jupyter.widget-view+json": {
       "model_id": "",
       "version_major": 2,
       "version_minor": 0
      },
      "text/plain": [
       "FloatProgress(value=0.0, bar_style='info', description='Progress:', layout=Layout(height='25px', width='50%'),…"
      ]
     },
     "metadata": {},
     "output_type": "display_data"
    },
    {
     "name": "stdout",
     "output_type": "stream",
     "text": [
      "+----------+-----+\n",
      "|     marca|count|\n",
      "+----------+-----+\n",
      "|       S/M|16231|\n",
      "|LA COSTEÑA| 7509|\n",
      "|       FUD| 6177|\n",
      "|     BIMBO| 5207|\n",
      "|  SABRITAS| 4741|\n",
      "+----------+-----+"
     ]
    }
   ],
   "source": [
    "from pyspark.sql.functions import collect_list, array_contains\n",
    "\n",
    "# Contar las ocurrencias de cada marca en todo el dataset\n",
    "brand_occurrences = filtered_df.groupBy(\"marca\").count()\n",
    "\n",
    "# Ordenar las marcas por el número de observaciones en orden descendente y seleccionar el top 5\n",
    "top_5_brands_observations = brand_occurrences.orderBy(col(\"count\").desc()).limit(5)\n",
    "\n",
    "# Mostrar el top 5 de marcas con mayores observaciones\n",
    "top_5_brands_observations.show()"
   ]
  },
  {
   "cell_type": "code",
   "execution_count": 18,
   "id": "01824612",
   "metadata": {},
   "outputs": [
    {
     "data": {
      "application/vnd.jupyter.widget-view+json": {
       "model_id": "",
       "version_major": 2,
       "version_minor": 0
      },
      "text/plain": [
       "FloatProgress(value=0.0, bar_style='info', description='Progress:', layout=Layout(height='25px', width='50%'),…"
      ]
     },
     "metadata": {},
     "output_type": "display_data"
    },
    {
     "name": "stdout",
     "output_type": "stream",
     "text": [
      "+----------+\n",
      "|     marca|\n",
      "+----------+\n",
      "|       S/M|\n",
      "|LA COSTEÑA|\n",
      "|       FUD|\n",
      "|     BIMBO|\n",
      "|  SABRITAS|\n",
      "+----------+\n",
      "\n",
      "+-----+---------------+------+----------+\n",
      "|marca|         estado|precio|row_number|\n",
      "+-----+---------------+------+----------+\n",
      "|  S/M|      ZACATECAS| 519.0|         3|\n",
      "|  S/M|        YUCATÁN| 499.0|         3|\n",
      "|  S/M|        YUCATÁN| 499.0|         2|\n",
      "|  S/M|        YUCATÁN| 509.0|         1|\n",
      "|  S/M|       VERACRUZ| 464.9|         5|\n",
      "|  S/M|       VERACRUZ| 464.9|         4|\n",
      "|  S/M|       VERACRUZ| 499.0|         3|\n",
      "|  S/M|       VERACRUZ| 529.0|         1|\n",
      "|  S/M|     TAMAULIPAS| 464.9|         5|\n",
      "|  S/M|        TABASCO| 509.0|         2|\n",
      "|  S/M|        TABASCO| 570.0|         1|\n",
      "|  S/M|         SONORA| 489.0|         4|\n",
      "|  S/M|         SONORA| 489.9|         3|\n",
      "|  S/M|         SONORA| 489.9|         2|\n",
      "|  S/M|         SONORA| 499.0|         1|\n",
      "|  S/M|SAN LUIS POTOSÍ| 499.0|         5|\n",
      "|  S/M|   QUINTANA ROO| 527.0|         4|\n",
      "|  S/M|   QUINTANA ROO| 527.0|         3|\n",
      "|  S/M|   QUINTANA ROO| 527.0|         2|\n",
      "|  S/M|   QUINTANA ROO| 550.0|         1|\n",
      "+-----+---------------+------+----------+\n",
      "only showing top 20 rows\n",
      "\n",
      "N?mero de estados que tienen al menos una marca en com?n con las top 5 de observaciones: 24"
     ]
    }
   ],
   "source": [
    "from pyspark.sql.types import StringType  # Importa StringType aquí\n",
    "\n",
    "# Buscar las marcas top 5 de observaciones en una lista\n",
    "top_5_observation_list = [row['marca'] for row in top_5_brands_observations.collect()]\n",
    "\n",
    "# Ahora creamos el DataFrame especificando el esquema\n",
    "top_5_obs_df = spark.createDataFrame(top_5_observation_list, StringType()).withColumnRenamed(\"value\", \"marca\")\n",
    "top_5_obs_df.show()\n",
    "\n",
    "# Realizar un join entre el DataFrame de top 5 por precio y el DataFrame de observaciones top 5\n",
    "comparison_df = state_brand_prices.join(top_5_obs_df, \"marca\", \"inner\")\n",
    "\n",
    "# Mostrar los resultados de la comparación\n",
    "comparison_df.show()\n",
    "\n",
    "# Comprobar cuántos estados tienen marcas que están en las top 5 de observaciones\n",
    "distinct_states_with_top5_obs = comparison_df.select(\"estado\").distinct().count()\n",
    "print(f\"Número de estados que tienen al menos una marca en común con las top 5 de observaciones: {distinct_states_with_top5_obs}\")"
   ]
  },
  {
   "cell_type": "code",
   "execution_count": 19,
   "id": "fc074fd1",
   "metadata": {},
   "outputs": [
    {
     "data": {
      "application/vnd.jupyter.widget-view+json": {
       "model_id": "",
       "version_major": 2,
       "version_minor": 0
      },
      "text/plain": [
       "FloatProgress(value=0.0, bar_style='info', description='Progress:', layout=Layout(height='25px', width='50%'),…"
      ]
     },
     "metadata": {},
     "output_type": "display_data"
    }
   ],
   "source": [
    "# ¿Ha dejado de existir alguna marca durante los años que tienes? ¿Cuál? ¿Cuándo desapareció?"
   ]
  },
  {
   "cell_type": "code",
   "execution_count": 20,
   "id": "35ae35e5",
   "metadata": {},
   "outputs": [
    {
     "data": {
      "application/vnd.jupyter.widget-view+json": {
       "model_id": "",
       "version_major": 2,
       "version_minor": 0
      },
      "text/plain": [
       "FloatProgress(value=0.0, bar_style='info', description='Progress:', layout=Layout(height='25px', width='50%'),…"
      ]
     },
     "metadata": {},
     "output_type": "display_data"
    },
    {
     "name": "stdout",
     "output_type": "stream",
     "text": [
      "+--------------------+--------------------+----------------+--------------------+------+--------------+--------------------+--------------------+--------------------+--------------------+--------------+--------------+---------+-----------+--------+----------+-------+\n",
      "|            producto|        presentacion|           marca|           categoria|precio|fecha_registro|    cadena_comercial|                giro|    nombre_comercial|           direccion|        estado|     municipio|  latitud|   longitud|catalogo|     fecha|fecha_y|\n",
      "+--------------------+--------------------+----------------+--------------------+------+--------------+--------------------+--------------------+--------------------+--------------------+--------------+--------------+---------+-----------+--------+----------+-------+\n",
      "|    TORTILLA DE MAIZ|        1 KG. GRANEL|             S/M|TORTILLAS Y DERIV...|  22.0|    2023-05-02|TORTILLERIAS TRAD...|        TORTILLERÍAS|TORTILLERIA 5 DE ...|EL GUARDA 128-A, ...|AGUASCALIENTES|AGUASCALIENTES|21.880156|-102.251932| BASICOS|2023-05-02|   2023|\n",
      "|    TORTILLA DE MAIZ|        1 KG. GRANEL|             S/M|TORTILLAS Y DERIV...|  24.0|    2023-05-02|TORTILLERIAS TRAD...|        TORTILLERÍAS|TORTILLERIA DEL C...|SALTO DE LOS SALA...|AGUASCALIENTES|AGUASCALIENTES|21.883080|-102.254736| BASICOS|2023-05-02|   2023|\n",
      "|    TORTILLA DE MAIZ|        1 KG. GRANEL|             S/M|TORTILLAS Y DERIV...|  23.0|    2023-05-02|TORTILLERIAS TRAD...|        TORTILLERÍAS|TORTILLERIA HERNA...|OJO CALIENTE 1621...|AGUASCALIENTES|AGUASCALIENTES|21.885860|-102.255804| BASICOS|2023-05-02|   2023|\n",
      "|    TORTILLA DE MAIZ|        1 KG. GRANEL|             S/M|TORTILLAS Y DERIV...|  22.0|    2023-05-02|TORTILLERIAS TRAD...|        TORTILLERÍAS|TORTILLERIA SAN A...|OJO CALIENTE 304-...|AGUASCALIENTES|AGUASCALIENTES|21.874212|-102.247971| BASICOS|2023-05-02|   2023|\n",
      "|    TORTILLA DE MAIZ|        1 KG. GRANEL|             S/M|TORTILLAS Y DERIV...|  22.0|    2023-05-02|TORTILLERIAS TRAD...|        TORTILLERÍAS|TORTILLERIA SAN G...|OJO CALIENTE 952,...|AGUASCALIENTES|AGUASCALIENTES|21.881533|-102.253792| BASICOS|2023-05-02|   2023|\n",
      "|              ACEITE|BOTELLA 1 LT. VEG...|           1-2-3|ACEITES Y GRASAS ...|  52.0|    2023-05-02|            WAL-MART|SUPERMERCADO / TI...|WALMART SUCURSAL ...|INDEPENDENCIA 235...|AGUASCALIENTES|AGUASCALIENTES|21.922922|-102.297692| BASICOS|2023-05-02|   2023|\n",
      "|              ACEITE|BOTELLA 946 ML. C...|          CANOIL|ACEITES Y GRASAS ...|  47.0|    2023-05-02|            WAL-MART|SUPERMERCADO / TI...|WALMART SUCURSAL ...|INDEPENDENCIA 235...|AGUASCALIENTES|AGUASCALIENTES|21.922922|-102.297692| BASICOS|2023-05-02|   2023|\n",
      "|              ACEITE|BOTELLA 845 ML. C...|         CAPULLO|ACEITES Y GRASAS ...|  53.0|    2023-05-02|            WAL-MART|SUPERMERCADO / TI...|WALMART SUCURSAL ...|INDEPENDENCIA 235...|AGUASCALIENTES|AGUASCALIENTES|21.922922|-102.297692| BASICOS|2023-05-02|   2023|\n",
      "|              ACEITE|BOTELLA 800 ML. SOYA|     GREAT VALUE|ACEITES Y GRASAS ...|  42.5|    2023-05-02|            WAL-MART|SUPERMERCADO / TI...|WALMART SUCURSAL ...|INDEPENDENCIA 235...|AGUASCALIENTES|AGUASCALIENTES|21.922922|-102.297692| BASICOS|2023-05-02|   2023|\n",
      "|              ACEITE|BOTELLA 946 ML. SOYA|        NUTRIOLI|ACEITES Y GRASAS ...|  50.0|    2023-05-02|            WAL-MART|SUPERMERCADO / TI...|WALMART SUCURSAL ...|INDEPENDENCIA 235...|AGUASCALIENTES|AGUASCALIENTES|21.922922|-102.297692| BASICOS|2023-05-02|   2023|\n",
      "|              ACEITE|BOTELLA 825 ML. C...|          OLEICO|ACEITES Y GRASAS ...|  92.0|    2023-05-02|            WAL-MART|SUPERMERCADO / TI...|WALMART SUCURSAL ...|INDEPENDENCIA 235...|AGUASCALIENTES|AGUASCALIENTES|21.922922|-102.297692| BASICOS|2023-05-02|   2023|\n",
      "|              ACEITE|BOTELLA 850 ML. V...|       SABROSANO|ACEITES Y GRASAS ...|  43.5|    2023-05-02|            WAL-MART|SUPERMERCADO / TI...|WALMART SUCURSAL ...|INDEPENDENCIA 235...|AGUASCALIENTES|AGUASCALIENTES|21.922922|-102.297692| BASICOS|2023-05-02|   2023|\n",
      "|     ACEITE DE OLIVA|BOTELLA 750 ML. E...|       CARBONELL|PRODUCTOS DE TEMP...| 197.0|    2023-05-02|            WAL-MART|SUPERMERCADO / TI...|WALMART SUCURSAL ...|INDEPENDENCIA 235...|AGUASCALIENTES|AGUASCALIENTES|21.922922|-102.297692| BASICOS|2023-05-02|   2023|\n",
      "|ACONDICIONADOR Y ...|BOTELLA 750 ML. E...|         CAPRICE|ARTS. PARA EL CUI...|  51.0|    2023-05-02|            WAL-MART|SUPERMERCADO / TI...|WALMART SUCURSAL ...|INDEPENDENCIA 235...|AGUASCALIENTES|AGUASCALIENTES|21.922922|-102.297692| BASICOS|2023-05-02|   2023|\n",
      "|ACONDICIONADOR Y ...|ENVASE 300 ML. PR...|HEAD & SHOULDERS|ARTS. PARA EL CUI...|  75.0|    2023-05-02|            WAL-MART|SUPERMERCADO / TI...|WALMART SUCURSAL ...|INDEPENDENCIA 235...|AGUASCALIENTES|AGUASCALIENTES|21.922922|-102.297692| BASICOS|2023-05-02|   2023|\n",
      "|ACONDICIONADOR Y ...|BOTELLA 700 ML. R...|         PANTENE|ARTS. PARA EL CUI...| 115.0|    2023-05-02|            WAL-MART|SUPERMERCADO / TI...|WALMART SUCURSAL ...|INDEPENDENCIA 235...|AGUASCALIENTES|AGUASCALIENTES|21.922922|-102.297692| BASICOS|2023-05-02|   2023|\n",
      "|ACONDICIONADOR Y ...|BOTELLA 620 ML. C...|           SEDAL|ARTS. PARA EL CUI...|  63.5|    2023-05-02|            WAL-MART|SUPERMERCADO / TI...|WALMART SUCURSAL ...|INDEPENDENCIA 235...|AGUASCALIENTES|AGUASCALIENTES|21.922922|-102.297692| BASICOS|2023-05-02|   2023|\n",
      "|        AGUA CON GAS|       BOTELLA 2 LT.|        PEÑAFIEL| REFRESCOS ENVASADOS|  23.0|    2023-05-02|            WAL-MART|SUPERMERCADO / TI...|WALMART SUCURSAL ...|INDEPENDENCIA 235...|AGUASCALIENTES|AGUASCALIENTES|21.922922|-102.297692| BASICOS|2023-05-02|   2023|\n",
      "|        AGUA CON GAS|CANASTILLA C / 6 ...|        PEÑAFIEL| REFRESCOS ENVASADOS|  53.5|    2023-05-02|            WAL-MART|SUPERMERCADO / TI...|WALMART SUCURSAL ...|INDEPENDENCIA 235...|AGUASCALIENTES|AGUASCALIENTES|21.922922|-102.297692| BASICOS|2023-05-02|   2023|\n",
      "|        AGUA SIN GAS|       BOTELLA 1 LT.|            CIEL| REFRESCOS ENVASADOS|  10.0|    2023-05-02|            WAL-MART|SUPERMERCADO / TI...|WALMART SUCURSAL ...|INDEPENDENCIA 235...|AGUASCALIENTES|AGUASCALIENTES|21.922922|-102.297692| BASICOS|2023-05-02|   2023|\n",
      "+--------------------+--------------------+----------------+--------------------+------+--------------+--------------------+--------------------+--------------------+--------------------+--------------+--------------+---------+-----------+--------+----------+-------+\n",
      "only showing top 20 rows"
     ]
    }
   ],
   "source": [
    "# Extraer el año de la columna 'registro' que tiene formato DD-MM-YYYY\n",
    "from pyspark.sql.functions import col, to_date, year\n",
    "\n",
    "# Convertir la columna de registro a tipo fecha y extraer el año\n",
    "filtered_df = filtered_df.withColumn(\"fecha\", to_date(col(\"fecha_registro\"), \"dd-MM-yyyy\"))\n",
    "filtered_df = filtered_df.withColumn(\"fecha_y\", year(col(\"fecha\")))\n",
    "\n",
    "# Mostrar las primeras filas para verificar\n",
    "filtered_df.show()"
   ]
  },
  {
   "cell_type": "code",
   "execution_count": 21,
   "id": "547a1e69",
   "metadata": {},
   "outputs": [
    {
     "data": {
      "application/vnd.jupyter.widget-view+json": {
       "model_id": "",
       "version_major": 2,
       "version_minor": 0
      },
      "text/plain": [
       "FloatProgress(value=0.0, bar_style='info', description='Progress:', layout=Layout(height='25px', width='50%'),…"
      ]
     },
     "metadata": {},
     "output_type": "display_data"
    },
    {
     "name": "stdout",
     "output_type": "stream",
     "text": [
      "+--------------------+--------------------+---------------+---------------+------+--------------+--------------------+--------------------+--------------------+--------------------+---------------+--------------+---------+-----------+--------+----------+-------+---------+\n",
      "|            producto|        presentacion|          marca|      categoria|precio|fecha_registro|    cadena_comercial|                giro|    nombre_comercial|           direccion|         estado|     municipio|  latitud|   longitud|catalogo|     fecha|fecha_y|last_year|\n",
      "+--------------------+--------------------+---------------+---------------+------+--------------+--------------------+--------------------+--------------------+--------------------+---------------+--------------+---------+-----------+--------+----------+-------+---------+\n",
      "|      LECHE EN POLVO|BOLSA 460 GR. ENTERA|ALPURA. CLÁSICA|LECHE PROCESADA|  73.0|    2023-05-02|            WAL-MART|SUPERMERCADO / TI...|WALMART SUCURSAL ...|INDEPENDENCIA 235...| AGUASCALIENTES|AGUASCALIENTES|21.922922|-102.297692| BASICOS|2023-05-02|   2023|     2023|\n",
      "|LECHE ULTRAPASTEU...|PARCIALMENTE DESC...|ALPURA. CLÁSICA|LECHE PROCESADA|  28.5|    2023-05-02|            WAL-MART|SUPERMERCADO / TI...|WALMART SUCURSAL ...|INDEPENDENCIA 235...| AGUASCALIENTES|AGUASCALIENTES|21.922922|-102.297692| BASICOS|2023-05-02|   2023|     2023|\n",
      "|      LECHE EN POLVO|BOLSA 460 GR. ENTERA|ALPURA. CLÁSICA|LECHE PROCESADA|  78.0|    2023-05-03|      BODEGA AURRERA|SUPERMERCADO / TI...|      BODEGA AURRERA|CONVENCION 1914 P...| AGUASCALIENTES|AGUASCALIENTES|21.886051|-102.312284| BASICOS|2023-05-03|   2023|     2023|\n",
      "|LECHE ULTRAPASTEU...|PARCIALMENTE DESC...|ALPURA. CLÁSICA|LECHE PROCESADA|  28.5|    2023-05-03|      BODEGA AURRERA|SUPERMERCADO / TI...|      BODEGA AURRERA|CONVENCION 1914 P...| AGUASCALIENTES|AGUASCALIENTES|21.886051|-102.312284| BASICOS|2023-05-03|   2023|     2023|\n",
      "|LECHE ULTRAPASTEU...|PARCIALMENTE DESC...|ALPURA. CLÁSICA|LECHE PROCESADA|  29.0|    2023-05-03|FARMACIA GUADALAJARA|           FARMACIAS|FARMACIA GUADALAJ...|AGUASCALIENTES PT...| AGUASCALIENTES|AGUASCALIENTES|21.876563|-102.318612| BASICOS|2023-05-03|   2023|     2023|\n",
      "|      LECHE EN POLVO|BOLSA 460 GR. ENTERA|ALPURA. CLÁSICA|LECHE PROCESADA|  72.5|    2023-05-04|            CHEDRAUI|SUPERMERCADO / TI...|CHEDRAUI SUCURSAL...|BLVD. JOSE MA. CH...| AGUASCALIENTES|AGUASCALIENTES|21.854349|-102.294259| BASICOS|2023-05-04|   2023|     2023|\n",
      "|LECHE ULTRAPASTEU...|PARCIALMENTE DESC...|ALPURA. CLÁSICA|LECHE PROCESADA|  28.5|    2023-05-04|            CHEDRAUI|SUPERMERCADO / TI...|CHEDRAUI SUCURSAL...|BLVD. JOSE MA. CH...| AGUASCALIENTES|AGUASCALIENTES|21.854349|-102.294259| BASICOS|2023-05-04|   2023|     2023|\n",
      "|LECHE ULTRAPASTEU...|PARCIALMENTE DESC...|ALPURA. CLÁSICA|LECHE PROCESADA|   8.0|    2023-05-04|            CHEDRAUI|SUPERMERCADO / TI...|CHEDRAUI SUCURSAL...|BLVD. JOSE MA. CH...| AGUASCALIENTES|AGUASCALIENTES|21.854349|-102.294259| BASICOS|2023-05-04|   2023|     2023|\n",
      "|LECHE ULTRAPASTEU...|PARCIALMENTE DESC...|ALPURA. CLÁSICA|LECHE PROCESADA|  29.5|    2023-05-08|        MEGA SORIANA|SUPERMERCADO / TI...|MEGA SORIANA SUCU...|AGUASCALIENTES NT...| AGUASCALIENTES|AGUASCALIENTES|21.916001|-102.290779| BASICOS|2023-05-08|   2023|     2023|\n",
      "|LECHE ULTRAPASTEU...|PARCIALMENTE DESC...|ALPURA. CLÁSICA|LECHE PROCESADA|  28.5|    2023-05-09|            WAL-MART|SUPERMERCADO / TI...|WALMART SUCURSAL ...|INDEPENDENCIA 235...| AGUASCALIENTES|AGUASCALIENTES|21.922922|-102.297692| BASICOS|2023-05-09|   2023|     2023|\n",
      "|      LECHE EN POLVO|BOLSA 460 GR. ENTERA|ALPURA. CLÁSICA|LECHE PROCESADA|  72.5|    2023-05-11|            CHEDRAUI|SUPERMERCADO / TI...|CHEDRAUI SUCURSAL...|BLVD. JOSE MA. CH...| AGUASCALIENTES|AGUASCALIENTES|21.854349|-102.294259| BASICOS|2023-05-11|   2023|     2023|\n",
      "|LECHE ULTRAPASTEU...|PARCIALMENTE DESC...|ALPURA. CLÁSICA|LECHE PROCESADA|  28.5|    2023-05-11|            CHEDRAUI|SUPERMERCADO / TI...|CHEDRAUI SUCURSAL...|BLVD. JOSE MA. CH...| AGUASCALIENTES|AGUASCALIENTES|21.854349|-102.294259| BASICOS|2023-05-11|   2023|     2023|\n",
      "|LECHE ULTRAPASTEU...|PARCIALMENTE DESC...|ALPURA. CLÁSICA|LECHE PROCESADA|   8.0|    2023-05-11|            CHEDRAUI|SUPERMERCADO / TI...|CHEDRAUI SUCURSAL...|BLVD. JOSE MA. CH...| AGUASCALIENTES|AGUASCALIENTES|21.854349|-102.294259| BASICOS|2023-05-11|   2023|     2023|\n",
      "|      LECHE EN POLVO|BOLSA 460 GR. ENTERA|ALPURA. CLÁSICA|LECHE PROCESADA|  83.9|    2023-05-12|HIPERMERCADO SORIANA|SUPERMERCADO / TI...|SORIANA HIPER SUC...|CONVENCION S/N, E...| AGUASCALIENTES|AGUASCALIENTES|21.895718|-102.310368| BASICOS|2023-05-12|   2023|     2023|\n",
      "|LECHE ULTRAPASTEU...|PARCIALMENTE DESC...|ALPURA. CLÁSICA|LECHE PROCESADA|  29.9|    2023-05-12|HIPERMERCADO SORIANA|SUPERMERCADO / TI...|SORIANA HIPER SUC...|CONVENCION S/N, E...| AGUASCALIENTES|AGUASCALIENTES|21.895718|-102.310368| BASICOS|2023-05-12|   2023|     2023|\n",
      "|LECHE ULTRAPASTEU...|PARCIALMENTE DESC...|ALPURA. CLÁSICA|LECHE PROCESADA|  29.5|    2023-05-15|        MEGA SORIANA|SUPERMERCADO / TI...|MEGA SORIANA SUCU...|AGUASCALIENTES NT...| AGUASCALIENTES|AGUASCALIENTES|21.916001|-102.290779| BASICOS|2023-05-15|   2023|     2023|\n",
      "|LECHE ULTRAPASTEU...|PARCIALMENTE DESC...|ALPURA. CLÁSICA|LECHE PROCESADA|  28.5|    2023-05-03|   SUPERMERCADOS LEY|SUPERMERCADO / TI...|LEY SUCURSAL OTAY...|BLVD. LAZARO CARD...|BAJA CALIFORNIA|       TIJUANA|32.532672|-116.953121| BASICOS|2023-05-03|   2023|     2023|\n",
      "|      LECHE EN POLVO|BOLSA 460 GR. ENTERA|ALPURA. CLÁSICA|LECHE PROCESADA|  73.0|    2023-05-03|            WAL-MART|SUPERMERCADO / TI...|WALMART SUCURSAL ...|AGUACALIENTE, ESQ...|BAJA CALIFORNIA|       TIJUANA|32.508604|-116.992893| BASICOS|2023-05-03|   2023|     2023|\n",
      "|LECHE ULTRAPASTEU...|PARCIALMENTE DESC...|ALPURA. CLÁSICA|LECHE PROCESADA|  25.5|    2023-05-03|            WAL-MART|SUPERMERCADO / TI...|WALMART SUCURSAL ...|AGUACALIENTE, ESQ...|BAJA CALIFORNIA|       TIJUANA|32.508604|-116.992893| BASICOS|2023-05-03|   2023|     2023|\n",
      "|      LECHE EN POLVO|BOLSA 460 GR. ENTERA|ALPURA. CLÁSICA|LECHE PROCESADA|  73.5|    2023-05-04|HIPERMERCADO SORIANA|SUPERMERCADO / TI...|SORIANA HIPER SUC...|PASEO DE LOS HERO...|BAJA CALIFORNIA|       TIJUANA|32.527370|-117.021026| BASICOS|2023-05-04|   2023|     2023|\n",
      "+--------------------+--------------------+---------------+---------------+------+--------------+--------------------+--------------------+--------------------+--------------------+---------------+--------------+---------+-----------+--------+----------+-------+---------+\n",
      "only showing top 20 rows"
     ]
    }
   ],
   "source": [
    "from pyspark.sql.window import Window\n",
    "from pyspark.sql.functions import max as max_\n",
    "\n",
    "# Ventana para particionar por marca\n",
    "window_spec = Window.partitionBy(\"marca\")\n",
    "\n",
    "# Encontrar el último año de aparición para cada marca\n",
    "last_appearance = filtered_df.withColumn(\"last_year\", max_(\"fecha_y\").over(window_spec))\n",
    "last_appearance.show()\n"
   ]
  },
  {
   "cell_type": "code",
   "execution_count": 22,
   "id": "5792a080",
   "metadata": {},
   "outputs": [
    {
     "data": {
      "application/vnd.jupyter.widget-view+json": {
       "model_id": "",
       "version_major": 2,
       "version_minor": 0
      },
      "text/plain": [
       "FloatProgress(value=0.0, bar_style='info', description='Progress:', layout=Layout(height='25px', width='50%'),…"
      ]
     },
     "metadata": {},
     "output_type": "display_data"
    },
    {
     "name": "stdout",
     "output_type": "stream",
     "text": [
      "+--------------------+---------+\n",
      "|               marca|last_year|\n",
      "+--------------------+---------+\n",
      "|      ALPINO. PAVINO|     2023|\n",
      "|     ALPURA. CLÁSICA|     2023|\n",
      "|ALPURA. DESLACTOSADA|     2023|\n",
      "|             BACHOCO|     2023|\n",
      "|BAYGON. CASA Y JA...|     2023|\n",
      "|    BORGES. ORIGINAL|     2023|\n",
      "|           CAZADORES|     2023|\n",
      "|         CHOCO CHOCO|     2023|\n",
      "|              CLIGHT|     2023|\n",
      "|    COCA COLA. LIGHT|     2023|\n",
      "|   DANONE. VITALÍNEA|     2023|\n",
      "|             DELICIA|     2023|\n",
      "|              EFICAZ|     2023|\n",
      "|         EL CUERNITO|     2023|\n",
      "|           EL DORADO|     2023|\n",
      "|             ENSUEÑO|     2023|\n",
      "|            FABULOSO|     2023|\n",
      "|           FLORIDA 7|     2023|\n",
      "|GOICOECHEA. DIABE...|     2023|\n",
      "|            GRANVITA|     2023|\n",
      "+--------------------+---------+\n",
      "only showing top 20 rows"
     ]
    }
   ],
   "source": [
    "from pyspark.sql import SparkSession\n",
    "from pyspark.sql.functions import col, year, max as max_\n",
    "from pyspark.sql.window import Window\n",
    "\n",
    "# Seleccione columnas distintas de marca y último año para evitar filas duplicadas\n",
    "distinct_last_appearance = last_appearance.select(\"marca\", \"last_year\").distinct()\n",
    "\n",
    "\n",
    "distinct_last_appearance.show()\n"
   ]
  },
  {
   "cell_type": "markdown",
   "id": "a21e7b87",
   "metadata": {},
   "source": [
    "# Genera una gráfica de serie de tiempo por estado para la marca con mayor precio -en todos los años-,\n",
    "# donde el eje equis es el año y el eje ye es el precio máximo.\n",
    "\n",
    "# NOTA: Este punto se hace aparte, se tiene que descargar la base de datos generda y se realizan las gráficas"
   ]
  },
  {
   "cell_type": "code",
   "execution_count": 24,
   "id": "180fc089",
   "metadata": {},
   "outputs": [
    {
     "data": {
      "application/vnd.jupyter.widget-view+json": {
       "model_id": "",
       "version_major": 2,
       "version_minor": 0
      },
      "text/plain": [
       "FloatProgress(value=0.0, bar_style='info', description='Progress:', layout=Layout(height='25px', width='50%'),…"
      ]
     },
     "metadata": {},
     "output_type": "display_data"
    }
   ],
   "source": [
    "from pyspark.sql.functions import col, max as max_, year\n",
    "\n",
    "max_price_overall = filtered_df.select(max_(\"precio\")).first()[0]\n",
    "brand_max_price = filtered_df.filter(col(\"precio\") == max_price_overall).select(\"marca\").distinct().first()[0]\n",
    "\n",
    "state_year_max_price = filtered_df.filter(col(\"marca\") == brand_max_price) \\\n",
    "                         .groupBy(\"estado\", \"fecha_y\") \\\n",
    "                         .agg(max_(\"precio\").alias(\"max_price\")) \\\n",
    "                         .orderBy(\"estado\", \"fecha_y\")\n",
    "\n",
    "# Collecting data directly\n",
    "data_collected = state_year_max_price.collect()"
   ]
  },
  {
   "cell_type": "code",
   "execution_count": 25,
   "id": "0f94b31e",
   "metadata": {},
   "outputs": [
    {
     "data": {
      "application/vnd.jupyter.widget-view+json": {
       "model_id": "",
       "version_major": 2,
       "version_minor": 0
      },
      "text/plain": [
       "FloatProgress(value=0.0, bar_style='info', description='Progress:', layout=Layout(height='25px', width='50%'),…"
      ]
     },
     "metadata": {},
     "output_type": "display_data"
    }
   ],
   "source": [
    "# Definir el bucket y la ruta\n",
    "output_path = \"s3://qqa-completo/respuestasA2/grafica de serie de tiempo.csv\"\n",
    "\n",
    "# Escribir el DataFrame en S3 como archivo tipo CSV\n",
    "state_year_max_price.write.format(\"csv\").option(\"header\", \"true\").mode(\"overwrite\").save(output_path)"
   ]
  }
 ],
 "metadata": {
  "kernelspec": {
   "display_name": "PySpark",
   "language": "python",
   "name": "pysparkkernel"
  },
  "language_info": {
   "codemirror_mode": {
    "name": "python",
    "version": 3
   },
   "file_extension": ".py",
   "mimetype": "text/x-python",
   "name": "pyspark",
   "pygments_lexer": "python3"
  }
 },
 "nbformat": 4,
 "nbformat_minor": 5
}
