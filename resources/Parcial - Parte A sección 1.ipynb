{
 "cells": [
  {
   "cell_type": "markdown",
   "id": "98c82ded",
   "metadata": {},
   "source": [
    "Parte A"
   ]
  },
  {
   "cell_type": "markdown",
   "id": "bbe8a549",
   "metadata": {},
   "source": [
    "Levantar cluster en AWS con Hadoop y Pyspark\n",
    "Nombre: cluster_ + la mátricula (número de estudiante) más chica\n",
    "Puntos a ajustar:\n",
    "\n",
    "Red y seguridad da click en Grupos de seguridad de EC2 (firewall) * **Nodo principal** y * **Nodos principales y de tareas**, liga del grupo de seguridad * Da click en **reglas de entrada** (inbound rules):\n",
    "Camiar puertos 22, 9443 y 18080 a My IP\n",
    "\n",
    "Configuración del Perfil de la Instancia, cambiar por el nombre del bucket (s3)\n",
    "\"arn:aws:s3:::itam-analytics-MINOMBRE\",       <--- AGREGAR\n",
    "\"arn:aws:s3:::itam-analytics-MINOMBRE/*\",     <--- AGREGAR\n",
    "                \n",
    "\"arn:aws:s3:::itam-analytics-MINOMBRE\",        <--- AGREGAR\n",
    "\"arn:aws:s3:::itam-analytics-MINOMBRE/*\",       <--- AGREGAR\n",
    "\n",
    "Acceso a JupyterHub\n",
    "JupyterHub:https://master-public-dns-name:9443/\n",
    "u `jovyan`\n",
    "p `jupyter`\n",
    "\n",
    "NOTA: ajustar el nombre del bucket"
   ]
  },
  {
   "cell_type": "markdown",
   "id": "d7cdc60c",
   "metadata": {},
   "source": [
    "Carga el CSV en Spark"
   ]
  },
  {
   "cell_type": "code",
   "execution_count": 4,
   "id": "1abf7147",
   "metadata": {},
   "outputs": [
    {
     "data": {
      "application/vnd.jupyter.widget-view+json": {
       "model_id": "",
       "version_major": 2,
       "version_minor": 0
      },
      "text/plain": [
       "FloatProgress(value=0.0, bar_style='info', description='Progress:', layout=Layout(height='25px', width='50%'),…"
      ]
     },
     "metadata": {},
     "output_type": "display_data"
    },
    {
     "name": "stdout",
     "output_type": "stream",
     "text": [
      "+------------------+---------------------------------+--------------------+---------------------+-----------------+-------+----------+------+---------------------------+--------------------------------------+------------------------------------------------------------------------------------------+----------------+----------------+---------+-----------+\n",
      "| ASISTENTES DE VOZ|ECHO SHOW 5. COLOR BLANCA O NEGRA|               ALEXA|APARATOS ELECTRONICOS|ELECTRODOMESTICOS|2499.00|2023-05-02|COPPEL|TIENDA DE ELECTRODOMÉSTICOS|COPPEL SUCURSAL ESPACIO AGUASCALIENTES|TECNOLOGICO 120, INT. CENTRO COMERCIAL ESPACIO AGUASCALIENTES, COL. OJOCALIENTE, CP. 20000|AGUASCALIENTES11|AGUASCALIENTES12|21.879490|-102.260011|\n",
      "+------------------+---------------------------------+--------------------+---------------------+-----------------+-------+----------+------+---------------------------+--------------------------------------+------------------------------------------------------------------------------------------+----------------+----------------+---------+-----------+\n",
      "| ASISTENTES DE VOZ|             NEST MINI. COLOR ...|              GOOGLE| APARATOS ELECTRON...|ELECTRODOMESTICOS|  959.0|2023-05-02|COPPEL|       TIENDA DE ELECTRO...|                  COPPEL SUCURSAL E...|                                                                      TECNOLOGICO 120, ...|  AGUASCALIENTES|  AGUASCALIENTES|21.879490|-102.260011|\n",
      "|   BARRA DE SONIDO|             HS205. BLUETOOTH,...|             HISENSE| APARATOS ELECTRON...|ELECTRODOMESTICOS| 1699.0|2023-05-02|COPPEL|       TIENDA DE ELECTRO...|                  COPPEL SUCURSAL E...|                                                                      TECNOLOGICO 120, ...|  AGUASCALIENTES|  AGUASCALIENTES|21.879490|-102.260011|\n",
      "|   BARRA DE SONIDO|             HW-A450. BLUETOOT...|             SAMSUNG| APARATOS ELECTRON...|ELECTRODOMESTICOS| 4499.0|2023-05-02|COPPEL|       TIENDA DE ELECTRO...|                  COPPEL SUCURSAL E...|                                                                      TECNOLOGICO 120, ...|  AGUASCALIENTES|  AGUASCALIENTES|21.879490|-102.260011|\n",
      "|BOCINAS PORTÁTILES|             RM1. USB Y BLUETO...|                  LG| APARATOS ELECTRON...|ELECTRODOMESTICOS| 2999.0|2023-05-02|COPPEL|       TIENDA DE ELECTRO...|                  COPPEL SUCURSAL E...|                                                                      TECNOLOGICO 120, ...|  AGUASCALIENTES|  AGUASCALIENTES|21.879490|-102.260011|\n",
      "|BOCINAS PORTÁTILES|             RM2. USB Y BLUETO...|                  LG| APARATOS ELECTRON...|ELECTRODOMESTICOS| 4899.0|2023-05-02|COPPEL|       TIENDA DE ELECTRO...|                  COPPEL SUCURSAL E...|                                                                      TECNOLOGICO 120, ...|  AGUASCALIENTES|  AGUASCALIENTES|21.879490|-102.260011|\n",
      "|BOCINAS PORTÁTILES|             RN5. USB Y BLUETOOTH|                  LG| APARATOS ELECTRON...|ELECTRODOMESTICOS| 5999.0|2023-05-02|COPPEL|       TIENDA DE ELECTRO...|                  COPPEL SUCURSAL E...|                                                                      TECNOLOGICO 120, ...|  AGUASCALIENTES|  AGUASCALIENTES|21.879490|-102.260011|\n",
      "|BOCINAS PORTÁTILES|             RN7. USB Y BLUETO...|                  LG| APARATOS ELECTRON...|ELECTRODOMESTICOS| 7999.0|2023-05-02|COPPEL|       TIENDA DE ELECTRO...|                  COPPEL SUCURSAL E...|                                                                      TECNOLOGICO 120, ...|  AGUASCALIENTES|  AGUASCALIENTES|21.879490|-102.260011|\n",
      "|BOCINAS PORTÁTILES|             MX-T50. USB Y BLU...|             SAMSUNG| APARATOS ELECTRON...|ELECTRODOMESTICOS| 6699.0|2023-05-02|COPPEL|       TIENDA DE ELECTRO...|                  COPPEL SUCURSAL E...|                                                                      TECNOLOGICO 120, ...|  AGUASCALIENTES|  AGUASCALIENTES|21.879490|-102.260011|\n",
      "|BOCINAS PORTÁTILES|             GTK-PG10. USB Y B...|                SONY| APARATOS ELECTRON...|ELECTRODOMESTICOS| 7249.0|2023-05-02|COPPEL|       TIENDA DE ELECTRO...|                  COPPEL SUCURSAL E...|                                                                      TECNOLOGICO 120, ...|  AGUASCALIENTES|  AGUASCALIENTES|21.879490|-102.260011|\n",
      "|BOCINAS PORTÁTILES|             MHC-V02. CD'S 1, ...|                SONY| APARATOS ELECTRON...|ELECTRODOMESTICOS| 5499.0|2023-05-02|COPPEL|       TIENDA DE ELECTRO...|                  COPPEL SUCURSAL E...|                                                                      TECNOLOGICO 120, ...|  AGUASCALIENTES|  AGUASCALIENTES|21.879490|-102.260011|\n",
      "|BOCINAS PORTÁTILES|             MHC-V13. CD´S 1. ...|                SONY| APARATOS ELECTRON...|ELECTRODOMESTICOS| 7299.0|2023-05-02|COPPEL|       TIENDA DE ELECTRO...|                  COPPEL SUCURSAL E...|                                                                      TECNOLOGICO 120, ...|  AGUASCALIENTES|  AGUASCALIENTES|21.879490|-102.260011|\n",
      "|BOCINAS PORTÁTILES|             MHC-V73D. CD´S 1....|                SONY| APARATOS ELECTRON...|ELECTRODOMESTICOS|14999.0|2023-05-02|COPPEL|       TIENDA DE ELECTRO...|                  COPPEL SUCURSAL E...|                                                                      TECNOLOGICO 120, ...|  AGUASCALIENTES|  AGUASCALIENTES|21.879490|-102.260011|\n",
      "|         CAFETERAS|             BVSTDC10SS O BVST...|               OSTER|  APARATOS ELECTRICOS|ELECTRODOMESTICOS|  879.0|2023-05-02|COPPEL|       TIENDA DE ELECTRO...|                  COPPEL SUCURSAL E...|                                                                      TECNOLOGICO 120, ...|  AGUASCALIENTES|  AGUASCALIENTES|21.879490|-102.260011|\n",
      "|         CAFETERAS|             BVSTDC4401RD O BV...|               OSTER|  APARATOS ELECTRICOS|ELECTRODOMESTICOS| 1299.0|2023-05-02|COPPEL|       TIENDA DE ELECTRO...|                  COPPEL SUCURSAL E...|                                                                      TECNOLOGICO 120, ...|  AGUASCALIENTES|  AGUASCALIENTES|21.879490|-102.260011|\n",
      "|         CAFETERAS|             CM1408MX. CAPACID...|T-FAL. HELIORA GR...|  APARATOS ELECTRICOS|ELECTRODOMESTICOS|  899.0|2023-05-02|COPPEL|       TIENDA DE ELECTRO...|                  COPPEL SUCURSAL E...|                                                                      TECNOLOGICO 120, ...|  AGUASCALIENTES|  AGUASCALIENTES|21.879490|-102.260011|\n",
      "| CAMARAS DIGITALES|             INSTAX MINI 11. L...|  FUJIFILM. FINE PIX| APARATOS ELECTRON...|ELECTRODOMESTICOS| 2169.0|2023-05-02|COPPEL|       TIENDA DE ELECTRO...|                  COPPEL SUCURSAL E...|                                                                      TECNOLOGICO 120, ...|  AGUASCALIENTES|  AGUASCALIENTES|21.879490|-102.260011|\n",
      "|         CELULARES|             MOTO E 20. ANDROI...|            MOTOROLA| APARATOS ELECTRON...|ELECTRODOMESTICOS| 2499.0|2023-05-02|COPPEL|       TIENDA DE ELECTRO...|                  COPPEL SUCURSAL E...|                                                                      TECNOLOGICO 120, ...|  AGUASCALIENTES|  AGUASCALIENTES|21.879490|-102.260011|\n",
      "|         CELULARES|             MOTO E 32. ANDROI...|            MOTOROLA| APARATOS ELECTRON...|ELECTRODOMESTICOS| 3999.0|2023-05-02|COPPEL|       TIENDA DE ELECTRO...|                  COPPEL SUCURSAL E...|                                                                      TECNOLOGICO 120, ...|  AGUASCALIENTES|  AGUASCALIENTES|21.879490|-102.260011|\n",
      "|         CELULARES|             A 57. ANDROID 12 ...|                OPPO| APARATOS ELECTRON...|ELECTRODOMESTICOS| 5499.0|2023-05-02|COPPEL|       TIENDA DE ELECTRO...|                  COPPEL SUCURSAL E...|                                                                      TECNOLOGICO 120, ...|  AGUASCALIENTES|  AGUASCALIENTES|21.879490|-102.260011|\n",
      "|         CELULARES|             GALAXY A 03 S. AN...|             SAMSUNG| APARATOS ELECTRON...|ELECTRODOMESTICOS| 3299.0|2023-05-02|COPPEL|       TIENDA DE ELECTRO...|                  COPPEL SUCURSAL E...|                                                                      TECNOLOGICO 120, ...|  AGUASCALIENTES|  AGUASCALIENTES|21.879490|-102.260011|\n",
      "+------------------+---------------------------------+--------------------+---------------------+-----------------+-------+----------+------+---------------------------+--------------------------------------+------------------------------------------------------------------------------------------+----------------+----------------+---------+-----------+\n",
      "only showing top 20 rows"
     ]
    }
   ],
   "source": [
    "# Revisión de estructura de datos antes de tener los headers\n",
    "# Crear sesión de SPARK y Cargar los datos \n",
    "\n",
    "from pyspark.sql import SparkSession\n",
    "\n",
    "# Inicia una sesión Spark.\n",
    "spark = SparkSession.builder.appName(\"CSV to Parquet\").getOrCreate()\n",
    "\n",
    "# Lee el archivo CSV desde S3.\n",
    "df = spark.read.csv(\"s3://qqa-completo/05-2023_01.csv\", header=True, inferSchema=True)\n",
    "\n",
    "# Muestra las primeras filas para asegurarte de que se ha cargado correctamente.\n",
    "df.show()"
   ]
  },
  {
   "cell_type": "markdown",
   "id": "84a24d59",
   "metadata": {},
   "source": [
    "Carga el CSV en Spark\n",
    "Adición de headers"
   ]
  },
  {
   "cell_type": "code",
   "execution_count": 22,
   "id": "cb243cee",
   "metadata": {},
   "outputs": [
    {
     "data": {
      "application/vnd.jupyter.widget-view+json": {
       "model_id": "",
       "version_major": 2,
       "version_minor": 0
      },
      "text/plain": [
       "FloatProgress(value=0.0, bar_style='info', description='Progress:', layout=Layout(height='25px', width='50%'),…"
      ]
     },
     "metadata": {},
     "output_type": "display_data"
    },
    {
     "name": "stdout",
     "output_type": "stream",
     "text": [
      "+------------------+--------------------+--------------------+--------------------+-----------------+-------+--------------+----------------+--------------------+--------------------+--------------------+--------------+--------------+---------+-----------+\n",
      "|          producto|        presentacion|               marca|           categoria|        catalogom| precio|fecha_registro|cadena_comercial|                giro|    nombre_comercial|           direccion|        estado|     municipio|  latitud|   longitud|\n",
      "+------------------+--------------------+--------------------+--------------------+-----------------+-------+--------------+----------------+--------------------+--------------------+--------------------+--------------+--------------+---------+-----------+\n",
      "| ASISTENTES DE VOZ|ECHO SHOW 5. COLO...|               ALEXA|APARATOS ELECTRON...|ELECTRODOMESTICOS| 2499.0|    2023-05-02|          COPPEL|TIENDA DE ELECTRO...|COPPEL SUCURSAL E...|TECNOLOGICO 120, ...|AGUASCALIENTES|AGUASCALIENTES|21.879490|-102.260011|\n",
      "| ASISTENTES DE VOZ|NEST MINI. COLOR ...|              GOOGLE|APARATOS ELECTRON...|ELECTRODOMESTICOS|  959.0|    2023-05-02|          COPPEL|TIENDA DE ELECTRO...|COPPEL SUCURSAL E...|TECNOLOGICO 120, ...|AGUASCALIENTES|AGUASCALIENTES|21.879490|-102.260011|\n",
      "|   BARRA DE SONIDO|HS205. BLUETOOTH,...|             HISENSE|APARATOS ELECTRON...|ELECTRODOMESTICOS| 1699.0|    2023-05-02|          COPPEL|TIENDA DE ELECTRO...|COPPEL SUCURSAL E...|TECNOLOGICO 120, ...|AGUASCALIENTES|AGUASCALIENTES|21.879490|-102.260011|\n",
      "|   BARRA DE SONIDO|HW-A450. BLUETOOT...|             SAMSUNG|APARATOS ELECTRON...|ELECTRODOMESTICOS| 4499.0|    2023-05-02|          COPPEL|TIENDA DE ELECTRO...|COPPEL SUCURSAL E...|TECNOLOGICO 120, ...|AGUASCALIENTES|AGUASCALIENTES|21.879490|-102.260011|\n",
      "|BOCINAS PORTÁTILES|RM1. USB Y BLUETO...|                  LG|APARATOS ELECTRON...|ELECTRODOMESTICOS| 2999.0|    2023-05-02|          COPPEL|TIENDA DE ELECTRO...|COPPEL SUCURSAL E...|TECNOLOGICO 120, ...|AGUASCALIENTES|AGUASCALIENTES|21.879490|-102.260011|\n",
      "|BOCINAS PORTÁTILES|RM2. USB Y BLUETO...|                  LG|APARATOS ELECTRON...|ELECTRODOMESTICOS| 4899.0|    2023-05-02|          COPPEL|TIENDA DE ELECTRO...|COPPEL SUCURSAL E...|TECNOLOGICO 120, ...|AGUASCALIENTES|AGUASCALIENTES|21.879490|-102.260011|\n",
      "|BOCINAS PORTÁTILES|RN5. USB Y BLUETOOTH|                  LG|APARATOS ELECTRON...|ELECTRODOMESTICOS| 5999.0|    2023-05-02|          COPPEL|TIENDA DE ELECTRO...|COPPEL SUCURSAL E...|TECNOLOGICO 120, ...|AGUASCALIENTES|AGUASCALIENTES|21.879490|-102.260011|\n",
      "|BOCINAS PORTÁTILES|RN7. USB Y BLUETO...|                  LG|APARATOS ELECTRON...|ELECTRODOMESTICOS| 7999.0|    2023-05-02|          COPPEL|TIENDA DE ELECTRO...|COPPEL SUCURSAL E...|TECNOLOGICO 120, ...|AGUASCALIENTES|AGUASCALIENTES|21.879490|-102.260011|\n",
      "|BOCINAS PORTÁTILES|MX-T50. USB Y BLU...|             SAMSUNG|APARATOS ELECTRON...|ELECTRODOMESTICOS| 6699.0|    2023-05-02|          COPPEL|TIENDA DE ELECTRO...|COPPEL SUCURSAL E...|TECNOLOGICO 120, ...|AGUASCALIENTES|AGUASCALIENTES|21.879490|-102.260011|\n",
      "|BOCINAS PORTÁTILES|GTK-PG10. USB Y B...|                SONY|APARATOS ELECTRON...|ELECTRODOMESTICOS| 7249.0|    2023-05-02|          COPPEL|TIENDA DE ELECTRO...|COPPEL SUCURSAL E...|TECNOLOGICO 120, ...|AGUASCALIENTES|AGUASCALIENTES|21.879490|-102.260011|\n",
      "|BOCINAS PORTÁTILES|MHC-V02. CD'S 1, ...|                SONY|APARATOS ELECTRON...|ELECTRODOMESTICOS| 5499.0|    2023-05-02|          COPPEL|TIENDA DE ELECTRO...|COPPEL SUCURSAL E...|TECNOLOGICO 120, ...|AGUASCALIENTES|AGUASCALIENTES|21.879490|-102.260011|\n",
      "|BOCINAS PORTÁTILES|MHC-V13. CD´S 1. ...|                SONY|APARATOS ELECTRON...|ELECTRODOMESTICOS| 7299.0|    2023-05-02|          COPPEL|TIENDA DE ELECTRO...|COPPEL SUCURSAL E...|TECNOLOGICO 120, ...|AGUASCALIENTES|AGUASCALIENTES|21.879490|-102.260011|\n",
      "|BOCINAS PORTÁTILES|MHC-V73D. CD´S 1....|                SONY|APARATOS ELECTRON...|ELECTRODOMESTICOS|14999.0|    2023-05-02|          COPPEL|TIENDA DE ELECTRO...|COPPEL SUCURSAL E...|TECNOLOGICO 120, ...|AGUASCALIENTES|AGUASCALIENTES|21.879490|-102.260011|\n",
      "|         CAFETERAS|BVSTDC10SS O BVST...|               OSTER| APARATOS ELECTRICOS|ELECTRODOMESTICOS|  879.0|    2023-05-02|          COPPEL|TIENDA DE ELECTRO...|COPPEL SUCURSAL E...|TECNOLOGICO 120, ...|AGUASCALIENTES|AGUASCALIENTES|21.879490|-102.260011|\n",
      "|         CAFETERAS|BVSTDC4401RD O BV...|               OSTER| APARATOS ELECTRICOS|ELECTRODOMESTICOS| 1299.0|    2023-05-02|          COPPEL|TIENDA DE ELECTRO...|COPPEL SUCURSAL E...|TECNOLOGICO 120, ...|AGUASCALIENTES|AGUASCALIENTES|21.879490|-102.260011|\n",
      "|         CAFETERAS|CM1408MX. CAPACID...|T-FAL. HELIORA GR...| APARATOS ELECTRICOS|ELECTRODOMESTICOS|  899.0|    2023-05-02|          COPPEL|TIENDA DE ELECTRO...|COPPEL SUCURSAL E...|TECNOLOGICO 120, ...|AGUASCALIENTES|AGUASCALIENTES|21.879490|-102.260011|\n",
      "| CAMARAS DIGITALES|INSTAX MINI 11. L...|  FUJIFILM. FINE PIX|APARATOS ELECTRON...|ELECTRODOMESTICOS| 2169.0|    2023-05-02|          COPPEL|TIENDA DE ELECTRO...|COPPEL SUCURSAL E...|TECNOLOGICO 120, ...|AGUASCALIENTES|AGUASCALIENTES|21.879490|-102.260011|\n",
      "|         CELULARES|MOTO E 20. ANDROI...|            MOTOROLA|APARATOS ELECTRON...|ELECTRODOMESTICOS| 2499.0|    2023-05-02|          COPPEL|TIENDA DE ELECTRO...|COPPEL SUCURSAL E...|TECNOLOGICO 120, ...|AGUASCALIENTES|AGUASCALIENTES|21.879490|-102.260011|\n",
      "|         CELULARES|MOTO E 32. ANDROI...|            MOTOROLA|APARATOS ELECTRON...|ELECTRODOMESTICOS| 3999.0|    2023-05-02|          COPPEL|TIENDA DE ELECTRO...|COPPEL SUCURSAL E...|TECNOLOGICO 120, ...|AGUASCALIENTES|AGUASCALIENTES|21.879490|-102.260011|\n",
      "|         CELULARES|A 57. ANDROID 12 ...|                OPPO|APARATOS ELECTRON...|ELECTRODOMESTICOS| 5499.0|    2023-05-02|          COPPEL|TIENDA DE ELECTRO...|COPPEL SUCURSAL E...|TECNOLOGICO 120, ...|AGUASCALIENTES|AGUASCALIENTES|21.879490|-102.260011|\n",
      "+------------------+--------------------+--------------------+--------------------+-----------------+-------+--------------+----------------+--------------------+--------------------+--------------------+--------------+--------------+---------+-----------+\n",
      "only showing top 20 rows"
     ]
    }
   ],
   "source": [
    "# Crear sesión de SPARK, cargar los datos, insertar los nombres de las columnas\n",
    "\n",
    "from pyspark.sql import SparkSession\n",
    "\n",
    "spark = SparkSession.builder.appName(\"AddHeader\").getOrCreate()\n",
    "\n",
    "# Carga el archivo CSV sin encabezados.\n",
    "df = spark.read.csv(\"s3://qqa-completo/05-2023_01.csv\", header=False, inferSchema=True)\n",
    "\n",
    "# Renombrar las columnas del DataFrame.\n",
    "df_with_headers = df.toDF(\"producto\", \"presentacion\", \"marca\", \"categoria\", \"catalogo\", \"precio\", \"fecha_registro\", \"cadena_comercial\", \"giro\", \"nombre_comercial\", \"direccion\", \"estado\", \"municipio\", \"latitud\", \"longitud\")\n",
    "\n",
    "# Muestra las primeras filas para asegurarte de que se han cargado correctamente con los nuevos encabezados.\n",
    "df_with_headers.show()"
   ]
  },
  {
   "cell_type": "markdown",
   "id": "8e588434",
   "metadata": {},
   "source": [
    "Guarda el CSV como parquet en S3, particionalo por catalogo. (Utiliza todos los trucos que consideres)."
   ]
  },
  {
   "cell_type": "code",
   "execution_count": 9,
   "id": "429cef80",
   "metadata": {},
   "outputs": [
    {
     "data": {
      "application/vnd.jupyter.widget-view+json": {
       "model_id": "",
       "version_major": 2,
       "version_minor": 0
      },
      "text/plain": [
       "FloatProgress(value=0.0, bar_style='info', description='Progress:', layout=Layout(height='25px', width='50%'),…"
      ]
     },
     "metadata": {},
     "output_type": "display_data"
    }
   ],
   "source": [
    "# Guarda el CSV como parquet en S3, particionalo por catalogo\n",
    "df_with_headers.write.partitionBy(\"catalogom\").parquet(\"s3://qqa-completo/output/\")"
   ]
  },
  {
   "cell_type": "markdown",
   "id": "d9d85691",
   "metadata": {},
   "source": [
    "Carga el parquet en Spark"
   ]
  },
  {
   "cell_type": "code",
   "execution_count": 10,
   "id": "f1241a09",
   "metadata": {},
   "outputs": [
    {
     "data": {
      "application/vnd.jupyter.widget-view+json": {
       "model_id": "",
       "version_major": 2,
       "version_minor": 0
      },
      "text/plain": [
       "FloatProgress(value=0.0, bar_style='info', description='Progress:', layout=Layout(height='25px', width='50%'),…"
      ]
     },
     "metadata": {},
     "output_type": "display_data"
    },
    {
     "name": "stdout",
     "output_type": "stream",
     "text": [
      "+------------------+--------------------+--------------------+--------------------+-------+--------------+----------------+--------------------+--------------------+--------------------+--------------+--------------+---------+-----------+-----------------+\n",
      "|          producto|        presentacion|               marca|           categoria| precio|fecha_registro|cadena_comercial|                giro|    nombre_comercial|           direccion|        estado|     municipio|  latitud|   longitud|        catalogom|\n",
      "+------------------+--------------------+--------------------+--------------------+-------+--------------+----------------+--------------------+--------------------+--------------------+--------------+--------------+---------+-----------+-----------------+\n",
      "| ASISTENTES DE VOZ|ECHO SHOW 5. COLO...|               ALEXA|APARATOS ELECTRON...| 2499.0|    2023-05-02|          COPPEL|TIENDA DE ELECTRO...|COPPEL SUCURSAL E...|TECNOLOGICO 120, ...|AGUASCALIENTES|AGUASCALIENTES|21.879490|-102.260011|ELECTRODOMESTICOS|\n",
      "| ASISTENTES DE VOZ|NEST MINI. COLOR ...|              GOOGLE|APARATOS ELECTRON...|  959.0|    2023-05-02|          COPPEL|TIENDA DE ELECTRO...|COPPEL SUCURSAL E...|TECNOLOGICO 120, ...|AGUASCALIENTES|AGUASCALIENTES|21.879490|-102.260011|ELECTRODOMESTICOS|\n",
      "|   BARRA DE SONIDO|HS205. BLUETOOTH,...|             HISENSE|APARATOS ELECTRON...| 1699.0|    2023-05-02|          COPPEL|TIENDA DE ELECTRO...|COPPEL SUCURSAL E...|TECNOLOGICO 120, ...|AGUASCALIENTES|AGUASCALIENTES|21.879490|-102.260011|ELECTRODOMESTICOS|\n",
      "|   BARRA DE SONIDO|HW-A450. BLUETOOT...|             SAMSUNG|APARATOS ELECTRON...| 4499.0|    2023-05-02|          COPPEL|TIENDA DE ELECTRO...|COPPEL SUCURSAL E...|TECNOLOGICO 120, ...|AGUASCALIENTES|AGUASCALIENTES|21.879490|-102.260011|ELECTRODOMESTICOS|\n",
      "|BOCINAS PORTÁTILES|RM1. USB Y BLUETO...|                  LG|APARATOS ELECTRON...| 2999.0|    2023-05-02|          COPPEL|TIENDA DE ELECTRO...|COPPEL SUCURSAL E...|TECNOLOGICO 120, ...|AGUASCALIENTES|AGUASCALIENTES|21.879490|-102.260011|ELECTRODOMESTICOS|\n",
      "|BOCINAS PORTÁTILES|RM2. USB Y BLUETO...|                  LG|APARATOS ELECTRON...| 4899.0|    2023-05-02|          COPPEL|TIENDA DE ELECTRO...|COPPEL SUCURSAL E...|TECNOLOGICO 120, ...|AGUASCALIENTES|AGUASCALIENTES|21.879490|-102.260011|ELECTRODOMESTICOS|\n",
      "|BOCINAS PORTÁTILES|RN5. USB Y BLUETOOTH|                  LG|APARATOS ELECTRON...| 5999.0|    2023-05-02|          COPPEL|TIENDA DE ELECTRO...|COPPEL SUCURSAL E...|TECNOLOGICO 120, ...|AGUASCALIENTES|AGUASCALIENTES|21.879490|-102.260011|ELECTRODOMESTICOS|\n",
      "|BOCINAS PORTÁTILES|RN7. USB Y BLUETO...|                  LG|APARATOS ELECTRON...| 7999.0|    2023-05-02|          COPPEL|TIENDA DE ELECTRO...|COPPEL SUCURSAL E...|TECNOLOGICO 120, ...|AGUASCALIENTES|AGUASCALIENTES|21.879490|-102.260011|ELECTRODOMESTICOS|\n",
      "|BOCINAS PORTÁTILES|MX-T50. USB Y BLU...|             SAMSUNG|APARATOS ELECTRON...| 6699.0|    2023-05-02|          COPPEL|TIENDA DE ELECTRO...|COPPEL SUCURSAL E...|TECNOLOGICO 120, ...|AGUASCALIENTES|AGUASCALIENTES|21.879490|-102.260011|ELECTRODOMESTICOS|\n",
      "|BOCINAS PORTÁTILES|GTK-PG10. USB Y B...|                SONY|APARATOS ELECTRON...| 7249.0|    2023-05-02|          COPPEL|TIENDA DE ELECTRO...|COPPEL SUCURSAL E...|TECNOLOGICO 120, ...|AGUASCALIENTES|AGUASCALIENTES|21.879490|-102.260011|ELECTRODOMESTICOS|\n",
      "|BOCINAS PORTÁTILES|MHC-V02. CD'S 1, ...|                SONY|APARATOS ELECTRON...| 5499.0|    2023-05-02|          COPPEL|TIENDA DE ELECTRO...|COPPEL SUCURSAL E...|TECNOLOGICO 120, ...|AGUASCALIENTES|AGUASCALIENTES|21.879490|-102.260011|ELECTRODOMESTICOS|\n",
      "|BOCINAS PORTÁTILES|MHC-V13. CD´S 1. ...|                SONY|APARATOS ELECTRON...| 7299.0|    2023-05-02|          COPPEL|TIENDA DE ELECTRO...|COPPEL SUCURSAL E...|TECNOLOGICO 120, ...|AGUASCALIENTES|AGUASCALIENTES|21.879490|-102.260011|ELECTRODOMESTICOS|\n",
      "|BOCINAS PORTÁTILES|MHC-V73D. CD´S 1....|                SONY|APARATOS ELECTRON...|14999.0|    2023-05-02|          COPPEL|TIENDA DE ELECTRO...|COPPEL SUCURSAL E...|TECNOLOGICO 120, ...|AGUASCALIENTES|AGUASCALIENTES|21.879490|-102.260011|ELECTRODOMESTICOS|\n",
      "|         CAFETERAS|BVSTDC10SS O BVST...|               OSTER| APARATOS ELECTRICOS|  879.0|    2023-05-02|          COPPEL|TIENDA DE ELECTRO...|COPPEL SUCURSAL E...|TECNOLOGICO 120, ...|AGUASCALIENTES|AGUASCALIENTES|21.879490|-102.260011|ELECTRODOMESTICOS|\n",
      "|         CAFETERAS|BVSTDC4401RD O BV...|               OSTER| APARATOS ELECTRICOS| 1299.0|    2023-05-02|          COPPEL|TIENDA DE ELECTRO...|COPPEL SUCURSAL E...|TECNOLOGICO 120, ...|AGUASCALIENTES|AGUASCALIENTES|21.879490|-102.260011|ELECTRODOMESTICOS|\n",
      "|         CAFETERAS|CM1408MX. CAPACID...|T-FAL. HELIORA GR...| APARATOS ELECTRICOS|  899.0|    2023-05-02|          COPPEL|TIENDA DE ELECTRO...|COPPEL SUCURSAL E...|TECNOLOGICO 120, ...|AGUASCALIENTES|AGUASCALIENTES|21.879490|-102.260011|ELECTRODOMESTICOS|\n",
      "| CAMARAS DIGITALES|INSTAX MINI 11. L...|  FUJIFILM. FINE PIX|APARATOS ELECTRON...| 2169.0|    2023-05-02|          COPPEL|TIENDA DE ELECTRO...|COPPEL SUCURSAL E...|TECNOLOGICO 120, ...|AGUASCALIENTES|AGUASCALIENTES|21.879490|-102.260011|ELECTRODOMESTICOS|\n",
      "|         CELULARES|MOTO E 20. ANDROI...|            MOTOROLA|APARATOS ELECTRON...| 2499.0|    2023-05-02|          COPPEL|TIENDA DE ELECTRO...|COPPEL SUCURSAL E...|TECNOLOGICO 120, ...|AGUASCALIENTES|AGUASCALIENTES|21.879490|-102.260011|ELECTRODOMESTICOS|\n",
      "|         CELULARES|MOTO E 32. ANDROI...|            MOTOROLA|APARATOS ELECTRON...| 3999.0|    2023-05-02|          COPPEL|TIENDA DE ELECTRO...|COPPEL SUCURSAL E...|TECNOLOGICO 120, ...|AGUASCALIENTES|AGUASCALIENTES|21.879490|-102.260011|ELECTRODOMESTICOS|\n",
      "|         CELULARES|A 57. ANDROID 12 ...|                OPPO|APARATOS ELECTRON...| 5499.0|    2023-05-02|          COPPEL|TIENDA DE ELECTRO...|COPPEL SUCURSAL E...|TECNOLOGICO 120, ...|AGUASCALIENTES|AGUASCALIENTES|21.879490|-102.260011|ELECTRODOMESTICOS|\n",
      "+------------------+--------------------+--------------------+--------------------+-------+--------------+----------------+--------------------+--------------------+--------------------+--------------+--------------+---------+-----------+-----------------+\n",
      "only showing top 20 rows"
     ]
    }
   ],
   "source": [
    "# Carga del parquet en Spark\n",
    "parquet_df = spark.read.parquet(\"s3://qqa-completo/output/\")\n",
    "\n",
    "# Muestra las primeras filas para verificar.\n",
    "parquet_df.show()"
   ]
  },
  {
   "cell_type": "markdown",
   "id": "bb96eb61",
   "metadata": {},
   "source": [
    "¿Cuántos catálogos diferentes tenemos?"
   ]
  },
  {
   "cell_type": "code",
   "execution_count": 12,
   "id": "ed311aa0",
   "metadata": {},
   "outputs": [
    {
     "data": {
      "application/vnd.jupyter.widget-view+json": {
       "model_id": "",
       "version_major": 2,
       "version_minor": 0
      },
      "text/plain": [
       "FloatProgress(value=0.0, bar_style='info', description='Progress:', layout=Layout(height='25px', width='50%'),…"
      ]
     },
     "metadata": {},
     "output_type": "display_data"
    },
    {
     "name": "stdout",
     "output_type": "stream",
     "text": [
      "+----+-----------------+\n",
      "| a?o|distinct_catalogs|\n",
      "+----+-----------------+\n",
      "|2023|                7|\n",
      "+----+-----------------+"
     ]
    }
   ],
   "source": [
    "from pyspark.sql import SparkSession\n",
    "from pyspark.sql.functions import year, to_date, countDistinct\n",
    "\n",
    "catalog_count_by_year = (parquet_df\n",
    "    .withColumn(\"fecha_registro\", to_date(\"fecha_registro\", \"yyyy-MM-dd\"))  # Convierte la cadena de fecha en tipo de dato Date\n",
    "    .groupBy(year(\"fecha_registro\").alias(\"año\"))  # Extrae el año y agrupa por este\n",
    "    .agg(countDistinct(\"catalogom\").alias(\"distinct_catalogs\"))  # Cuenta los catálogos únicos\n",
    ")\n",
    "\n",
    "# Muestra el resultado.\n",
    "catalog_count_by_year.show()\n"
   ]
  },
  {
   "cell_type": "markdown",
   "id": "00d430ba",
   "metadata": {},
   "source": [
    "¿Cuáles son los 20 catálogos con más observaciones? Guarda la salida de este query en tu bucket de S3, lo necesitaremos más adelante."
   ]
  },
  {
   "cell_type": "code",
   "execution_count": 14,
   "id": "48c7c068",
   "metadata": {},
   "outputs": [
    {
     "data": {
      "application/vnd.jupyter.widget-view+json": {
       "model_id": "",
       "version_major": 2,
       "version_minor": 0
      },
      "text/plain": [
       "FloatProgress(value=0.0, bar_style='info', description='Progress:', layout=Layout(height='25px', width='50%'),…"
      ]
     },
     "metadata": {},
     "output_type": "display_data"
    },
    {
     "name": "stdout",
     "output_type": "stream",
     "text": [
      "+-------------------+------+\n",
      "|          catalogom| count|\n",
      "+-------------------+------+\n",
      "|            BASICOS|283314|\n",
      "|       MEDICAMENTOS|112418|\n",
      "|  ELECTRODOMESTICOS| 37306|\n",
      "| FRUTAS Y LEGUMBRES| 32185|\n",
      "|              PACIC| 26481|\n",
      "|           MERCADOS| 11745|\n",
      "|PESCADOS Y MARISCOS|  2282|\n",
      "+-------------------+------+"
     ]
    }
   ],
   "source": [
    "from pyspark.sql import SparkSession\n",
    "from pyspark.sql.functions import col\n",
    "\n",
    "# Encuentra los 20 catálogos con más observaciones.\n",
    "top_catalogs = parquet_df.groupBy(\"catalogom\").count().orderBy(col(\"count\").desc()).limit(20)\n",
    "\n",
    "# Muestra el resultado.\n",
    "top_catalogs.show()\n",
    "\n",
    "# Guarda la salida en el bucket de S3.\n",
    "top_catalogs.write.mode(\"overwrite\").parquet(\"s3://qqa-completo/top_catalogs/\")"
   ]
  },
  {
   "cell_type": "markdown",
   "id": "13892c1a",
   "metadata": {},
   "source": [
    "¿Tenemos datos de todos los estados del país? De no ser así, ¿cuáles faltan?"
   ]
  },
  {
   "cell_type": "code",
   "execution_count": 16,
   "id": "1be14459",
   "metadata": {},
   "outputs": [
    {
     "data": {
      "application/vnd.jupyter.widget-view+json": {
       "model_id": "",
       "version_major": 2,
       "version_minor": 0
      },
      "text/plain": [
       "FloatProgress(value=0.0, bar_style='info', description='Progress:', layout=Layout(height='25px', width='50%'),…"
      ]
     },
     "metadata": {},
     "output_type": "display_data"
    },
    {
     "name": "stdout",
     "output_type": "stream",
     "text": [
      "+--------------------+\n",
      "|              estado|\n",
      "+--------------------+\n",
      "|             YUCATÁN|\n",
      "|            VERACRUZ|\n",
      "|              OAXACA|\n",
      "|              PUEBLA|\n",
      "|        QUINTANA ROO|\n",
      "|             TABASCO|\n",
      "|             SINALOA|\n",
      "|             CHIAPAS|\n",
      "|              SONORA|\n",
      "|             DURANGO|\n",
      "|            TLAXCALA|\n",
      "|COAHUILA DE ZARAGOZA|\n",
      "|           CHIHUAHUA|\n",
      "|     SAN LUIS POTOSÍ|\n",
      "|          TAMAULIPAS|\n",
      "| BAJA CALIFORNIA SUR|\n",
      "|             JALISCO|\n",
      "|          NUEVO LEÓN|\n",
      "|    ESTADO DE MÉXICO|\n",
      "|           ZACATECAS|\n",
      "+--------------------+\n",
      "only showing top 20 rows"
     ]
    }
   ],
   "source": [
    "from pyspark.sql import SparkSession\n",
    "\n",
    "# Asumimos que 'df' es tu DataFrame y tiene una columna llamada 'state'.\n",
    "# Lista todos los estados únicos presentes en el DataFrame.\n",
    "unique_states = parquet_df.select(\"estado\").distinct()\n",
    "\n",
    "# Muestra los estados únicos.\n",
    "unique_states.show(32)\n",
    "\n",
    "# Opcional: Si quieres guardar esta lista en un archivo CSV en S3, puedes hacer lo siguiente:\n",
    "unique_states.write.mode(\"overwrite\").csv(\"s3://qqa-completo/unique_states/\")\n"
   ]
  },
  {
   "cell_type": "code",
   "execution_count": 21,
   "id": "a9df794f",
   "metadata": {},
   "outputs": [
    {
     "data": {
      "application/vnd.jupyter.widget-view+json": {
       "model_id": "",
       "version_major": 2,
       "version_minor": 0
      },
      "text/plain": [
       "FloatProgress(value=0.0, bar_style='info', description='Progress:', layout=Layout(height='25px', width='50%'),…"
      ]
     },
     "metadata": {},
     "output_type": "display_data"
    },
    {
     "name": "stdout",
     "output_type": "stream",
     "text": [
      "+----------------+\n",
      "|          estado|\n",
      "+----------------+\n",
      "|CIUDAD DE M?XICO|\n",
      "|          COLIMA|\n",
      "|ESTADO DE M?XICO|\n",
      "|       MICHOAC?N|\n",
      "|         NAYARIT|\n",
      "|      NUEVO LE?N|\n",
      "|       QUER?TARO|\n",
      "| SAN LUIS POTOS?|\n",
      "|         YUCAT?N|\n",
      "+----------------+"
     ]
    }
   ],
   "source": [
    "# Asume que all_states es una lista de todos los estados posibles en tu país.\n",
    "all_states = [\"AGUASCALIENTES\", \"BAJA CALIFORNIA\", \"BAJA CALIFORNIA SUR\", \"CAMPECHE\", \"CHIAPAS\",\"CHIHUAHUA\",\"CIUDAD DE MEXICO\",\n",
    "\"COAHUILA DE ZARAGOZA\",\"COLIMA\",\"DURANGO\",\"ESTADO DE MEXICO\",\"GUANAJUATO\",\"GUERRERO\",\"HIDALGO\",\"JALISCO\",\"MICHOACÁN\",\"MORELOS\",\"NAYARIT\",\n",
    "\"NUEVO LEON\",\"OAXACA\",\"PUEBLA\",\"QUERETARO\",\"QUINTANA ROO\",\"SAN LUIS POTOSI\",\"SINALOA\",\"SONORA\",\"TABASCO\",\"TAMAULIPAS\",\"TLAXCALA\",\n",
    "\"VERACRUZ\",\"YUCATAN\",\"ZACATECAS\"]\n",
    "\n",
    "# Crea un DataFrame para la lista completa de estados.\n",
    "all_states_df = spark.createDataFrame([(state,) for state in all_states], [\"estado\"])\n",
    "\n",
    "# Realiza un anti join para encontrar los estados que faltan.\n",
    "missing_states = all_states_df.join(unique_states, \"estado\", \"left_anti\")\n",
    "\n",
    "# Muestra los estados que faltan.\n",
    "missing_states.show()\n",
    "\n",
    "# Opcional: Guarda los estados que faltan en S3.\n",
    "missing_states.write.mode(\"overwrite\").csv(\"s3://qqa-completo/missing_states/\")"
   ]
  },
  {
   "cell_type": "markdown",
   "id": "545ec5e9",
   "metadata": {},
   "source": [
    "¿Cuántas observaciones tenemos por estado?"
   ]
  },
  {
   "cell_type": "code",
   "execution_count": 28,
   "id": "a5b938ad",
   "metadata": {},
   "outputs": [
    {
     "data": {
      "application/vnd.jupyter.widget-view+json": {
       "model_id": "",
       "version_major": 2,
       "version_minor": 0
      },
      "text/plain": [
       "FloatProgress(value=0.0, bar_style='info', description='Progress:', layout=Layout(height='25px', width='50%'),…"
      ]
     },
     "metadata": {},
     "output_type": "display_data"
    },
    {
     "name": "stdout",
     "output_type": "stream",
     "text": [
      "+-------------------+------+\n",
      "|             estado| count|\n",
      "+-------------------+------+\n",
      "|   CIUDAD DE MÉXICO|117779|\n",
      "|   ESTADO DE MÉXICO| 80309|\n",
      "|            JALISCO| 24028|\n",
      "|         GUANAJUATO| 23527|\n",
      "|         NUEVO LEÓN| 17754|\n",
      "|            TABASCO| 17120|\n",
      "|             PUEBLA| 16857|\n",
      "|          QUERÉTARO| 16517|\n",
      "|          CHIHUAHUA| 15750|\n",
      "|            YUCATÁN| 14231|\n",
      "|          ZACATECAS| 13775|\n",
      "|       QUINTANA ROO| 12486|\n",
      "|           CAMPECHE| 11650|\n",
      "|BAJA CALIFORNIA SUR| 10338|\n",
      "|     AGUASCALIENTES|  9957|\n",
      "|            DURANGO|  9878|\n",
      "|           TLAXCALA|  9766|\n",
      "|MICHOACÁN DE OCAMPO|  9703|\n",
      "|             SONORA|  9055|\n",
      "|             OAXACA|  8813|\n",
      "+-------------------+------+\n",
      "only showing top 20 rows"
     ]
    }
   ],
   "source": [
    "from pyspark.sql.functions import col\n",
    "\n",
    "# Agrupa por estado y cuenta las observaciones\n",
    "observations_per_state = parquet_df.groupBy(\"estado\").count().orderBy(col(\"count\").desc())\n",
    "\n",
    "# Muestra los resultados\n",
    "observations_per_state.show(32)\n",
    "\n",
    "# Si necesitas guardar estos resultados, puedes hacerlo en un archivo CSV en tu bucket de S3:\n",
    "observations_per_state.write.mode(\"overwrite\").csv(\"s3://qqa-completo/observations_per_state/\")"
   ]
  },
  {
   "cell_type": "markdown",
   "id": "79b81396",
   "metadata": {},
   "source": [
    "De cada estado obten: el número de catalogos diferentes por año, ¿ha aumentado el número de catálogos con el tiempo?"
   ]
  },
  {
   "cell_type": "code",
   "execution_count": 38,
   "id": "4d8f75a0",
   "metadata": {},
   "outputs": [
    {
     "data": {
      "application/vnd.jupyter.widget-view+json": {
       "model_id": "",
       "version_major": 2,
       "version_minor": 0
      },
      "text/plain": [
       "FloatProgress(value=0.0, bar_style='info', description='Progress:', layout=Layout(height='25px', width='50%'),…"
      ]
     },
     "metadata": {},
     "output_type": "display_data"
    },
    {
     "name": "stdout",
     "output_type": "stream",
     "text": [
      "+--------------------+----+------------+------+\n",
      "|              estado|year|num_catalogs|change|\n",
      "+--------------------+----+------------+------+\n",
      "|      AGUASCALIENTES|2023|           7|  NULL|\n",
      "|     BAJA CALIFORNIA|2023|           7|  NULL|\n",
      "| BAJA CALIFORNIA SUR|2023|           7|  NULL|\n",
      "|            CAMPECHE|2023|           7|  NULL|\n",
      "|             CHIAPAS|2023|           7|  NULL|\n",
      "|           CHIHUAHUA|2023|           7|  NULL|\n",
      "|    CIUDAD DE MÉXICO|2023|           7|  NULL|\n",
      "|COAHUILA DE ZARAGOZA|2023|           7|  NULL|\n",
      "|             DURANGO|2023|           7|  NULL|\n",
      "|    ESTADO DE MÉXICO|2023|           7|  NULL|\n",
      "|          GUANAJUATO|2023|           7|  NULL|\n",
      "|            GUERRERO|2023|           3|  NULL|\n",
      "|             HIDALGO|2023|           7|  NULL|\n",
      "|             JALISCO|2023|           7|  NULL|\n",
      "| MICHOACÁN DE OCAMPO|2023|           6|  NULL|\n",
      "|             MORELOS|2023|           7|  NULL|\n",
      "|          NUEVO LEÓN|2023|           7|  NULL|\n",
      "|              OAXACA|2023|           5|  NULL|\n",
      "|              PUEBLA|2023|           6|  NULL|\n",
      "|           QUERÉTARO|2023|           7|  NULL|\n",
      "+--------------------+----+------------+------+\n",
      "only showing top 20 rows"
     ]
    }
   ],
   "source": [
    "from pyspark.sql.functions import col, countDistinct, lag, year, to_date\n",
    "from pyspark.sql.window import Window\n",
    "\n",
    "# Define una ventana particionada por estado y ordenada por año para análisis temporal.\n",
    "windowSpec = Window.partitionBy(\"estado\").orderBy(\"year\")\n",
    "\n",
    "# Preparar el DataFrame y calcular el número de catálogos distintos por estado y año, y el cambio año a año.\n",
    "catalogs_per_state_year = (\n",
    "    parquet_df\n",
    "    # Asegurarse de que 'fecha_registro' está en formato de fecha correcto.\n",
    "    .withColumn(\"fecha_registro\", to_date(\"fecha_registro\", \"yyyy-MM-dd\"))\n",
    "    # Extraer el año y agrupar por este y por estado.\n",
    "    .groupBy(\"estado\", year(\"fecha_registro\").alias(\"year\"))\n",
    "    .agg(countDistinct(\"catalogom\").alias(\"num_catalogs\"))\n",
    "    # Calcular el número de catálogos del año anterior y el cambio respecto al año anterior.\n",
    "    .withColumn(\"prev_year_catalogs\", lag(\"num_catalogs\", 1).over(windowSpec))\n",
    "    .withColumn(\"change\", col(\"num_catalogs\") - col(\"prev_year_catalogs\"))\n",
    "    .select(\"estado\", \"year\", \"num_catalogs\", \"change\")\n",
    "    .orderBy(\"estado\", \"year\")\n",
    ")\n",
    "\n",
    "# Muestra los resultados\n",
    "catalogs_per_state_year.show()\n",
    "\n",
    "# Si necesitas guardar estos resultados, puedes hacerlo en un archivo CSV en tu bucket de S3:\n",
    "catalogs_per_state_year.write.mode(\"overwrite\").csv(\"s3://qqa-completo/catalogs_per_state_year/\")"
   ]
  }
 ],
 "metadata": {
  "kernelspec": {
   "display_name": "Python 3",
   "language": "python",
   "name": "python3"
  },
  "language_info": {
   "codemirror_mode": {
    "name": "python",
    "version": 3
   },
   "file_extension": ".py",
   "mimetype": "text/x-python",
   "name": "python",
   "pygments_lexer": "python3",
   "version": "3.10.11"
  }
 },
 "nbformat": 4,
 "nbformat_minor": 5
}
