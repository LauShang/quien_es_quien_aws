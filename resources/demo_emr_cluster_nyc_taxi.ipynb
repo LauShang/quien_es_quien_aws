{
 "cells": [
  {
   "cell_type": "markdown",
   "id": "8eb89f2f",
   "metadata": {},
   "source": [
    "# Demo Spark en Cluster\n",
    "\n",
    "Este demo utiliza los siguientes datos [New York City Taxi and Limousine Commission (TLC) Trip Record Data](https://aws.amazon.com/marketplace/pp/prodview-okyonroqg5b2u?sr=0-1&ref_=beagle&applicationId=AWSMPContessa#usage)"
   ]
  },
  {
   "cell_type": "code",
   "execution_count": 1,
   "id": "236a8c5a",
   "metadata": {
    "scrolled": true
   },
   "outputs": [
    {
     "name": "stdout",
     "output_type": "stream",
     "text": [
      "Starting Spark application\n"
     ]
    },
    {
     "data": {
      "text/html": [
       "<table>\n",
       "<tr><th>ID</th><th>YARN Application ID</th><th>Kind</th><th>State</th><th>Spark UI</th><th>Driver log</th><th>User</th><th>Current session?</th></tr><tr><td>1</td><td>application_1679898994899_0002</td><td>pyspark</td><td>idle</td><td><a target=\"_blank\" href=\"http://ip-172-31-35-85.ec2.internal:20888/proxy/application_1679898994899_0002/\">Link</a></td><td><a target=\"_blank\" href=\"http://ip-172-31-44-136.ec2.internal:8042/node/containerlogs/container_1679898994899_0002_01_000001/livy\">Link</a></td><td>None</td><td>✔</td></tr></table>"
      ],
      "text/plain": [
       "<IPython.core.display.HTML object>"
      ]
     },
     "metadata": {},
     "output_type": "display_data"
    },
    {
     "data": {
      "application/vnd.jupyter.widget-view+json": {
       "model_id": "",
       "version_major": 2,
       "version_minor": 0
      },
      "text/plain": [
       "FloatProgress(value=0.0, bar_style='info', description='Progress:', layout=Layout(height='25px', width='50%'),…"
      ]
     },
     "metadata": {},
     "output_type": "display_data"
    },
    {
     "name": "stdout",
     "output_type": "stream",
     "text": [
      "SparkSession available as 'spark'.\n"
     ]
    },
    {
     "data": {
      "application/vnd.jupyter.widget-view+json": {
       "model_id": "",
       "version_major": 2,
       "version_minor": 0
      },
      "text/plain": [
       "FloatProgress(value=0.0, bar_style='info', description='Progress:', layout=Layout(height='25px', width='50%'),…"
      ]
     },
     "metadata": {},
     "output_type": "display_data"
    }
   ],
   "source": [
    "# Importar librerías\n",
    "from pyspark.sql import SparkSession\n",
    "\n",
    "# Importar funciones únicas\n",
    "from pyspark.sql.functions import lit, col\n",
    "\n",
    "# Importar funciones con un alias, que pudieran \n",
    "# tener conflicto con las librerías base de Python, \n",
    "# como sum, avg, round, ...\n",
    "import pyspark.sql.functions as F"
   ]
  },
  {
   "cell_type": "markdown",
   "id": "bcc7c1ef",
   "metadata": {},
   "source": [
    "Recuerda que vamos a trabajar con spark dataframes, por lo tanto tienes que abrir un SparkSession"
   ]
  },
  {
   "cell_type": "code",
   "execution_count": 2,
   "id": "d468deb9",
   "metadata": {},
   "outputs": [
    {
     "data": {
      "application/vnd.jupyter.widget-view+json": {
       "model_id": "",
       "version_major": 2,
       "version_minor": 0
      },
      "text/plain": [
       "FloatProgress(value=0.0, bar_style='info', description='Progress:', layout=Layout(height='25px', width='50%'),…"
      ]
     },
     "metadata": {},
     "output_type": "display_data"
    }
   ],
   "source": [
    "spark = SparkSession.builder.appName('New York City Taxi').getOrCreate()"
   ]
  },
  {
   "cell_type": "markdown",
   "id": "d5e983b8",
   "metadata": {},
   "source": [
    "Hay que cargar los datasets, nota que podemos utilizar wildcards para leer varios parquets al mismo tiempo."
   ]
  },
  {
   "cell_type": "code",
   "execution_count": 3,
   "id": "bde547a0",
   "metadata": {},
   "outputs": [
    {
     "data": {
      "application/vnd.jupyter.widget-view+json": {
       "model_id": "",
       "version_major": 2,
       "version_minor": 0
      },
      "text/plain": [
       "FloatProgress(value=0.0, bar_style='info', description='Progress:', layout=Layout(height='25px', width='50%'),…"
      ]
     },
     "metadata": {},
     "output_type": "display_data"
    }
   ],
   "source": [
    "tbl_yellow_taxi =  spark.read.option(\"header\",True).parquet(\"s3://itam-analytics-MINOMBRE/taxi/yellow_tripdata_2022-*.parquet\")\n",
    "tbl_green_taxi =  spark.read.option(\"header\",True).parquet(\"s3://itam-analytics-MINOMBRE/taxi/green_tripdata_2022-*.parquet\")\n",
    "\n"
   ]
  },
  {
   "cell_type": "markdown",
   "id": "9bca1070",
   "metadata": {},
   "source": [
    "Veamos las columnas."
   ]
  },
  {
   "cell_type": "code",
   "execution_count": 14,
   "id": "f503df99",
   "metadata": {},
   "outputs": [
    {
     "data": {
      "application/vnd.jupyter.widget-view+json": {
       "model_id": "",
       "version_major": 2,
       "version_minor": 0
      },
      "text/plain": [
       "FloatProgress(value=0.0, bar_style='info', description='Progress:', layout=Layout(height='25px', width='50%'),…"
      ]
     },
     "metadata": {},
     "output_type": "display_data"
    },
    {
     "name": "stdout",
     "output_type": "stream",
     "text": [
      "root\n",
      " |-- VendorID: long (nullable = true)\n",
      " |-- tpep_pickup_datetime: timestamp (nullable = true)\n",
      " |-- tpep_dropoff_datetime: timestamp (nullable = true)\n",
      " |-- passenger_count: double (nullable = true)\n",
      " |-- trip_distance: double (nullable = true)\n",
      " |-- RatecodeID: double (nullable = true)\n",
      " |-- store_and_fwd_flag: string (nullable = true)\n",
      " |-- PULocationID: long (nullable = true)\n",
      " |-- DOLocationID: long (nullable = true)\n",
      " |-- payment_type: long (nullable = true)\n",
      " |-- fare_amount: double (nullable = true)\n",
      " |-- extra: double (nullable = true)\n",
      " |-- mta_tax: double (nullable = true)\n",
      " |-- tip_amount: double (nullable = true)\n",
      " |-- tolls_amount: double (nullable = true)\n",
      " |-- improvement_surcharge: double (nullable = true)\n",
      " |-- total_amount: double (nullable = true)\n",
      " |-- congestion_surcharge: double (nullable = true)\n",
      " |-- airport_fee: double (nullable = true)"
     ]
    }
   ],
   "source": [
    "tbl_yellow_taxi.printSchema()"
   ]
  },
  {
   "cell_type": "code",
   "execution_count": 15,
   "id": "4c764527",
   "metadata": {},
   "outputs": [
    {
     "data": {
      "application/vnd.jupyter.widget-view+json": {
       "model_id": "",
       "version_major": 2,
       "version_minor": 0
      },
      "text/plain": [
       "FloatProgress(value=0.0, bar_style='info', description='Progress:', layout=Layout(height='25px', width='50%'),…"
      ]
     },
     "metadata": {},
     "output_type": "display_data"
    },
    {
     "name": "stdout",
     "output_type": "stream",
     "text": [
      "root\n",
      " |-- VendorID: long (nullable = true)\n",
      " |-- lpep_pickup_datetime: timestamp (nullable = true)\n",
      " |-- lpep_dropoff_datetime: timestamp (nullable = true)\n",
      " |-- store_and_fwd_flag: string (nullable = true)\n",
      " |-- RatecodeID: double (nullable = true)\n",
      " |-- PULocationID: long (nullable = true)\n",
      " |-- DOLocationID: long (nullable = true)\n",
      " |-- passenger_count: double (nullable = true)\n",
      " |-- trip_distance: double (nullable = true)\n",
      " |-- fare_amount: double (nullable = true)\n",
      " |-- extra: double (nullable = true)\n",
      " |-- mta_tax: double (nullable = true)\n",
      " |-- tip_amount: double (nullable = true)\n",
      " |-- tolls_amount: double (nullable = true)\n",
      " |-- ehail_fee: integer (nullable = true)\n",
      " |-- improvement_surcharge: double (nullable = true)\n",
      " |-- total_amount: double (nullable = true)\n",
      " |-- payment_type: double (nullable = true)\n",
      " |-- trip_type: double (nullable = true)\n",
      " |-- congestion_surcharge: double (nullable = true)"
     ]
    }
   ],
   "source": [
    "tbl_green_taxi.printSchema()"
   ]
  },
  {
   "cell_type": "markdown",
   "id": "b4ffcf7d",
   "metadata": {},
   "source": [
    "Observa como hacer counts, toma tiempo."
   ]
  },
  {
   "cell_type": "code",
   "execution_count": 4,
   "id": "130363d8",
   "metadata": {},
   "outputs": [
    {
     "data": {
      "application/vnd.jupyter.widget-view+json": {
       "model_id": "",
       "version_major": 2,
       "version_minor": 0
      },
      "text/plain": [
       "FloatProgress(value=0.0, bar_style='info', description='Progress:', layout=Layout(height='25px', width='50%'),…"
      ]
     },
     "metadata": {},
     "output_type": "display_data"
    },
    {
     "name": "stdout",
     "output_type": "stream",
     "text": [
      "39656098"
     ]
    }
   ],
   "source": [
    "tbl_yellow_taxi.count()"
   ]
  },
  {
   "cell_type": "code",
   "execution_count": 5,
   "id": "203b2029",
   "metadata": {
    "scrolled": false
   },
   "outputs": [
    {
     "data": {
      "application/vnd.jupyter.widget-view+json": {
       "model_id": "",
       "version_major": 2,
       "version_minor": 0
      },
      "text/plain": [
       "FloatProgress(value=0.0, bar_style='info', description='Progress:', layout=Layout(height='25px', width='50%'),…"
      ]
     },
     "metadata": {},
     "output_type": "display_data"
    },
    {
     "name": "stdout",
     "output_type": "stream",
     "text": [
      "840402"
     ]
    }
   ],
   "source": [
    "tbl_green_taxi.count()"
   ]
  },
  {
   "cell_type": "markdown",
   "id": "25c3ffe6",
   "metadata": {},
   "source": [
    "Declaremos un pipeline para unir los dataframes de los taxis amarillos y los verdes. Nota que es lazy. Hasta ahora solo es un pipeline que encadena varios transformers."
   ]
  },
  {
   "cell_type": "code",
   "execution_count": 11,
   "id": "19e805ba",
   "metadata": {},
   "outputs": [
    {
     "data": {
      "application/vnd.jupyter.widget-view+json": {
       "model_id": "",
       "version_major": 2,
       "version_minor": 0
      },
      "text/plain": [
       "FloatProgress(value=0.0, bar_style='info', description='Progress:', layout=Layout(height='25px', width='50%'),…"
      ]
     },
     "metadata": {},
     "output_type": "display_data"
    }
   ],
   "source": [
    "tbl_union = (\n",
    "    tbl_yellow_taxi\n",
    "        .select(col('trip_distance'), col('total_amount'))\n",
    "        .withColumn(\"type\", lit(\"yellow\"))\n",
    "     .union(\n",
    "         tbl_green_taxi\n",
    "             .select(col('trip_distance'), col('total_amount'))\n",
    "             .withColumn(\"type\", lit(\"green\"))\n",
    "     )\n",
    ")"
   ]
  },
  {
   "cell_type": "markdown",
   "id": "dbef4be1",
   "metadata": {},
   "source": [
    "Observa como haciendo un count, se ejecuta en el cluster el pipeline."
   ]
  },
  {
   "cell_type": "code",
   "execution_count": 12,
   "id": "2acee02c",
   "metadata": {
    "scrolled": false
   },
   "outputs": [
    {
     "data": {
      "application/vnd.jupyter.widget-view+json": {
       "model_id": "",
       "version_major": 2,
       "version_minor": 0
      },
      "text/plain": [
       "FloatProgress(value=0.0, bar_style='info', description='Progress:', layout=Layout(height='25px', width='50%'),…"
      ]
     },
     "metadata": {},
     "output_type": "display_data"
    },
    {
     "name": "stdout",
     "output_type": "stream",
     "text": [
      "40496500"
     ]
    }
   ],
   "source": [
    "tbl_union.count()"
   ]
  },
  {
   "cell_type": "markdown",
   "id": "7fce164a",
   "metadata": {},
   "source": [
    "Creemos un resumen global de la distancia promedio, el costo por milla promedio y el costo promedio."
   ]
  },
  {
   "cell_type": "code",
   "execution_count": 8,
   "id": "13b94fbd",
   "metadata": {
    "scrolled": true
   },
   "outputs": [
    {
     "data": {
      "application/vnd.jupyter.widget-view+json": {
       "model_id": "",
       "version_major": 2,
       "version_minor": 0
      },
      "text/plain": [
       "FloatProgress(value=0.0, bar_style='info', description='Progress:', layout=Layout(height='25px', width='50%'),…"
      ]
     },
     "metadata": {},
     "output_type": "display_data"
    },
    {
     "name": "stdout",
     "output_type": "stream",
     "text": [
      "+--------+-----------------+--------+\n",
      "|avg_dist|avg_cost_per_mile|avg_cost|\n",
      "+--------+-----------------+--------+\n",
      "|    7.59|            12.71|   21.62|\n",
      "+--------+-----------------+--------+"
     ]
    }
   ],
   "source": [
    "(\n",
    "    tbl_union\n",
    "        .select(\n",
    "            F.round(F.avg('trip_distance'),2).alias('avg_dist'),\n",
    "            F.round(F.avg(col('total_amount')/col('trip_distance')),2).alias('avg_cost_per_mile'),\n",
    "            F.round(F.avg('total_amount'),2).alias('avg_cost'))\n",
    "        \n",
    ").show()"
   ]
  },
  {
   "cell_type": "markdown",
   "id": "45406aa4",
   "metadata": {},
   "source": [
    "Repitamos la misma operación pero ahora agrupando por tipo de taxi."
   ]
  },
  {
   "cell_type": "code",
   "execution_count": 9,
   "id": "b39b7890",
   "metadata": {},
   "outputs": [
    {
     "data": {
      "application/vnd.jupyter.widget-view+json": {
       "model_id": "",
       "version_major": 2,
       "version_minor": 0
      },
      "text/plain": [
       "FloatProgress(value=0.0, bar_style='info', description='Progress:', layout=Layout(height='25px', width='50%'),…"
      ]
     },
     "metadata": {},
     "output_type": "display_data"
    },
    {
     "name": "stdout",
     "output_type": "stream",
     "text": [
      "+------+--------+-----------------+--------+\n",
      "|  type|avg_dist|avg_cost_per_mile|avg_cost|\n",
      "+------+--------+-----------------+--------+\n",
      "|yellow|    5.96|            12.68|   21.67|\n",
      "| green|   84.45|            14.51|   19.32|\n",
      "+------+--------+-----------------+--------+"
     ]
    }
   ],
   "source": [
    "(tbl_union\n",
    "     .groupBy('type')\n",
    "     .agg(\n",
    "         F.round(F.avg('trip_distance'),2).alias('avg_dist'),\n",
    "         F.round(F.avg(col('total_amount')/col('trip_distance')),2).alias('avg_cost_per_mile'),\n",
    "         F.round(F.avg('total_amount'),2).alias('avg_cost')) \n",
    ").show()"
   ]
  },
  {
   "cell_type": "markdown",
   "id": "78e17903",
   "metadata": {},
   "source": [
    "Ahora hagamos algo nuevo, imagina que estos parquets queremos convertirlos en un directorio particionado para poder consultarlo en Athena de manera eficiente.\n",
    "\n",
    "Los datos los vamos a consultar por tipo, año y mes. Eso quiere decir que hay que guardar este dataframe particionado por estas variables."
   ]
  },
  {
   "cell_type": "code",
   "execution_count": 30,
   "id": "713bb5b4",
   "metadata": {},
   "outputs": [
    {
     "data": {
      "application/vnd.jupyter.widget-view+json": {
       "model_id": "",
       "version_major": 2,
       "version_minor": 0
      },
      "text/plain": [
       "FloatProgress(value=0.0, bar_style='info', description='Progress:', layout=Layout(height='25px', width='50%'),…"
      ]
     },
     "metadata": {},
     "output_type": "display_data"
    }
   ],
   "source": [
    "tbl_yellow_taxi_prime = (\n",
    "    tbl_yellow_taxi\n",
    "     .withColumn(\"type\", lit(\"yellow\"))\n",
    "     .withColumn(\"year\", F.year('tpep_pickup_datetime'))\n",
    "     .withColumn(\"month\", F.month('tpep_pickup_datetime'))\n",
    "     .select(\n",
    "         'type', \n",
    "         'year', \n",
    "         'month', \n",
    "         'VendorID', \n",
    "         col('tpep_pickup_datetime').alias('pickup_datetime'), \n",
    "         'passenger_count', \n",
    "         'trip_distance', \n",
    "         'PULocationID', \n",
    "         'DOLocationID', \n",
    "         'fare_amount',\n",
    "         'extra',\n",
    "         'mta_tax',\n",
    "         'tip_amount',\n",
    "         'tolls_amount',\n",
    "         'improvement_surcharge',\n",
    "         'total_amount',\n",
    "         'payment_type',\n",
    "         'congestion_surcharge')\n",
    ")\n",
    "\n",
    "tbl_green_taxi_prime = (tbl_green_taxi\n",
    "     .withColumn(\"type\", lit(\"green\"))\n",
    "     .withColumn(\"year\", F.year('lpep_pickup_datetime'))\n",
    "     .withColumn(\"month\", F.month('lpep_pickup_datetime'))\n",
    "     .select(\n",
    "         'type', \n",
    "         'year', \n",
    "         'month', \n",
    "         'VendorID', \n",
    "         col('lpep_pickup_datetime').alias('pickup_datetime'), \n",
    "         'passenger_count', \n",
    "         'trip_distance', \n",
    "         'PULocationID', \n",
    "         'DOLocationID', \n",
    "         'fare_amount',\n",
    "         'extra',\n",
    "         'mta_tax',\n",
    "         'tip_amount',\n",
    "         'tolls_amount',\n",
    "         'improvement_surcharge',\n",
    "         'total_amount',\n",
    "         'payment_type',\n",
    "         'congestion_surcharge')\n",
    ")\n",
    "\n",
    "tbl_taxi_prime_union = tbl_yellow_taxi_prime.union(tbl_green_taxi_prime)"
   ]
  },
  {
   "cell_type": "markdown",
   "id": "5d8f5b1d",
   "metadata": {},
   "source": [
    "Primero vamos a guardar el archivo como un solo CSV. Para eso usamos coalesce, para decirle a Spark que queremos juntar todas las particiones que están en los nodos en una sola partición. Ojo esta operación es costosa en computo."
   ]
  },
  {
   "cell_type": "markdown",
   "id": "e0c09d19",
   "metadata": {},
   "source": [
    "Por ejemplo, el DataFrame original que cargamos tiene el siguiente número de particiones."
   ]
  },
  {
   "cell_type": "code",
   "execution_count": 36,
   "id": "361431f1",
   "metadata": {},
   "outputs": [
    {
     "data": {
      "application/vnd.jupyter.widget-view+json": {
       "model_id": "",
       "version_major": 2,
       "version_minor": 0
      },
      "text/plain": [
       "FloatProgress(value=0.0, bar_style='info', description='Progress:', layout=Layout(height='25px', width='50%'),…"
      ]
     },
     "metadata": {},
     "output_type": "display_data"
    },
    {
     "name": "stdout",
     "output_type": "stream",
     "text": [
      "<bound method RDD.getNumPartitions of MapPartitionsRDD[121] at javaToPython at NativeMethodAccessorImpl.java:0>"
     ]
    }
   ],
   "source": [
    "tbl_taxi_prime_union.rdd.getNumPartitions"
   ]
  },
  {
   "cell_type": "markdown",
   "id": "47de4f5e",
   "metadata": {},
   "source": [
    "Ahora reduzcamoslo a 1 partición."
   ]
  },
  {
   "cell_type": "code",
   "execution_count": null,
   "id": "2403ce64",
   "metadata": {},
   "outputs": [
    {
     "data": {
      "application/vnd.jupyter.widget-view+json": {
       "model_id": "",
       "version_major": 2,
       "version_minor": 0
      },
      "text/plain": [
       "FloatProgress(value=0.0, bar_style='info', description='Progress:', layout=Layout(height='25px', width='50%'),…"
      ]
     },
     "metadata": {},
     "output_type": "display_data"
    }
   ],
   "source": [
    "(tbl_taxi_prime_union\n",
    "    .filter(col('year') == 2022)\n",
    "    .coalesce(1)\n",
    "     .write\n",
    "     .mode('overwrite')\n",
    "     .csv(\"s3://itam-analytics-MINOMBRE/taxi_prep_csv\")\n",
    ")"
   ]
  },
  {
   "cell_type": "markdown",
   "id": "fe984cd6",
   "metadata": {},
   "source": [
    "Segundo vamos a guardar el archivo particionado por type, year y month como parquet."
   ]
  },
  {
   "cell_type": "code",
   "execution_count": 33,
   "id": "d1fbbb4f",
   "metadata": {},
   "outputs": [
    {
     "data": {
      "application/vnd.jupyter.widget-view+json": {
       "model_id": "",
       "version_major": 2,
       "version_minor": 0
      },
      "text/plain": [
       "FloatProgress(value=0.0, bar_style='info', description='Progress:', layout=Layout(height='25px', width='50%'),…"
      ]
     },
     "metadata": {},
     "output_type": "display_data"
    }
   ],
   "source": [
    "(tbl_taxi_prime_union\n",
    "     .filter(col('year') == 2022)\n",
    "     .write\n",
    "     .partitionBy('type', 'year', 'month')\n",
    "     .mode('overwrite')\n",
    "     .parquet(\"s3://itam-analytics-MINOMBRE/taxi_prep_parquet\")\n",
    ")"
   ]
  },
  {
   "cell_type": "markdown",
   "id": "59ca221b",
   "metadata": {},
   "source": [
    "Observa que el path indica que estamos creando carpetas diferentes para que cuando queramos consultar con Athena, cada carpeta sea una tabla diferente. La idea es que observes la diferencia en consultar ambas tablas en Athena, para que \n",
    "veas el desempeño en tiempo y costo."
   ]
  }
 ],
 "metadata": {
  "kernelspec": {
   "display_name": "PySpark",
   "language": "python",
   "name": "pysparkkernel"
  },
  "language_info": {
   "codemirror_mode": {
    "name": "python",
    "version": 3
   },
   "file_extension": ".py",
   "mimetype": "text/x-python",
   "name": "pyspark",
   "pygments_lexer": "python3"
  }
 },
 "nbformat": 4,
 "nbformat_minor": 5
}
