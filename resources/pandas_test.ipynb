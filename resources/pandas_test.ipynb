{
 "cells": [
  {
   "cell_type": "code",
   "execution_count": 1,
   "metadata": {},
   "outputs": [],
   "source": [
    "import pandas as pd"
   ]
  },
  {
   "cell_type": "code",
   "execution_count": 4,
   "metadata": {},
   "outputs": [],
   "source": [
    "df = pd.read_csv('datos/2024/02-2024_01.csv',header=None,sep='|')"
   ]
  },
  {
   "cell_type": "code",
   "execution_count": 5,
   "metadata": {},
   "outputs": [
    {
     "name": "stdout",
     "output_type": "stream",
     "text": [
      "<class 'pandas.core.frame.DataFrame'>\n",
      "RangeIndex: 596414 entries, 0 to 596413\n",
      "Data columns (total 15 columns):\n",
      " #   Column  Non-Null Count   Dtype  \n",
      "---  ------  --------------   -----  \n",
      " 0   0       596414 non-null  object \n",
      " 1   1       596414 non-null  object \n",
      " 2   2       596414 non-null  object \n",
      " 3   3       596414 non-null  object \n",
      " 4   4       596414 non-null  object \n",
      " 5   5       596414 non-null  float64\n",
      " 6   6       596414 non-null  object \n",
      " 7   7       596414 non-null  object \n",
      " 8   8       596414 non-null  object \n",
      " 9   9       596414 non-null  object \n",
      " 10  10      596414 non-null  object \n",
      " 11  11      596414 non-null  object \n",
      " 12  12      596414 non-null  object \n",
      " 13  13      595979 non-null  float64\n",
      " 14  14      595979 non-null  float64\n",
      "dtypes: float64(3), object(12)\n",
      "memory usage: 68.3+ MB\n"
     ]
    }
   ],
   "source": []
  },
  {
   "cell_type": "code",
   "execution_count": null,
   "metadata": {},
   "outputs": [],
   "source": []
  }
 ],
 "metadata": {
  "kernelspec": {
   "display_name": "datascience",
   "language": "python",
   "name": "python3"
  },
  "language_info": {
   "codemirror_mode": {
    "name": "ipython",
    "version": 3
   },
   "file_extension": ".py",
   "mimetype": "text/x-python",
   "name": "python",
   "nbconvert_exporter": "python",
   "pygments_lexer": "ipython3",
   "version": "3.9.15"
  }
 },
 "nbformat": 4,
 "nbformat_minor": 2
}
