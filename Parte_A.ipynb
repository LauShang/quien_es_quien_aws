{
 "cells": [
  {
   "cell_type": "markdown",
   "id": "98c82ded",
   "metadata": {},
   "source": [
    "Parte A"
   ]
  },
  {
   "cell_type": "markdown",
   "id": "bbe8a549",
   "metadata": {},
   "source": [
    "Levantar cluster en AWS con Hadoop y Pyspark\n",
    "Nombre: cluster_ + la mátricula (número de estudiante) más chica\n",
    "\n",
    "Acceso a JupyterHub\n",
    "JupyterHub: https://master-public-dns-name:9443/\n",
    "- u: `jovyan`\n",
    "- p: `jupyter`"
   ]
  },
  {
   "cell_type": "markdown",
   "id": "d7cdc60c",
   "metadata": {},
   "source": [
    "Librerías y sesión de Spark"
   ]
  },
  {
   "cell_type": "code",
   "execution_count": 1,
   "id": "1abf7147",
   "metadata": {},
   "outputs": [
    {
     "name": "stdout",
     "output_type": "stream",
     "text": [
      "Starting Spark application\n"
     ]
    },
    {
     "data": {
      "text/html": [
       "<table>\n",
       "<tr><th>ID</th><th>YARN Application ID</th><th>Kind</th><th>State</th><th>Spark UI</th><th>Driver log</th><th>User</th><th>Current session?</th></tr><tr><td>1</td><td>application_1713968988527_0002</td><td>pyspark</td><td>idle</td><td><a target=\"_blank\" href=\"http://ip-172-31-32-23.ec2.internal:20888/proxy/application_1713968988527_0002/\">Link</a></td><td><a target=\"_blank\" href=\"http://ip-172-31-36-120.ec2.internal:8042/node/containerlogs/container_1713968988527_0002_01_000001/livy\">Link</a></td><td>None</td><td>✔</td></tr></table>"
      ],
      "text/plain": [
       "<IPython.core.display.HTML object>"
      ]
     },
     "metadata": {},
     "output_type": "display_data"
    },
    {
     "data": {
      "application/vnd.jupyter.widget-view+json": {
       "model_id": "",
       "version_major": 2,
       "version_minor": 0
      },
      "text/plain": [
       "FloatProgress(value=0.0, bar_style='info', description='Progress:', layout=Layout(height='25px', width='50%'),…"
      ]
     },
     "metadata": {},
     "output_type": "display_data"
    },
    {
     "name": "stdout",
     "output_type": "stream",
     "text": [
      "SparkSession available as 'spark'.\n"
     ]
    },
    {
     "data": {
      "application/vnd.jupyter.widget-view+json": {
       "model_id": "",
       "version_major": 2,
       "version_minor": 0
      },
      "text/plain": [
       "FloatProgress(value=0.0, bar_style='info', description='Progress:', layout=Layout(height='25px', width='50%'),…"
      ]
     },
     "metadata": {},
     "output_type": "display_data"
    }
   ],
   "source": [
    "# Crear sesión de SPARK y Cargar los datos \n",
    "from pyspark.sql import SparkSession\n",
    "from pyspark.sql.functions import (\n",
    "    year, to_date, countDistinct, \n",
    "    col, max as max_, row_number, \n",
    "    collect_list, array_contains, lag)\n",
    "from pyspark.sql.window import Window\n",
    "from pyspark.sql.types import StringType\n",
    "\n",
    "BUCKET = \"s3://proyecto-parcial-equipo-6/\""
   ]
  },
  {
   "cell_type": "markdown",
   "id": "73d992de",
   "metadata": {},
   "source": [
    "Carga el CSV en Spark"
   ]
  },
  {
   "cell_type": "code",
   "execution_count": 2,
   "id": "37b82ab9",
   "metadata": {},
   "outputs": [
    {
     "data": {
      "application/vnd.jupyter.widget-view+json": {
       "model_id": "",
       "version_major": 2,
       "version_minor": 0
      },
      "text/plain": [
       "FloatProgress(value=0.0, bar_style='info', description='Progress:', layout=Layout(height='25px', width='50%'),…"
      ]
     },
     "metadata": {},
     "output_type": "display_data"
    },
    {
     "name": "stdout",
     "output_type": "stream",
     "text": [
      "root\n",
      " |-- _c0: string (nullable = true)\n",
      " |-- _c1: string (nullable = true)\n",
      " |-- _c2: string (nullable = true)\n",
      " |-- _c3: string (nullable = true)\n",
      " |-- _c4: string (nullable = true)\n",
      " |-- _c5: double (nullable = true)\n",
      " |-- _c6: date (nullable = true)\n",
      " |-- _c7: string (nullable = true)\n",
      " |-- _c8: string (nullable = true)\n",
      " |-- _c9: string (nullable = true)\n",
      " |-- _c10: string (nullable = true)\n",
      " |-- _c11: string (nullable = true)\n",
      " |-- _c12: string (nullable = true)\n",
      " |-- _c13: string (nullable = true)\n",
      " |-- _c14: string (nullable = true)"
     ]
    }
   ],
   "source": [
    "# Revisión de estructura de datos antes de tener los headers\n",
    "# Inicia una sesión Spark.\n",
    "spark = SparkSession.builder.appName(\"parteA\").getOrCreate()\n",
    "\n",
    "# Lee desde S3.\n",
    "df = spark.read.csv(BUCKET + \"clean/\", header=False, inferSchema=True, sep='|')\n",
    "\n",
    "# Muestra las primeras filas para asegurarte de que se ha cargado correctamente.\n",
    "df.show(20)\n",
    "\n",
    "# Muestra schema\n",
    "df.printSchema()"
   ]
  },
  {
   "cell_type": "markdown",
   "id": "84a24d59",
   "metadata": {},
   "source": [
    "Carga el CSV en Spark, \n",
    "Adición de headers, \n",
    "Optimizar data types"
   ]
  },
  {
   "cell_type": "code",
   "execution_count": 3,
   "id": "cb243cee",
   "metadata": {},
   "outputs": [
    {
     "data": {
      "application/vnd.jupyter.widget-view+json": {
       "model_id": "",
       "version_major": 2,
       "version_minor": 0
      },
      "text/plain": [
       "FloatProgress(value=0.0, bar_style='info', description='Progress:', layout=Layout(height='25px', width='50%'),…"
      ]
     },
     "metadata": {},
     "output_type": "display_data"
    },
    {
     "name": "stdout",
     "output_type": "stream",
     "text": [
      "root\n",
      " |-- producto: string (nullable = true)\n",
      " |-- presentacion: string (nullable = true)\n",
      " |-- marca: string (nullable = true)\n",
      " |-- categoria: string (nullable = true)\n",
      " |-- catalogo: string (nullable = true)\n",
      " |-- precio: double (nullable = true)\n",
      " |-- fecha_registro: date (nullable = true)\n",
      " |-- cadena_comercial: string (nullable = true)\n",
      " |-- giro: string (nullable = true)\n",
      " |-- nombre_comercial: string (nullable = true)\n",
      " |-- direccion: string (nullable = true)\n",
      " |-- estado: string (nullable = true)\n",
      " |-- municipio: string (nullable = true)\n",
      " |-- latitud: string (nullable = true)\n",
      " |-- longitud: string (nullable = true)"
     ]
    }
   ],
   "source": [
    "# Renombrar las columnas del DataFrame.\n",
    "df_with_headers = df.toDF(\"producto\", \"presentacion\", \"marca\", \"categoria\", \"catalogo\", \"precio\", \"fecha_registro\", \"cadena_comercial\", \"giro\", \"nombre_comercial\", \"direccion\", \"estado\", \"municipio\", \"latitud\", \"longitud\")\n",
    "\n",
    "# optimizar data type\n",
    "df_with_headers = df_with_headers.withColumn(\"latitud\", col(\"latitud\").cast(\"float\"))\n",
    "df_with_headers = df_with_headers.withColumn(\"longitud\", col(\"longitud\").cast(\"float\"))\n",
    "\n",
    "# Muestra las primeras filas para asegurarte de que se han cargado correctamente con los nuevos encabezados.\n",
    "df_with_headers.show(20)\n",
    "\n",
    "# Muestra schema\n",
    "df_with_headers.printSchema()"
   ]
  },
  {
   "cell_type": "markdown",
   "id": "8e588434",
   "metadata": {},
   "source": [
    "Guarda el CSV como parquet en S3, particionalo por catalogo. (Utiliza todos los trucos que consideres)."
   ]
  },
  {
   "cell_type": "code",
   "execution_count": 5,
   "id": "429cef80",
   "metadata": {},
   "outputs": [
    {
     "data": {
      "application/vnd.jupyter.widget-view+json": {
       "model_id": "",
       "version_major": 2,
       "version_minor": 0
      },
      "text/plain": [
       "FloatProgress(value=0.0, bar_style='info', description='Progress:', layout=Layout(height='25px', width='50%'),…"
      ]
     },
     "metadata": {},
     "output_type": "display_data"
    }
   ],
   "source": [
    "# Guarda el CSV como parquet en S3, particionalo por catalogo\n",
    "df_with_headers.write.mode(\"overwrite\").partitionBy(\"catalogo\").parquet(BUCKET + \"output/\")"
   ]
  },
  {
   "cell_type": "markdown",
   "id": "d9d85691",
   "metadata": {},
   "source": [
    "Carga el parquet en Spark"
   ]
  },
  {
   "cell_type": "code",
   "execution_count": 6,
   "id": "f1241a09",
   "metadata": {},
   "outputs": [
    {
     "data": {
      "application/vnd.jupyter.widget-view+json": {
       "model_id": "",
       "version_major": 2,
       "version_minor": 0
      },
      "text/plain": [
       "FloatProgress(value=0.0, bar_style='info', description='Progress:', layout=Layout(height='25px', width='50%'),…"
      ]
     },
     "metadata": {},
     "output_type": "display_data"
    },
    {
     "name": "stdout",
     "output_type": "stream",
     "text": [
      "root\n",
      " |-- producto: string (nullable = true)\n",
      " |-- presentacion: string (nullable = true)\n",
      " |-- marca: string (nullable = true)\n",
      " |-- categoria: string (nullable = true)\n",
      " |-- precio: double (nullable = true)\n",
      " |-- fecha_registro: date (nullable = true)\n",
      " |-- cadena_comercial: string (nullable = true)\n",
      " |-- giro: string (nullable = true)\n",
      " |-- nombre_comercial: string (nullable = true)\n",
      " |-- direccion: string (nullable = true)\n",
      " |-- estado: string (nullable = true)\n",
      " |-- municipio: string (nullable = true)\n",
      " |-- latitud: float (nullable = true)\n",
      " |-- longitud: float (nullable = true)\n",
      " |-- catalogo: string (nullable = true)"
     ]
    }
   ],
   "source": [
    "# Carga del parquet en Spark\n",
    "parquet_df = spark.read.parquet(BUCKET + \"output/\")\n",
    "\n",
    "# Muestra las primeras filas para verificar.\n",
    "parquet_df.show(20)\n",
    "\n",
    "# Muestra schema\n",
    "parquet_df.printSchema()"
   ]
  },
  {
   "cell_type": "markdown",
   "id": "bb96eb61",
   "metadata": {},
   "source": [
    "¿Cuántos catálogos diferentes tenemos?"
   ]
  },
  {
   "cell_type": "code",
   "execution_count": 9,
   "id": "ed311aa0",
   "metadata": {},
   "outputs": [
    {
     "data": {
      "application/vnd.jupyter.widget-view+json": {
       "model_id": "",
       "version_major": 2,
       "version_minor": 0
      },
      "text/plain": [
       "FloatProgress(value=0.0, bar_style='info', description='Progress:', layout=Layout(height='25px', width='50%'),…"
      ]
     },
     "metadata": {},
     "output_type": "display_data"
    },
    {
     "name": "stdout",
     "output_type": "stream",
     "text": [
      "+----+-----------------+\n",
      "| a?o|distinct_catalogs|\n",
      "+----+-----------------+\n",
      "|2018|               10|\n",
      "|2019|               11|\n",
      "|2020|               10|\n",
      "|2021|               10|\n",
      "|2022|               11|\n",
      "|2023|               11|\n",
      "|2024|               10|\n",
      "+----+-----------------+"
     ]
    }
   ],
   "source": [
    "catalog_count_by_year = (parquet_df\n",
    "    .groupBy(year(\"fecha_registro\").alias(\"año\"))  # Extrae el año y agrupa por este\n",
    "    .agg(countDistinct(\"catalogo\").alias(\"distinct_catalogs\"))  # Cuenta los catálogos únicos\n",
    ")\n",
    "\n",
    "# Muestra el resultado.\n",
    "catalog_count_by_year.show()\n",
    "\n",
    "# Guarda la salida en el bucket de S3.\n",
    "catalog_count_by_year.write.mode(\"overwrite\").parquet(BUCKET + \"preguntas/diff_catalogs/\")"
   ]
  },
  {
   "cell_type": "markdown",
   "id": "00d430ba",
   "metadata": {},
   "source": [
    "¿Cuáles son los 20 catálogos con más observaciones? Guarda la salida de este query en tu bucket de S3, lo necesitaremos más adelante."
   ]
  },
  {
   "cell_type": "code",
   "execution_count": 11,
   "id": "48c7c068",
   "metadata": {},
   "outputs": [
    {
     "data": {
      "application/vnd.jupyter.widget-view+json": {
       "model_id": "",
       "version_major": 2,
       "version_minor": 0
      },
      "text/plain": [
       "FloatProgress(value=0.0, bar_style='info', description='Progress:', layout=Layout(height='25px', width='50%'),…"
      ]
     },
     "metadata": {},
     "output_type": "display_data"
    },
    {
     "name": "stdout",
     "output_type": "stream",
     "text": [
      "+-------------------+--------+\n",
      "|           catalogo|   count|\n",
      "+-------------------+--------+\n",
      "|            basicos|46967421|\n",
      "|       medicamentos|19223453|\n",
      "|  electrodomesticos| 7175538|\n",
      "| frutas y legumbres| 5041732|\n",
      "|   utiles escolares| 2936010|\n",
      "|           mercados| 2238684|\n",
      "|           juguetes| 1432183|\n",
      "|              pacic| 1079162|\n",
      "|pescados y mariscos|  569632|\n",
      "|           navideos|  236543|\n",
      "|              tenis|   15768|\n",
      "|        aeropuertos|     581|\n",
      "+-------------------+--------+"
     ]
    }
   ],
   "source": [
    "# Encuentra los 20 catálogos con más observaciones.\n",
    "top_catalogs = parquet_df.groupBy(\"catalogo\").count().orderBy(col(\"count\").desc()).limit(20)\n",
    "\n",
    "# Muestra el resultado.\n",
    "top_catalogs.show()\n",
    "\n",
    "# Guarda la salida en el bucket de S3.\n",
    "top_catalogs.write.mode(\"overwrite\").parquet(BUCKET + \"preguntas/top_catalogs/\")"
   ]
  },
  {
   "cell_type": "markdown",
   "id": "13892c1a",
   "metadata": {},
   "source": [
    "¿Tenemos datos de todos los estados del país? De no ser así, ¿cuáles faltan?"
   ]
  },
  {
   "cell_type": "code",
   "execution_count": 12,
   "id": "1be14459",
   "metadata": {},
   "outputs": [
    {
     "data": {
      "application/vnd.jupyter.widget-view+json": {
       "model_id": "",
       "version_major": 2,
       "version_minor": 0
      },
      "text/plain": [
       "FloatProgress(value=0.0, bar_style='info', description='Progress:', layout=Layout(height='25px', width='50%'),…"
      ]
     },
     "metadata": {},
     "output_type": "display_data"
    },
    {
     "name": "stdout",
     "output_type": "stream",
     "text": [
      "+---------------+\n",
      "|         estado|\n",
      "+---------------+\n",
      "|ciudad de mxico|\n",
      "|     tamaulipas|\n",
      "|      zacatecas|\n",
      "|       campeche|\n",
      "|         yucatn|\n",
      "|       veracruz|\n",
      "|        morelos|\n",
      "|     guanajuato|\n",
      "|         sonora|\n",
      "|       tlaxcala|\n",
      "|        nayarit|\n",
      "|        sinaloa|\n",
      "|         oaxaca|\n",
      "|       guerrero|\n",
      "|   quintana roo|\n",
      "|       quertaro|\n",
      "| san luis potos|\n",
      "|         puebla|\n",
      "|        durango|\n",
      "|estado de mxico|\n",
      "+---------------+\n",
      "only showing top 20 rows"
     ]
    }
   ],
   "source": [
    "# Lista todos los estados únicos presentes en el DataFrame.\n",
    "unique_states = parquet_df.select(\"estado\").distinct()\n",
    "\n",
    "# Muestra los estados únicos.\n",
    "unique_states.show()\n",
    "\n",
    "# Opcional: Guarda la salida en el bucket de S3.\n",
    "unique_states.write.mode(\"overwrite\").csv(BUCKET + \"preguntas/unique_states/\")"
   ]
  },
  {
   "cell_type": "code",
   "execution_count": 13,
   "id": "a9df794f",
   "metadata": {},
   "outputs": [
    {
     "data": {
      "application/vnd.jupyter.widget-view+json": {
       "model_id": "",
       "version_major": 2,
       "version_minor": 0
      },
      "text/plain": [
       "FloatProgress(value=0.0, bar_style='info', description='Progress:', layout=Layout(height='25px', width='50%'),…"
      ]
     },
     "metadata": {},
     "output_type": "display_data"
    },
    {
     "name": "stdout",
     "output_type": "stream",
     "text": [
      "+------+\n",
      "|estado|\n",
      "+------+\n",
      "+------+"
     ]
    }
   ],
   "source": [
    "# all_states es una lista de todos los estados posibles del país.\n",
    "all_states = ['ciudad de mxico','tamaulipas','zacatecas','campeche','yucatn','veracruz','morelos',\n",
    "              'guanajuato','sonora','tlaxcala','nayarit','sinaloa','oaxaca','guerrero',\n",
    "              'quintana roo','quertaro','san luis potos','puebla','durango','estado de mxico',\n",
    "              'jalisco','aguascalientes','coahuila de zaragoza','baja california sur','colima',\n",
    "              'nuevo len','tabasco','chihuahua','baja california','michoacn de ocampo','chiapas',\n",
    "              'hidalgo']\n",
    "\n",
    "# Crea un DataFrame para la lista completa de estados.\n",
    "all_states_df = spark.createDataFrame([(state,) for state in all_states], [\"estado\"])\n",
    "\n",
    "# Realiza un anti join para encontrar los estados que faltan.\n",
    "missing_states = all_states_df.join(unique_states, \"estado\", \"left_anti\")\n",
    "\n",
    "# Muestra los estados que faltan.\n",
    "missing_states.show()\n",
    "\n",
    "# Opcional: Guarda la salida en el bucket de S3.\n",
    "missing_states.write.mode(\"overwrite\").csv(BUCKET + \"preguntas/missing_states/\")"
   ]
  },
  {
   "cell_type": "markdown",
   "id": "545ec5e9",
   "metadata": {},
   "source": [
    "¿Cuántas observaciones tenemos por estado?"
   ]
  },
  {
   "cell_type": "code",
   "execution_count": 14,
   "id": "a5b938ad",
   "metadata": {},
   "outputs": [
    {
     "data": {
      "application/vnd.jupyter.widget-view+json": {
       "model_id": "",
       "version_major": 2,
       "version_minor": 0
      },
      "text/plain": [
       "FloatProgress(value=0.0, bar_style='info', description='Progress:', layout=Layout(height='25px', width='50%'),…"
      ]
     },
     "metadata": {},
     "output_type": "display_data"
    },
    {
     "name": "stdout",
     "output_type": "stream",
     "text": [
      "+--------------------+--------+\n",
      "|              estado|   count|\n",
      "+--------------------+--------+\n",
      "|     ciudad de mxico|17968798|\n",
      "|     estado de mxico|12537548|\n",
      "|             jalisco| 4182990|\n",
      "|           nuevo len| 3358320|\n",
      "|          guanajuato| 3330005|\n",
      "|        quintana roo| 2821004|\n",
      "|            veracruz| 2661838|\n",
      "|            quertaro| 2534860|\n",
      "|             tabasco| 2471506|\n",
      "|           zacatecas| 2380067|\n",
      "|              puebla| 2345346|\n",
      "|              yucatn| 2331663|\n",
      "|          tamaulipas| 1896217|\n",
      "|              sonora| 1887619|\n",
      "|            tlaxcala| 1810148|\n",
      "|           chihuahua| 1798478|\n",
      "|            campeche| 1765074|\n",
      "|      san luis potos| 1718257|\n",
      "|      aguascalientes| 1668545|\n",
      "|coahuila de zaragoza| 1616519|\n",
      "+--------------------+--------+\n",
      "only showing top 20 rows"
     ]
    }
   ],
   "source": [
    "# Agrupa por estado y cuenta las observaciones\n",
    "observations_per_state = parquet_df.groupBy(\"estado\").count().orderBy(col(\"count\").desc())\n",
    "\n",
    "# Muestra los resultados\n",
    "observations_per_state.show()\n",
    "\n",
    "# Opcional: Guarda la salida en el bucket de S3.\n",
    "observations_per_state.write.mode(\"overwrite\").csv(BUCKET + \"preguntas/observations_per_state/\")"
   ]
  },
  {
   "cell_type": "markdown",
   "id": "79b81396",
   "metadata": {},
   "source": [
    "De cada estado obten: el número de catalogos diferentes por año, ¿ha aumentado el número de catálogos con el tiempo?"
   ]
  },
  {
   "cell_type": "code",
   "execution_count": 17,
   "id": "4d8f75a0",
   "metadata": {},
   "outputs": [
    {
     "data": {
      "application/vnd.jupyter.widget-view+json": {
       "model_id": "",
       "version_major": 2,
       "version_minor": 0
      },
      "text/plain": [
       "FloatProgress(value=0.0, bar_style='info', description='Progress:', layout=Layout(height='25px', width='50%'),…"
      ]
     },
     "metadata": {},
     "output_type": "display_data"
    },
    {
     "name": "stdout",
     "output_type": "stream",
     "text": [
      "+-------------------+----+------------+------+\n",
      "|             estado|year|num_catalogs|change|\n",
      "+-------------------+----+------------+------+\n",
      "|     aguascalientes|2018|           9|  NULL|\n",
      "|     aguascalientes|2019|          11|     2|\n",
      "|     aguascalientes|2020|           9|    -2|\n",
      "|     aguascalientes|2021|          10|     1|\n",
      "|     aguascalientes|2022|          11|     1|\n",
      "|     aguascalientes|2023|          11|     0|\n",
      "|     aguascalientes|2024|           9|    -2|\n",
      "|    baja california|2018|          10|  NULL|\n",
      "|    baja california|2019|          10|     0|\n",
      "|    baja california|2020|           9|    -1|\n",
      "|    baja california|2021|           9|     0|\n",
      "|    baja california|2022|          11|     2|\n",
      "|    baja california|2023|          11|     0|\n",
      "|    baja california|2024|          10|    -1|\n",
      "|baja california sur|2018|           9|  NULL|\n",
      "|baja california sur|2019|          10|     1|\n",
      "|baja california sur|2020|           9|    -1|\n",
      "|baja california sur|2021|          10|     1|\n",
      "|baja california sur|2022|          11|     1|\n",
      "|baja california sur|2023|          11|     0|\n",
      "+-------------------+----+------------+------+\n",
      "only showing top 20 rows"
     ]
    }
   ],
   "source": [
    "# Define una ventana particionada por estado y ordenada por año para análisis temporal.\n",
    "windowSpec = Window.partitionBy(\"estado\").orderBy(\"year\")\n",
    "\n",
    "# Preparar el DataFrame y calcular el número de catálogos distintos por estado y año, y el cambio año a año.\n",
    "catalogs_per_state_year = (\n",
    "    parquet_df\n",
    "    # Asegurarse de que 'fecha_registro' está en formato de fecha correcto.\n",
    "    .withColumn(\"fecha_registro\", to_date(\"fecha_registro\", \"yyyy-MM-dd\"))\n",
    "    # Extraer el año y agrupar por este y por estado.\n",
    "    .groupBy(\"estado\", year(\"fecha_registro\").alias(\"year\"))\n",
    "    .agg(countDistinct(\"catalogo\").alias(\"num_catalogs\"))\n",
    "    # Calcular el número de catálogos del año anterior y el cambio respecto al año anterior.\n",
    "    .withColumn(\"prev_year_catalogs\", lag(\"num_catalogs\", 1).over(windowSpec))\n",
    "    .withColumn(\"change\", col(\"num_catalogs\") - col(\"prev_year_catalogs\"))\n",
    "    .select(\"estado\", \"year\", \"num_catalogs\", \"change\")\n",
    "    .orderBy(\"estado\", \"year\")\n",
    ")\n",
    "\n",
    "# Muestra los resultados\n",
    "catalogs_per_state_year.show()\n",
    "\n",
    "# Opcional: Guarda la salida en el bucket de S3.\n",
    "catalogs_per_state_year.write.mode(\"overwrite\").csv(BUCKET + \"preguntas/catalogs_per_state_year/\")"
   ]
  },
  {
   "cell_type": "markdown",
   "id": "67187287",
   "metadata": {},
   "source": [
    "Utilizando Spark contesta las siguientes preguntas a partir del catálogo que le tocó a tu equipo. Recuerda trabajar en el archivo con los datos particionados de otra manera tus queries van a tardar mucho."
   ]
  },
  {
   "cell_type": "markdown",
   "id": "b3eafa0c",
   "metadata": {},
   "source": [
    "¿Cuańtas marcas diferentes tiene tu categoría?"
   ]
  },
  {
   "cell_type": "code",
   "execution_count": 19,
   "id": "7d2877ee",
   "metadata": {},
   "outputs": [
    {
     "data": {
      "application/vnd.jupyter.widget-view+json": {
       "model_id": "",
       "version_major": 2,
       "version_minor": 0
      },
      "text/plain": [
       "FloatProgress(value=0.0, bar_style='info', description='Progress:', layout=Layout(height='25px', width='50%'),…"
      ]
     },
     "metadata": {},
     "output_type": "display_data"
    },
    {
     "name": "stdout",
     "output_type": "stream",
     "text": [
      "Numero de marcas unicas en la catalogo: 'Basicos': 658"
     ]
    }
   ],
   "source": [
    "# Filtra por catalogo asignado\n",
    "filtered_df = parquet_df.filter(col(\"catalogo\") == \"basicos\")\n",
    "\n",
    "# Selecciona la columna 'marca', encuentra valores únicos, y cuenta\n",
    "unique_brands_count = filtered_df.select(\"marca\").distinct().count()\n",
    "\n",
    "print(f\"Numero de marcas unicas en la catalogo: 'Basicos': {unique_brands_count}\")"
   ]
  },
  {
   "cell_type": "markdown",
   "id": "9036b865",
   "metadata": {},
   "source": [
    "¿Cuál es la marca con mayor precio? ¿En qué estado?"
   ]
  },
  {
   "cell_type": "code",
   "execution_count": 20,
   "id": "f20b426e",
   "metadata": {},
   "outputs": [
    {
     "data": {
      "application/vnd.jupyter.widget-view+json": {
       "model_id": "",
       "version_major": 2,
       "version_minor": 0
      },
      "text/plain": [
       "FloatProgress(value=0.0, bar_style='info', description='Progress:', layout=Layout(height='25px', width='50%'),…"
      ]
     },
     "metadata": {},
     "output_type": "display_data"
    },
    {
     "name": "stdout",
     "output_type": "stream",
     "text": [
      "La marca con el precio m?s alto es sin marca con un precio de 899.0 en el estado de tlaxcala."
     ]
    }
   ],
   "source": [
    "# Encuentra la marca con el precio más alto y el estado correspondiente\n",
    "max_price_info = filtered_df.orderBy(col(\"precio\").desc()).select(\"marca\", \"precio\", \"estado\").first()\n",
    "\n",
    "print(f\"La marca con el precio más alto es {max_price_info['marca']} con un precio de {max_price_info['precio']} en el estado de {max_price_info['estado']}.\")"
   ]
  },
  {
   "cell_type": "markdown",
   "id": "0427b628",
   "metadata": {},
   "source": [
    "¿Cuál es la marca con menor precio en CDMX? (en aquel entonces Distrito Federal)"
   ]
  },
  {
   "cell_type": "code",
   "execution_count": 23,
   "id": "51579932",
   "metadata": {},
   "outputs": [
    {
     "data": {
      "application/vnd.jupyter.widget-view+json": {
       "model_id": "",
       "version_major": 2,
       "version_minor": 0
      },
      "text/plain": [
       "FloatProgress(value=0.0, bar_style='info', description='Progress:', layout=Layout(height='25px', width='50%'),…"
      ]
     },
     "metadata": {},
     "output_type": "display_data"
    },
    {
     "name": "stdout",
     "output_type": "stream",
     "text": [
      "La marca con el precio m?s bajo en Ciudad de M?xico es s/m con un precio de 1.0."
     ]
    }
   ],
   "source": [
    "# Filtra por estados que contengan la secuencia 'CIUDAD DE'\n",
    "df_cdmx = filtered_df.filter(col(\"estado\").contains(\"ciudad de\"))\n",
    "\n",
    "# Encuentra la marca con el precio más bajo y el estado correspondiente\n",
    "min_price_info = df_cdmx.orderBy(col(\"precio\").asc()).select(\"marca\", \"precio\", \"municipio\").first()\n",
    "\n",
    "print(f\"La marca con el precio más bajo en Ciudad de México es {min_price_info['marca']} con un precio de {min_price_info['precio']}.\")"
   ]
  },
  {
   "cell_type": "markdown",
   "id": "96bc2edd",
   "metadata": {},
   "source": [
    "¿Cuál es la marca con mayores observaciones?"
   ]
  },
  {
   "cell_type": "code",
   "execution_count": 24,
   "id": "ee22262c",
   "metadata": {},
   "outputs": [
    {
     "data": {
      "application/vnd.jupyter.widget-view+json": {
       "model_id": "",
       "version_major": 2,
       "version_minor": 0
      },
      "text/plain": [
       "FloatProgress(value=0.0, bar_style='info', description='Progress:', layout=Layout(height='25px', width='50%'),…"
      ]
     },
     "metadata": {},
     "output_type": "display_data"
    },
    {
     "name": "stdout",
     "output_type": "stream",
     "text": [
      "La marca con el mayor n?mero de observaciones es s/m, con 2762155 observaciones."
     ]
    }
   ],
   "source": [
    "# Agrupa por la columna 'marca' y cuenta el número de observaciones para cada marca\n",
    "brand_counts = filtered_df.groupBy(\"marca\").count()\n",
    "\n",
    "# Ordena los resultados por el conteo en orden descendente y toma la primera fila\n",
    "most_observed_brand = brand_counts.orderBy(col(\"count\").desc()).first()\n",
    "\n",
    "# Verifica si hay resultados antes de acceder al resultado\n",
    "if most_observed_brand:\n",
    "    print(f\"La marca con el mayor número de observaciones es {most_observed_brand['marca']}, con {most_observed_brand['count']} observaciones.\")\n",
    "else:\n",
    "    print(\"No se encontraron registros en el dataset.\")"
   ]
  },
  {
   "cell_type": "markdown",
   "id": "e3a61cbc",
   "metadata": {},
   "source": [
    "¿Cuáles son el top 5 de marcas con mayor precio en cada estado? ¿Son diferentes?"
   ]
  },
  {
   "cell_type": "code",
   "execution_count": 25,
   "id": "1f15c323",
   "metadata": {},
   "outputs": [
    {
     "data": {
      "application/vnd.jupyter.widget-view+json": {
       "model_id": "",
       "version_major": 2,
       "version_minor": 0
      },
      "text/plain": [
       "FloatProgress(value=0.0, bar_style='info', description='Progress:', layout=Layout(height='25px', width='50%'),…"
      ]
     },
     "metadata": {},
     "output_type": "display_data"
    },
    {
     "name": "stdout",
     "output_type": "stream",
     "text": [
      "+-------------------+----------+------+----------+\n",
      "|             estado|     marca|precio|row_number|\n",
      "+-------------------+----------+------+----------+\n",
      "|     aguascalientes|  saba cup| 609.0|         1|\n",
      "|     aguascalientes|  saba cup| 609.0|         2|\n",
      "|     aguascalientes|  saba cup| 609.0|         3|\n",
      "|     aguascalientes|  saba cup| 609.0|         4|\n",
      "|     aguascalientes|  saba cup| 609.0|         5|\n",
      "|    baja california|       s/m| 659.9|         1|\n",
      "|    baja california|       s/m| 659.9|         2|\n",
      "|    baja california|       s/m| 659.9|         3|\n",
      "|    baja california|       s/m| 659.9|         4|\n",
      "|    baja california|       s/m| 659.9|         5|\n",
      "|baja california sur|diva cup 2| 690.0|         1|\n",
      "|baja california sur|diva cup 2| 690.0|         2|\n",
      "|baja california sur|diva cup 2| 690.0|         3|\n",
      "|baja california sur|diva cup 2| 690.0|         4|\n",
      "|baja california sur|diva cup 2| 690.0|         5|\n",
      "|           campeche|  saba cup| 580.0|         1|\n",
      "|           campeche|  saba cup| 580.0|         2|\n",
      "|           campeche|  saba cup| 580.0|         3|\n",
      "|           campeche|  saba cup| 580.0|         4|\n",
      "|           campeche|  saba cup| 580.0|         5|\n",
      "+-------------------+----------+------+----------+\n",
      "only showing top 20 rows\n",
      "\n",
      "+--------------------+------------------------------------------------------------+\n",
      "|estado              |top_5_brands                                                |\n",
      "+--------------------+------------------------------------------------------------+\n",
      "|aguascalientes      |[saba cup, saba cup, saba cup, saba cup, saba cup]          |\n",
      "|baja california     |[s/m, s/m, s/m, s/m, s/m]                                   |\n",
      "|baja california sur |[diva cup 2, diva cup 2, diva cup 2, diva cup 2, diva cup 2]|\n",
      "|campeche            |[saba cup, saba cup, saba cup, saba cup, saba cup]          |\n",
      "|chiapas             |[diva cup 1, diva cup 2, diva cup 1, diva cup 2, diva cup 1]|\n",
      "|chihuahua           |[diva cup 1, diva cup 1, diva cup 1, diva cup 1, diva cup 1]|\n",
      "|ciudad de mxico     |[diva cup 2, diva cup 2, diva cup 2, diva cup 2, diva cup 2]|\n",
      "|coahuila de zaragoza|[s/m, s/m, s/m, s/m, s/m]                                   |\n",
      "|colima              |[s/m, s/m, s/m, s/m, jose cuervo tradicional]               |\n",
      "|durango             |[diva cup 1, diva cup 1, diva cup 1, diva cup 1, diva cup 1]|\n",
      "|estado de mxico     |[diva cup 2, diva cup 2, diva cup 2, diva cup 2, diva cup 2]|\n",
      "|guanajuato          |[diva cup 1, diva cup 2, diva cup 2, diva cup 2, diva cup 2]|\n",
      "|guerrero            |[saba cup, saba cup, diva cup 1, diva cup 2, diva cup 1]    |\n",
      "|hidalgo             |[saba cup, saba cup, saba cup, saba cup, s/m]               |\n",
      "|jalisco             |[diva cup 2, diva cup 2, diva cup 2, diva cup 2, diva cup 2]|\n",
      "|michoacn de ocampo  |[saba cup, saba cup, saba cup, saba cup, saba cup]          |\n",
      "|morelos             |[diva cup 2, diva cup 2, diva cup 2, diva cup 2, diva cup 2]|\n",
      "|nayarit             |[s/m, s/m, s/m, s/m, s/m]                                   |\n",
      "|nuevo len           |[s/m, diva cup 2, diva cup 2, diva cup 2, diva cup 2]       |\n",
      "|oaxaca              |[diva cup 2, diva cup 2, diva cup 2, diva cup 1, diva cup 2]|\n",
      "|puebla              |[diva cup 2, diva cup 2, diva cup 2, diva cup 2, diva cup 2]|\n",
      "|quertaro            |[diva cup 2, diva cup 2, diva cup 2, diva cup 2, diva cup 2]|\n",
      "|quintana roo        |[diva cup 2, diva cup 2, diva cup 2, diva cup 1, diva cup 1]|\n",
      "|san luis potos      |[s/m, s/m, s/m, s/m, s/m]                                   |\n",
      "|sinaloa             |[s/m, s/m, s/m, s/m, s/m]                                   |\n",
      "|sonora              |[s/m, s/m, s/m, s/m, s/m]                                   |\n",
      "|tabasco             |[diva cup 1, diva cup 2, diva cup 1, diva cup 2, diva cup 1]|\n",
      "|tamaulipas          |[s/m, s/m, s/m, s/m, s/m]                                   |\n",
      "|tlaxcala            |[sin marca, sin marca, sin marca, sin marca, sin marca]     |\n",
      "|veracruz            |[diva cup 2, diva cup 1, s/m, s/m, s/m]                     |\n",
      "|yucatn              |[saba cup, saba cup, saba cup, saba cup, saba cup]          |\n",
      "|zacatecas           |[diva cup 2, diva cup 2, diva cup 2, diva cup 2, diva cup 2]|\n",
      "+--------------------+------------------------------------------------------------+"
     ]
    }
   ],
   "source": [
    "# Definir una ventana ordenada por precio descendente dentro de cada estado\n",
    "windowSpec = Window.partitionBy(\"estado\").orderBy(col(\"precio\").desc())\n",
    "\n",
    "# Aplicar la ventana con un número de fila para identificar los 5 principales\n",
    "state_brand_prices = filtered_df.withColumn(\"row_number\", row_number().over(windowSpec)) \\\n",
    "    .filter(col(\"row_number\") <= 5) \\\n",
    "    .select(\"estado\", \"marca\", \"precio\", \"row_number\")\n",
    "\n",
    "state_brand_prices.show()\n",
    "\n",
    "# Para comparar las 5 listas principales en diferentes estados, las recopilamos e imprimimos agrupadas por estado.\n",
    "top_brands_by_state = state_brand_prices.groupBy(\"estado\") \\\n",
    "    .agg(collect_list(\"marca\").alias(\"top_5_brands\")) \\\n",
    "    .orderBy(\"estado\")\n",
    "top_brands_by_state.show(50, False)\n"
   ]
  },
  {
   "cell_type": "markdown",
   "id": "97d27328",
   "metadata": {},
   "source": [
    "¿Cuáles son el top 5 de marcas con menor precio en CDMX? (en aquel entonces Distrito Federal)"
   ]
  },
  {
   "cell_type": "code",
   "execution_count": 26,
   "id": "f3db8057",
   "metadata": {},
   "outputs": [
    {
     "data": {
      "application/vnd.jupyter.widget-view+json": {
       "model_id": "",
       "version_major": 2,
       "version_minor": 0
      },
      "text/plain": [
       "FloatProgress(value=0.0, bar_style='info', description='Progress:', layout=Layout(height='25px', width='50%'),…"
      ]
     },
     "metadata": {},
     "output_type": "display_data"
    },
    {
     "name": "stdout",
     "output_type": "stream",
     "text": [
      "+-------------------+-----+------+----------+\n",
      "|             estado|marca|precio|row_number|\n",
      "+-------------------+-----+------+----------+\n",
      "|     aguascalientes|  s/m|   1.0|         1|\n",
      "|     aguascalientes|  s/m|   1.2|         2|\n",
      "|     aguascalientes|  s/m|   1.2|         3|\n",
      "|     aguascalientes|  s/m|   1.2|         4|\n",
      "|     aguascalientes|  s/m|   1.2|         5|\n",
      "|    baja california|  s/m|   1.5|         1|\n",
      "|    baja california|  s/m|   1.5|         2|\n",
      "|    baja california|  s/m|   1.5|         3|\n",
      "|    baja california|  s/m|   1.5|         4|\n",
      "|    baja california|  s/m|   1.5|         5|\n",
      "|baja california sur|  s/m|  1.15|         1|\n",
      "|baja california sur|  s/m|  1.15|         2|\n",
      "|baja california sur|  s/m|  1.15|         3|\n",
      "|baja california sur|  s/m|  1.15|         4|\n",
      "|baja california sur|  s/m|   1.2|         5|\n",
      "|           campeche|  s/m|   1.1|         1|\n",
      "|           campeche|  s/m|   1.1|         2|\n",
      "|           campeche|  s/m|   1.1|         3|\n",
      "|           campeche|  s/m|   1.1|         4|\n",
      "|           campeche|  s/m|   1.1|         5|\n",
      "+-------------------+-----+------+----------+\n",
      "only showing top 20 rows\n",
      "\n",
      "+--------------------+-------------------------------------+\n",
      "|estado              |top_5_lowest_brands                  |\n",
      "+--------------------+-------------------------------------+\n",
      "|aguascalientes      |[s/m, s/m, s/m, s/m, s/m]            |\n",
      "|baja california     |[s/m, s/m, s/m, s/m, s/m]            |\n",
      "|baja california sur |[s/m, s/m, s/m, s/m, s/m]            |\n",
      "|campeche            |[s/m, s/m, s/m, s/m, s/m]            |\n",
      "|chiapas             |[s/m, s/m, s/m, s/m, s/m]            |\n",
      "|chihuahua           |[s/m, s/m, s/m, s/m, s/m]            |\n",
      "|ciudad de mxico     |[s/m, s/m, s/m, s/m, s/m]            |\n",
      "|coahuila de zaragoza|[s/m, s/m, s/m, s/m, s/m]            |\n",
      "|colima              |[s/m, s/m, s/m, s/m, s/m]            |\n",
      "|durango             |[s/m, s/m, s/m, s/m, s/m]            |\n",
      "|estado de mxico     |[s/m, s/m, s/m, s/m, s/m]            |\n",
      "|guanajuato          |[s/m, s/m, s/m, s/m, s/m]            |\n",
      "|guerrero            |[s/m, s/m, s/m, s/m, s/m]            |\n",
      "|hidalgo             |[s/m, s/m, s/m, s/m, s/m]            |\n",
      "|jalisco             |[s/m, clight, clight, clight, clight]|\n",
      "|michoacn de ocampo  |[s/m, s/m, s/m, s/m, s/m]            |\n",
      "|morelos             |[s/m, s/m, s/m, s/m, s/m]            |\n",
      "|nayarit             |[s/m, s/m, s/m, s/m, s/m]            |\n",
      "|nuevo len           |[s/m, s/m, s/m, s/m, s/m]            |\n",
      "|oaxaca              |[s/m, s/m, s/m, s/m, s/m]            |\n",
      "|puebla              |[s/m, s/m, s/m, s/m, s/m]            |\n",
      "|quertaro            |[s/m, s/m, s/m, s/m, s/m]            |\n",
      "|quintana roo        |[s/m, s/m, s/m, s/m, s/m]            |\n",
      "|san luis potos      |[s/m, s/m, s/m, s/m, s/m]            |\n",
      "|sinaloa             |[s/m, s/m, s/m, s/m, s/m]            |\n",
      "|sonora              |[s/m, s/m, s/m, s/m, s/m]            |\n",
      "|tabasco             |[s/m, s/m, s/m, s/m, s/m]            |\n",
      "|tamaulipas          |[s/m, s/m, s/m, s/m, s/m]            |\n",
      "|tlaxcala            |[s/m, s/m, s/m, s/m, s/m]            |\n",
      "|veracruz            |[s/m, s/m, s/m, s/m, s/m]            |\n",
      "|yucatn              |[s/m, s/m, s/m, s/m, s/m]            |\n",
      "|zacatecas           |[s/m, s/m, s/m, s/m, s/m]            |\n",
      "+--------------------+-------------------------------------+"
     ]
    }
   ],
   "source": [
    "# Define una ventana ordenada por precio ascendente dentro de cada estado que contiene \"CIUDAD DE\".\n",
    "windowSpec = Window.partitionBy(\"estado\").orderBy(col(\"precio\").asc())\n",
    "\n",
    "# Aplica la especificación de ventana con un número de fila para identificar el top 5 de precios más bajos.\n",
    "lowest_price_brands = filtered_df.withColumn(\"row_number\", row_number().over(windowSpec)) \\\n",
    "    .filter(col(\"row_number\") <= 5) \\\n",
    "    .select(\"estado\", \"marca\", \"precio\", \"row_number\")\n",
    "\n",
    "# Muestra las 5 marcas con los precios más bajos en los estados que contienen \"CIUDAD DE\".\n",
    "lowest_price_brands.show()\n",
    "\n",
    "# Para comparar las listas del top 5 entre diferentes \"CIUDAD DE\", las recopilamos y las mostramos agrupadas por estado.\n",
    "top_brands_by_state_lowest = lowest_price_brands.groupBy(\"estado\") \\\n",
    "    .agg(collect_list(\"marca\").alias(\"top_5_lowest_brands\")) \\\n",
    "    .orderBy(\"estado\")\n",
    "top_brands_by_state_lowest.show(50, False)"
   ]
  },
  {
   "cell_type": "markdown",
   "id": "32c75544",
   "metadata": {},
   "source": [
    "¿Cuáles son el top 5 de marcas con mayores observaciones? ¿Se parecen a las de nivel por estado?"
   ]
  },
  {
   "cell_type": "code",
   "execution_count": 27,
   "id": "a79aca8a",
   "metadata": {},
   "outputs": [
    {
     "data": {
      "application/vnd.jupyter.widget-view+json": {
       "model_id": "",
       "version_major": 2,
       "version_minor": 0
      },
      "text/plain": [
       "FloatProgress(value=0.0, bar_style='info', description='Progress:', layout=Layout(height='25px', width='50%'),…"
      ]
     },
     "metadata": {},
     "output_type": "display_data"
    },
    {
     "name": "stdout",
     "output_type": "stream",
     "text": [
      "+---------+-------+\n",
      "|    marca|  count|\n",
      "+---------+-------+\n",
      "|      s/m|2762155|\n",
      "|la costea|1311513|\n",
      "|      fud|1151111|\n",
      "|    bimbo| 819541|\n",
      "|     lala| 750189|\n",
      "+---------+-------+"
     ]
    }
   ],
   "source": [
    "# Contar las ocurrencias de cada marca en todo el dataset\n",
    "brand_occurrences = filtered_df.groupBy(\"marca\").count()\n",
    "\n",
    "# Ordenar las marcas por el número de observaciones en orden descendente y seleccionar el top 5\n",
    "top_5_brands_observations = brand_occurrences.orderBy(col(\"count\").desc()).limit(5)\n",
    "\n",
    "# Mostrar el top 5 de marcas con mayores observaciones\n",
    "top_5_brands_observations.show()"
   ]
  },
  {
   "cell_type": "code",
   "execution_count": 28,
   "id": "8691e32a",
   "metadata": {},
   "outputs": [
    {
     "data": {
      "application/vnd.jupyter.widget-view+json": {
       "model_id": "",
       "version_major": 2,
       "version_minor": 0
      },
      "text/plain": [
       "FloatProgress(value=0.0, bar_style='info', description='Progress:', layout=Layout(height='25px', width='50%'),…"
      ]
     },
     "metadata": {},
     "output_type": "display_data"
    },
    {
     "name": "stdout",
     "output_type": "stream",
     "text": [
      "+---------+\n",
      "|    marca|\n",
      "+---------+\n",
      "|      s/m|\n",
      "|la costea|\n",
      "|      fud|\n",
      "|    bimbo|\n",
      "|     lala|\n",
      "+---------+\n",
      "\n",
      "+-----+--------------------+------+----------+\n",
      "|marca|              estado|precio|row_number|\n",
      "+-----+--------------------+------+----------+\n",
      "|  s/m|     baja california| 659.9|         1|\n",
      "|  s/m|     baja california| 659.9|         2|\n",
      "|  s/m|     baja california| 659.9|         3|\n",
      "|  s/m|     baja california| 659.9|         4|\n",
      "|  s/m|     baja california| 659.9|         5|\n",
      "|  s/m|coahuila de zaragoza| 659.9|         1|\n",
      "|  s/m|coahuila de zaragoza| 659.9|         2|\n",
      "|  s/m|coahuila de zaragoza| 659.9|         3|\n",
      "|  s/m|coahuila de zaragoza| 659.9|         4|\n",
      "|  s/m|coahuila de zaragoza| 659.0|         5|\n",
      "|  s/m|              colima| 470.0|         1|\n",
      "|  s/m|              colima| 470.0|         2|\n",
      "|  s/m|              colima| 445.0|         3|\n",
      "|  s/m|              colima| 399.0|         4|\n",
      "|  s/m|             hidalgo| 539.0|         5|\n",
      "|  s/m|             nayarit| 659.9|         1|\n",
      "|  s/m|             nayarit| 659.9|         2|\n",
      "|  s/m|             nayarit| 490.0|         3|\n",
      "|  s/m|             nayarit| 490.0|         4|\n",
      "|  s/m|             nayarit| 490.0|         5|\n",
      "+-----+--------------------+------+----------+\n",
      "only showing top 20 rows\n",
      "\n",
      "N?mero de estados que tienen al menos una marca en com?n con las top 5 de observaciones: 11"
     ]
    }
   ],
   "source": [
    "# Buscar las marcas top 5 de observaciones en una lista\n",
    "top_5_observation_list = [row['marca'] for row in top_5_brands_observations.collect()]\n",
    "\n",
    "# Ahora creamos el DataFrame especificando el esquema\n",
    "top_5_obs_df = spark.createDataFrame(top_5_observation_list, StringType()).withColumnRenamed(\"value\", \"marca\")\n",
    "top_5_obs_df.show()\n",
    "\n",
    "# Realizar un join entre el DataFrame de top 5 por precio y el DataFrame de observaciones top 5\n",
    "comparison_df = state_brand_prices.join(top_5_obs_df, \"marca\", \"inner\")\n",
    "\n",
    "# Mostrar los resultados de la comparación\n",
    "comparison_df.show()\n",
    "\n",
    "# Comprobar cuántos estados tienen marcas que están en las top 5 de observaciones\n",
    "distinct_states_with_top5_obs = comparison_df.select(\"estado\").distinct().count()\n",
    "print(f\"Número de estados que tienen al menos una marca en común con las top 5 de observaciones: {distinct_states_with_top5_obs}\")"
   ]
  },
  {
   "cell_type": "markdown",
   "id": "5a1c9d01",
   "metadata": {},
   "source": [
    "¿Ha dejado de existir alguna marca durante los años que tienes? ¿Cuál? ¿Cuándo desapareció?"
   ]
  },
  {
   "cell_type": "code",
   "execution_count": 30,
   "id": "e58dfafb",
   "metadata": {},
   "outputs": [
    {
     "data": {
      "application/vnd.jupyter.widget-view+json": {
       "model_id": "",
       "version_major": 2,
       "version_minor": 0
      },
      "text/plain": [
       "FloatProgress(value=0.0, bar_style='info', description='Progress:', layout=Layout(height='25px', width='50%'),…"
      ]
     },
     "metadata": {},
     "output_type": "display_data"
    }
   ],
   "source": [
    "# Extraer el año de la columna 'registro' que tiene formato DD-MM-YYYY\n",
    "# Convertir la columna de registro a tipo fecha y extraer el año\n",
    "filtered_df = filtered_df.withColumn(\"fecha\", to_date(col(\"fecha_registro\"), \"dd-MM-yyyy\"))\n",
    "filtered_df = filtered_df.withColumn(\"fecha_y\", year(col(\"fecha\")))"
   ]
  },
  {
   "cell_type": "code",
   "execution_count": 31,
   "id": "89a42586",
   "metadata": {},
   "outputs": [
    {
     "data": {
      "application/vnd.jupyter.widget-view+json": {
       "model_id": "",
       "version_major": 2,
       "version_minor": 0
      },
      "text/plain": [
       "FloatProgress(value=0.0, bar_style='info', description='Progress:', layout=Layout(height='25px', width='50%'),…"
      ]
     },
     "metadata": {},
     "output_type": "display_data"
    },
    {
     "name": "stdout",
     "output_type": "stream",
     "text": [
      "+--------+--------------------+----------------+------------------+------+--------------+--------------------+--------------------+--------------------+--------------------+--------+-----------+---------+----------+--------+----------+-------+---------+\n",
      "|producto|        presentacion|           marca|         categoria|precio|fecha_registro|    cadena_comercial|                giro|    nombre_comercial|           direccion|  estado|  municipio|  latitud|  longitud|catalogo|     fecha|fecha_y|last_year|\n",
      "+--------+--------------------+----------------+------------------+------+--------------+--------------------+--------------------+--------------------+--------------------+--------+-----------+---------+----------+--------+----------+-------+---------+\n",
      "| yoghurt|bote 900 gr. natu...|danone. vitalnea|derivados de leche|  49.9|    2023-04-10|            chedraui|supermercado / ti...|chedraui sucursal...|carret. apizaco-h...|tlaxcala|    apizaco|19.412167|-98.133514| basicos|2023-04-10|   2023|     2024|\n",
      "| yoghurt|bote 900 gr. natu...|danone. vitalnea|derivados de leche|  47.0|    2023-04-14|            wal-mart|supermercado / ti...|walmart sucursal ...|carr. apizaco-pue...|tlaxcala|   tlaxcala|19.339891| -98.19886| basicos|2023-04-14|   2023|     2024|\n",
      "| yoghurt|bote 900 gr. natu...|danone. vitalnea|derivados de leche|  48.9|    2023-04-05|hipermercado soriana|supermercado / ti...|soriana hiper suc...|calz. juan pablo ...|veracruz|boca del ro|19.160524|  -96.1092| basicos|2023-04-05|   2023|     2024|\n",
      "| yoghurt|bote 900 gr. natu...|danone. vitalnea|derivados de leche|  48.9|    2023-04-12|hipermercado soriana|supermercado / ti...|soriana hiper suc...|calz. juan pablo ...|veracruz|boca del ro|19.160524|  -96.1092| basicos|2023-04-12|   2023|     2024|\n",
      "| yoghurt|bote 900 gr. natu...|danone. vitalnea|derivados de leche|  45.0|    2023-04-14|            wal-mart|supermercado / ti...|walmart sucursal ...|viveros 280  esq....|veracruz|boca del ro|19.156399| -96.10994| basicos|2023-04-14|   2023|     2024|\n",
      "+--------+--------------------+----------------+------------------+------+--------------+--------------------+--------------------+--------------------+--------------------+--------+-----------+---------+----------+--------+----------+-------+---------+\n",
      "only showing top 5 rows"
     ]
    }
   ],
   "source": [
    "# Ventana para particionar por marca\n",
    "window_spec = Window.partitionBy(\"marca\")\n",
    "\n",
    "# Encontrar el último año de aparición para cada marca\n",
    "last_appearance = filtered_df.withColumn(\"last_year\", max_(\"fecha_y\").over(window_spec))"
   ]
  },
  {
   "cell_type": "code",
   "execution_count": 32,
   "id": "2a9210a6",
   "metadata": {},
   "outputs": [
    {
     "data": {
      "application/vnd.jupyter.widget-view+json": {
       "model_id": "",
       "version_major": 2,
       "version_minor": 0
      },
      "text/plain": [
       "FloatProgress(value=0.0, bar_style='info', description='Progress:', layout=Layout(height='25px', width='50%'),…"
      ]
     },
     "metadata": {},
     "output_type": "display_data"
    },
    {
     "name": "stdout",
     "output_type": "stream",
     "text": [
      "+----------------+---------+\n",
      "|           marca|last_year|\n",
      "+----------------+---------+\n",
      "|          always|     2024|\n",
      "|   azteca de oro|     2024|\n",
      "|borges. original|     2024|\n",
      "|danone. vitalnea|     2024|\n",
      "|    de la fuente|     2024|\n",
      "+----------------+---------+\n",
      "only showing top 5 rows"
     ]
    }
   ],
   "source": [
    "# Seleccione columnas distintas de marca y último año para evitar filas duplicadas\n",
    "distinct_last_appearance = last_appearance.select(\"marca\", \"last_year\").distinct()\n",
    "distinct_last_appearance.show(5)\n",
    "\n",
    "distinct_last_appearance.write.mode(\"overwrite\").parquet(BUCKET + \"preguntas/marcas_que_se_fueron/\")"
   ]
  },
  {
   "cell_type": "markdown",
   "id": "7f682696",
   "metadata": {},
   "source": [
    "Genera una gráfica de serie de tiempo por estado para la marca con mayor precio -en todos los años-, donde el eje equis es el año y el eje ye es el precio máximo."
   ]
  },
  {
   "cell_type": "code",
   "execution_count": 36,
   "id": "1c432c9c",
   "metadata": {},
   "outputs": [
    {
     "data": {
      "application/vnd.jupyter.widget-view+json": {
       "model_id": "",
       "version_major": 2,
       "version_minor": 0
      },
      "text/plain": [
       "FloatProgress(value=0.0, bar_style='info', description='Progress:', layout=Layout(height='25px', width='50%'),…"
      ]
     },
     "metadata": {},
     "output_type": "display_data"
    }
   ],
   "source": [
    "# Seleccionar top marca (por precio máximo) por estado \n",
    "top_brands_by_state_filtered = top_brands_by_state.filter(col(\"row_number\") == 1).select(\"estado\", \"marca\")\n",
    "\n",
    "# Obtener máximo precio por año de cada top marca (por precio máximo) de cada estado.\n",
    "yseries_top_brands_by_state = (\n",
    "    filtered_df\n",
    "    .select(\"estado\", \"marca\", \"fecha_y\", \"precio\")\n",
    "    .groupBy(\"estado\", \"marca\", \"fecha_y\")\n",
    "    .agg(max(\"precio\").alias(\"max_precio\"))\n",
    "    .join(top_brands_by_state_filtered, [\"estado\", \"marca\"], \"inner\")\n",
    ")\n",
    "\n",
    "# Mostrar resultado\n",
    "yseries_top_brands_by_state.show()\n",
    "\n",
    "# Guarda la salida en el bucket de S3.\n",
    "#yseries_top_brands_by_state.write.mode(\"overwrite\").parquet(BUCKET + \"preguntas/yserie_estado_max_price/\")"
   ]
  }
 ],
 "metadata": {
  "kernelspec": {
   "display_name": "PySpark",
   "language": "python",
   "name": "pysparkkernel"
  },
  "language_info": {
   "codemirror_mode": {
    "name": "python",
    "version": 3
   },
   "file_extension": ".py",
   "mimetype": "text/x-python",
   "name": "pyspark",
   "pygments_lexer": "python3"
  }
 },
 "nbformat": 4,
 "nbformat_minor": 5
}
