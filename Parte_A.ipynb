{
 "cells": [
  {
   "cell_type": "markdown",
   "id": "98c82ded",
   "metadata": {},
   "source": [
    "Parte A"
   ]
  },
  {
   "cell_type": "markdown",
   "id": "bbe8a549",
   "metadata": {},
   "source": [
    "Levantar cluster en AWS con Hadoop y Pyspark\n",
    "Nombre: cluster_ + la mátricula (número de estudiante) más chica\n",
    "\n",
    "Acceso a JupyterHub\n",
    "JupyterHub: https://master-public-dns-name:9443/\n",
    "- u: `jovyan`\n",
    "- p: `jupyter`"
   ]
  },
  {
   "cell_type": "markdown",
   "id": "d7cdc60c",
   "metadata": {},
   "source": [
    "Librerías y sesión de Spark"
   ]
  },
  {
   "cell_type": "code",
   "execution_count": 4,
   "id": "1abf7147",
   "metadata": {},
   "outputs": [
    {
     "data": {
      "application/vnd.jupyter.widget-view+json": {
       "model_id": "",
       "version_major": 2,
       "version_minor": 0
      },
      "text/plain": [
       "FloatProgress(value=0.0, bar_style='info', description='Progress:', layout=Layout(height='25px', width='50%'),…"
      ]
     },
     "metadata": {},
     "output_type": "display_data"
    },
    {
     "name": "stdout",
     "output_type": "stream",
     "text": [
      "+------------------+---------------------------------+--------------------+---------------------+-----------------+-------+----------+------+---------------------------+--------------------------------------+------------------------------------------------------------------------------------------+----------------+----------------+---------+-----------+\n",
      "| ASISTENTES DE VOZ|ECHO SHOW 5. COLOR BLANCA O NEGRA|               ALEXA|APARATOS ELECTRONICOS|ELECTRODOMESTICOS|2499.00|2023-05-02|COPPEL|TIENDA DE ELECTRODOMÉSTICOS|COPPEL SUCURSAL ESPACIO AGUASCALIENTES|TECNOLOGICO 120, INT. CENTRO COMERCIAL ESPACIO AGUASCALIENTES, COL. OJOCALIENTE, CP. 20000|AGUASCALIENTES11|AGUASCALIENTES12|21.879490|-102.260011|\n",
      "+------------------+---------------------------------+--------------------+---------------------+-----------------+-------+----------+------+---------------------------+--------------------------------------+------------------------------------------------------------------------------------------+----------------+----------------+---------+-----------+\n",
      "| ASISTENTES DE VOZ|             NEST MINI. COLOR ...|              GOOGLE| APARATOS ELECTRON...|ELECTRODOMESTICOS|  959.0|2023-05-02|COPPEL|       TIENDA DE ELECTRO...|                  COPPEL SUCURSAL E...|                                                                      TECNOLOGICO 120, ...|  AGUASCALIENTES|  AGUASCALIENTES|21.879490|-102.260011|\n",
      "|   BARRA DE SONIDO|             HS205. BLUETOOTH,...|             HISENSE| APARATOS ELECTRON...|ELECTRODOMESTICOS| 1699.0|2023-05-02|COPPEL|       TIENDA DE ELECTRO...|                  COPPEL SUCURSAL E...|                                                                      TECNOLOGICO 120, ...|  AGUASCALIENTES|  AGUASCALIENTES|21.879490|-102.260011|\n",
      "|   BARRA DE SONIDO|             HW-A450. BLUETOOT...|             SAMSUNG| APARATOS ELECTRON...|ELECTRODOMESTICOS| 4499.0|2023-05-02|COPPEL|       TIENDA DE ELECTRO...|                  COPPEL SUCURSAL E...|                                                                      TECNOLOGICO 120, ...|  AGUASCALIENTES|  AGUASCALIENTES|21.879490|-102.260011|\n",
      "|BOCINAS PORTÁTILES|             RM1. USB Y BLUETO...|                  LG| APARATOS ELECTRON...|ELECTRODOMESTICOS| 2999.0|2023-05-02|COPPEL|       TIENDA DE ELECTRO...|                  COPPEL SUCURSAL E...|                                                                      TECNOLOGICO 120, ...|  AGUASCALIENTES|  AGUASCALIENTES|21.879490|-102.260011|\n",
      "|BOCINAS PORTÁTILES|             RM2. USB Y BLUETO...|                  LG| APARATOS ELECTRON...|ELECTRODOMESTICOS| 4899.0|2023-05-02|COPPEL|       TIENDA DE ELECTRO...|                  COPPEL SUCURSAL E...|                                                                      TECNOLOGICO 120, ...|  AGUASCALIENTES|  AGUASCALIENTES|21.879490|-102.260011|\n",
      "|BOCINAS PORTÁTILES|             RN5. USB Y BLUETOOTH|                  LG| APARATOS ELECTRON...|ELECTRODOMESTICOS| 5999.0|2023-05-02|COPPEL|       TIENDA DE ELECTRO...|                  COPPEL SUCURSAL E...|                                                                      TECNOLOGICO 120, ...|  AGUASCALIENTES|  AGUASCALIENTES|21.879490|-102.260011|\n",
      "|BOCINAS PORTÁTILES|             RN7. USB Y BLUETO...|                  LG| APARATOS ELECTRON...|ELECTRODOMESTICOS| 7999.0|2023-05-02|COPPEL|       TIENDA DE ELECTRO...|                  COPPEL SUCURSAL E...|                                                                      TECNOLOGICO 120, ...|  AGUASCALIENTES|  AGUASCALIENTES|21.879490|-102.260011|\n",
      "|BOCINAS PORTÁTILES|             MX-T50. USB Y BLU...|             SAMSUNG| APARATOS ELECTRON...|ELECTRODOMESTICOS| 6699.0|2023-05-02|COPPEL|       TIENDA DE ELECTRO...|                  COPPEL SUCURSAL E...|                                                                      TECNOLOGICO 120, ...|  AGUASCALIENTES|  AGUASCALIENTES|21.879490|-102.260011|\n",
      "|BOCINAS PORTÁTILES|             GTK-PG10. USB Y B...|                SONY| APARATOS ELECTRON...|ELECTRODOMESTICOS| 7249.0|2023-05-02|COPPEL|       TIENDA DE ELECTRO...|                  COPPEL SUCURSAL E...|                                                                      TECNOLOGICO 120, ...|  AGUASCALIENTES|  AGUASCALIENTES|21.879490|-102.260011|\n",
      "|BOCINAS PORTÁTILES|             MHC-V02. CD'S 1, ...|                SONY| APARATOS ELECTRON...|ELECTRODOMESTICOS| 5499.0|2023-05-02|COPPEL|       TIENDA DE ELECTRO...|                  COPPEL SUCURSAL E...|                                                                      TECNOLOGICO 120, ...|  AGUASCALIENTES|  AGUASCALIENTES|21.879490|-102.260011|\n",
      "|BOCINAS PORTÁTILES|             MHC-V13. CD´S 1. ...|                SONY| APARATOS ELECTRON...|ELECTRODOMESTICOS| 7299.0|2023-05-02|COPPEL|       TIENDA DE ELECTRO...|                  COPPEL SUCURSAL E...|                                                                      TECNOLOGICO 120, ...|  AGUASCALIENTES|  AGUASCALIENTES|21.879490|-102.260011|\n",
      "|BOCINAS PORTÁTILES|             MHC-V73D. CD´S 1....|                SONY| APARATOS ELECTRON...|ELECTRODOMESTICOS|14999.0|2023-05-02|COPPEL|       TIENDA DE ELECTRO...|                  COPPEL SUCURSAL E...|                                                                      TECNOLOGICO 120, ...|  AGUASCALIENTES|  AGUASCALIENTES|21.879490|-102.260011|\n",
      "|         CAFETERAS|             BVSTDC10SS O BVST...|               OSTER|  APARATOS ELECTRICOS|ELECTRODOMESTICOS|  879.0|2023-05-02|COPPEL|       TIENDA DE ELECTRO...|                  COPPEL SUCURSAL E...|                                                                      TECNOLOGICO 120, ...|  AGUASCALIENTES|  AGUASCALIENTES|21.879490|-102.260011|\n",
      "|         CAFETERAS|             BVSTDC4401RD O BV...|               OSTER|  APARATOS ELECTRICOS|ELECTRODOMESTICOS| 1299.0|2023-05-02|COPPEL|       TIENDA DE ELECTRO...|                  COPPEL SUCURSAL E...|                                                                      TECNOLOGICO 120, ...|  AGUASCALIENTES|  AGUASCALIENTES|21.879490|-102.260011|\n",
      "|         CAFETERAS|             CM1408MX. CAPACID...|T-FAL. HELIORA GR...|  APARATOS ELECTRICOS|ELECTRODOMESTICOS|  899.0|2023-05-02|COPPEL|       TIENDA DE ELECTRO...|                  COPPEL SUCURSAL E...|                                                                      TECNOLOGICO 120, ...|  AGUASCALIENTES|  AGUASCALIENTES|21.879490|-102.260011|\n",
      "| CAMARAS DIGITALES|             INSTAX MINI 11. L...|  FUJIFILM. FINE PIX| APARATOS ELECTRON...|ELECTRODOMESTICOS| 2169.0|2023-05-02|COPPEL|       TIENDA DE ELECTRO...|                  COPPEL SUCURSAL E...|                                                                      TECNOLOGICO 120, ...|  AGUASCALIENTES|  AGUASCALIENTES|21.879490|-102.260011|\n",
      "|         CELULARES|             MOTO E 20. ANDROI...|            MOTOROLA| APARATOS ELECTRON...|ELECTRODOMESTICOS| 2499.0|2023-05-02|COPPEL|       TIENDA DE ELECTRO...|                  COPPEL SUCURSAL E...|                                                                      TECNOLOGICO 120, ...|  AGUASCALIENTES|  AGUASCALIENTES|21.879490|-102.260011|\n",
      "|         CELULARES|             MOTO E 32. ANDROI...|            MOTOROLA| APARATOS ELECTRON...|ELECTRODOMESTICOS| 3999.0|2023-05-02|COPPEL|       TIENDA DE ELECTRO...|                  COPPEL SUCURSAL E...|                                                                      TECNOLOGICO 120, ...|  AGUASCALIENTES|  AGUASCALIENTES|21.879490|-102.260011|\n",
      "|         CELULARES|             A 57. ANDROID 12 ...|                OPPO| APARATOS ELECTRON...|ELECTRODOMESTICOS| 5499.0|2023-05-02|COPPEL|       TIENDA DE ELECTRO...|                  COPPEL SUCURSAL E...|                                                                      TECNOLOGICO 120, ...|  AGUASCALIENTES|  AGUASCALIENTES|21.879490|-102.260011|\n",
      "|         CELULARES|             GALAXY A 03 S. AN...|             SAMSUNG| APARATOS ELECTRON...|ELECTRODOMESTICOS| 3299.0|2023-05-02|COPPEL|       TIENDA DE ELECTRO...|                  COPPEL SUCURSAL E...|                                                                      TECNOLOGICO 120, ...|  AGUASCALIENTES|  AGUASCALIENTES|21.879490|-102.260011|\n",
      "+------------------+---------------------------------+--------------------+---------------------+-----------------+-------+----------+------+---------------------------+--------------------------------------+------------------------------------------------------------------------------------------+----------------+----------------+---------+-----------+\n",
      "only showing top 20 rows"
     ]
    }
   ],
   "source": [
    "# Crear sesión de SPARK y Cargar los datos \n",
    "from pyspark.sql import SparkSession\n",
    "from pyspark.sql.functions import year, to_date, countDistinct, col, max as max_, row_number, collect_list, array_contains\n",
    "from pyspark.sql.window import Window\n",
    "from pyspark.sql.types import StringType\n",
    "\n",
    "BUCKET = \"s3://proyecto-parcial-equipo-6/\" #VALIDAR CARPETA EXACTA CON LAURO"
   ]
  },
  {
   "cell_type": "markdown",
   "id": "73d992de",
   "metadata": {},
   "source": [
    "Carga el CSV en Spark"
   ]
  },
  {
   "cell_type": "code",
   "execution_count": null,
   "id": "37b82ab9",
   "metadata": {},
   "outputs": [],
   "source": [
    "# Revisión de estructura de datos antes de tener los headers\n",
    "# Inicia una sesión Spark.\n",
    "spark = SparkSession.builder.appName(\"parteA\").getOrCreate()\n",
    "\n",
    "# Lee solo un archivo CSV de muestra desde S3.\n",
    "df = spark.read.csv(BUCKET + \"05-2023_01.csv\", header=False, inferSchema=True, sep='|')\n",
    "\n",
    "# Muestra las primeras filas para asegurarte de que se ha cargado correctamente.\n",
    "df.show()"
   ]
  },
  {
   "cell_type": "markdown",
   "id": "84a24d59",
   "metadata": {},
   "source": [
    "Carga el CSV en Spark\n",
    "Adición de headers"
   ]
  },
  {
   "cell_type": "code",
   "execution_count": 22,
   "id": "cb243cee",
   "metadata": {},
   "outputs": [
    {
     "data": {
      "application/vnd.jupyter.widget-view+json": {
       "model_id": "",
       "version_major": 2,
       "version_minor": 0
      },
      "text/plain": [
       "FloatProgress(value=0.0, bar_style='info', description='Progress:', layout=Layout(height='25px', width='50%'),…"
      ]
     },
     "metadata": {},
     "output_type": "display_data"
    },
    {
     "name": "stdout",
     "output_type": "stream",
     "text": [
      "+------------------+--------------------+--------------------+--------------------+-----------------+-------+--------------+----------------+--------------------+--------------------+--------------------+--------------+--------------+---------+-----------+\n",
      "|          producto|        presentacion|               marca|           categoria|        catalogom| precio|fecha_registro|cadena_comercial|                giro|    nombre_comercial|           direccion|        estado|     municipio|  latitud|   longitud|\n",
      "+------------------+--------------------+--------------------+--------------------+-----------------+-------+--------------+----------------+--------------------+--------------------+--------------------+--------------+--------------+---------+-----------+\n",
      "| ASISTENTES DE VOZ|ECHO SHOW 5. COLO...|               ALEXA|APARATOS ELECTRON...|ELECTRODOMESTICOS| 2499.0|    2023-05-02|          COPPEL|TIENDA DE ELECTRO...|COPPEL SUCURSAL E...|TECNOLOGICO 120, ...|AGUASCALIENTES|AGUASCALIENTES|21.879490|-102.260011|\n",
      "| ASISTENTES DE VOZ|NEST MINI. COLOR ...|              GOOGLE|APARATOS ELECTRON...|ELECTRODOMESTICOS|  959.0|    2023-05-02|          COPPEL|TIENDA DE ELECTRO...|COPPEL SUCURSAL E...|TECNOLOGICO 120, ...|AGUASCALIENTES|AGUASCALIENTES|21.879490|-102.260011|\n",
      "|   BARRA DE SONIDO|HS205. BLUETOOTH,...|             HISENSE|APARATOS ELECTRON...|ELECTRODOMESTICOS| 1699.0|    2023-05-02|          COPPEL|TIENDA DE ELECTRO...|COPPEL SUCURSAL E...|TECNOLOGICO 120, ...|AGUASCALIENTES|AGUASCALIENTES|21.879490|-102.260011|\n",
      "|   BARRA DE SONIDO|HW-A450. BLUETOOT...|             SAMSUNG|APARATOS ELECTRON...|ELECTRODOMESTICOS| 4499.0|    2023-05-02|          COPPEL|TIENDA DE ELECTRO...|COPPEL SUCURSAL E...|TECNOLOGICO 120, ...|AGUASCALIENTES|AGUASCALIENTES|21.879490|-102.260011|\n",
      "|BOCINAS PORTÁTILES|RM1. USB Y BLUETO...|                  LG|APARATOS ELECTRON...|ELECTRODOMESTICOS| 2999.0|    2023-05-02|          COPPEL|TIENDA DE ELECTRO...|COPPEL SUCURSAL E...|TECNOLOGICO 120, ...|AGUASCALIENTES|AGUASCALIENTES|21.879490|-102.260011|\n",
      "|BOCINAS PORTÁTILES|RM2. USB Y BLUETO...|                  LG|APARATOS ELECTRON...|ELECTRODOMESTICOS| 4899.0|    2023-05-02|          COPPEL|TIENDA DE ELECTRO...|COPPEL SUCURSAL E...|TECNOLOGICO 120, ...|AGUASCALIENTES|AGUASCALIENTES|21.879490|-102.260011|\n",
      "|BOCINAS PORTÁTILES|RN5. USB Y BLUETOOTH|                  LG|APARATOS ELECTRON...|ELECTRODOMESTICOS| 5999.0|    2023-05-02|          COPPEL|TIENDA DE ELECTRO...|COPPEL SUCURSAL E...|TECNOLOGICO 120, ...|AGUASCALIENTES|AGUASCALIENTES|21.879490|-102.260011|\n",
      "|BOCINAS PORTÁTILES|RN7. USB Y BLUETO...|                  LG|APARATOS ELECTRON...|ELECTRODOMESTICOS| 7999.0|    2023-05-02|          COPPEL|TIENDA DE ELECTRO...|COPPEL SUCURSAL E...|TECNOLOGICO 120, ...|AGUASCALIENTES|AGUASCALIENTES|21.879490|-102.260011|\n",
      "|BOCINAS PORTÁTILES|MX-T50. USB Y BLU...|             SAMSUNG|APARATOS ELECTRON...|ELECTRODOMESTICOS| 6699.0|    2023-05-02|          COPPEL|TIENDA DE ELECTRO...|COPPEL SUCURSAL E...|TECNOLOGICO 120, ...|AGUASCALIENTES|AGUASCALIENTES|21.879490|-102.260011|\n",
      "|BOCINAS PORTÁTILES|GTK-PG10. USB Y B...|                SONY|APARATOS ELECTRON...|ELECTRODOMESTICOS| 7249.0|    2023-05-02|          COPPEL|TIENDA DE ELECTRO...|COPPEL SUCURSAL E...|TECNOLOGICO 120, ...|AGUASCALIENTES|AGUASCALIENTES|21.879490|-102.260011|\n",
      "|BOCINAS PORTÁTILES|MHC-V02. CD'S 1, ...|                SONY|APARATOS ELECTRON...|ELECTRODOMESTICOS| 5499.0|    2023-05-02|          COPPEL|TIENDA DE ELECTRO...|COPPEL SUCURSAL E...|TECNOLOGICO 120, ...|AGUASCALIENTES|AGUASCALIENTES|21.879490|-102.260011|\n",
      "|BOCINAS PORTÁTILES|MHC-V13. CD´S 1. ...|                SONY|APARATOS ELECTRON...|ELECTRODOMESTICOS| 7299.0|    2023-05-02|          COPPEL|TIENDA DE ELECTRO...|COPPEL SUCURSAL E...|TECNOLOGICO 120, ...|AGUASCALIENTES|AGUASCALIENTES|21.879490|-102.260011|\n",
      "|BOCINAS PORTÁTILES|MHC-V73D. CD´S 1....|                SONY|APARATOS ELECTRON...|ELECTRODOMESTICOS|14999.0|    2023-05-02|          COPPEL|TIENDA DE ELECTRO...|COPPEL SUCURSAL E...|TECNOLOGICO 120, ...|AGUASCALIENTES|AGUASCALIENTES|21.879490|-102.260011|\n",
      "|         CAFETERAS|BVSTDC10SS O BVST...|               OSTER| APARATOS ELECTRICOS|ELECTRODOMESTICOS|  879.0|    2023-05-02|          COPPEL|TIENDA DE ELECTRO...|COPPEL SUCURSAL E...|TECNOLOGICO 120, ...|AGUASCALIENTES|AGUASCALIENTES|21.879490|-102.260011|\n",
      "|         CAFETERAS|BVSTDC4401RD O BV...|               OSTER| APARATOS ELECTRICOS|ELECTRODOMESTICOS| 1299.0|    2023-05-02|          COPPEL|TIENDA DE ELECTRO...|COPPEL SUCURSAL E...|TECNOLOGICO 120, ...|AGUASCALIENTES|AGUASCALIENTES|21.879490|-102.260011|\n",
      "|         CAFETERAS|CM1408MX. CAPACID...|T-FAL. HELIORA GR...| APARATOS ELECTRICOS|ELECTRODOMESTICOS|  899.0|    2023-05-02|          COPPEL|TIENDA DE ELECTRO...|COPPEL SUCURSAL E...|TECNOLOGICO 120, ...|AGUASCALIENTES|AGUASCALIENTES|21.879490|-102.260011|\n",
      "| CAMARAS DIGITALES|INSTAX MINI 11. L...|  FUJIFILM. FINE PIX|APARATOS ELECTRON...|ELECTRODOMESTICOS| 2169.0|    2023-05-02|          COPPEL|TIENDA DE ELECTRO...|COPPEL SUCURSAL E...|TECNOLOGICO 120, ...|AGUASCALIENTES|AGUASCALIENTES|21.879490|-102.260011|\n",
      "|         CELULARES|MOTO E 20. ANDROI...|            MOTOROLA|APARATOS ELECTRON...|ELECTRODOMESTICOS| 2499.0|    2023-05-02|          COPPEL|TIENDA DE ELECTRO...|COPPEL SUCURSAL E...|TECNOLOGICO 120, ...|AGUASCALIENTES|AGUASCALIENTES|21.879490|-102.260011|\n",
      "|         CELULARES|MOTO E 32. ANDROI...|            MOTOROLA|APARATOS ELECTRON...|ELECTRODOMESTICOS| 3999.0|    2023-05-02|          COPPEL|TIENDA DE ELECTRO...|COPPEL SUCURSAL E...|TECNOLOGICO 120, ...|AGUASCALIENTES|AGUASCALIENTES|21.879490|-102.260011|\n",
      "|         CELULARES|A 57. ANDROID 12 ...|                OPPO|APARATOS ELECTRON...|ELECTRODOMESTICOS| 5499.0|    2023-05-02|          COPPEL|TIENDA DE ELECTRO...|COPPEL SUCURSAL E...|TECNOLOGICO 120, ...|AGUASCALIENTES|AGUASCALIENTES|21.879490|-102.260011|\n",
      "+------------------+--------------------+--------------------+--------------------+-----------------+-------+--------------+----------------+--------------------+--------------------+--------------------+--------------+--------------+---------+-----------+\n",
      "only showing top 20 rows"
     ]
    }
   ],
   "source": [
    "# Renombrar las columnas del DataFrame.\n",
    "df_with_headers = df.toDF(\"producto\", \"presentacion\", \"marca\", \"categoria\", \"catalogo\", \"precio\", \"fecha_registro\", \"cadena_comercial\", \"giro\", \"nombre_comercial\", \"direccion\", \"estado\", \"municipio\", \"latitud\", \"longitud\")\n",
    "\n",
    "# Muestra las primeras filas para asegurarte de que se han cargado correctamente con los nuevos encabezados.\n",
    "df_with_headers.show()"
   ]
  },
  {
   "cell_type": "markdown",
   "id": "8e588434",
   "metadata": {},
   "source": [
    "Guarda el CSV como parquet en S3, particionalo por catalogo. (Utiliza todos los trucos que consideres)."
   ]
  },
  {
   "cell_type": "code",
   "execution_count": 9,
   "id": "429cef80",
   "metadata": {},
   "outputs": [
    {
     "data": {
      "application/vnd.jupyter.widget-view+json": {
       "model_id": "",
       "version_major": 2,
       "version_minor": 0
      },
      "text/plain": [
       "FloatProgress(value=0.0, bar_style='info', description='Progress:', layout=Layout(height='25px', width='50%'),…"
      ]
     },
     "metadata": {},
     "output_type": "display_data"
    }
   ],
   "source": [
    "# Guarda el CSV como parquet en S3, particionalo por catalogo\n",
    "df_with_headers.write.partitionBy(\"catalogo\").parquet(BUCKET + \"output/\")"
   ]
  },
  {
   "cell_type": "markdown",
   "id": "d9d85691",
   "metadata": {},
   "source": [
    "Carga el parquet en Spark"
   ]
  },
  {
   "cell_type": "code",
   "execution_count": 10,
   "id": "f1241a09",
   "metadata": {},
   "outputs": [
    {
     "data": {
      "application/vnd.jupyter.widget-view+json": {
       "model_id": "",
       "version_major": 2,
       "version_minor": 0
      },
      "text/plain": [
       "FloatProgress(value=0.0, bar_style='info', description='Progress:', layout=Layout(height='25px', width='50%'),…"
      ]
     },
     "metadata": {},
     "output_type": "display_data"
    },
    {
     "name": "stdout",
     "output_type": "stream",
     "text": [
      "+------------------+--------------------+--------------------+--------------------+-------+--------------+----------------+--------------------+--------------------+--------------------+--------------+--------------+---------+-----------+-----------------+\n",
      "|          producto|        presentacion|               marca|           categoria| precio|fecha_registro|cadena_comercial|                giro|    nombre_comercial|           direccion|        estado|     municipio|  latitud|   longitud|        catalogom|\n",
      "+------------------+--------------------+--------------------+--------------------+-------+--------------+----------------+--------------------+--------------------+--------------------+--------------+--------------+---------+-----------+-----------------+\n",
      "| ASISTENTES DE VOZ|ECHO SHOW 5. COLO...|               ALEXA|APARATOS ELECTRON...| 2499.0|    2023-05-02|          COPPEL|TIENDA DE ELECTRO...|COPPEL SUCURSAL E...|TECNOLOGICO 120, ...|AGUASCALIENTES|AGUASCALIENTES|21.879490|-102.260011|ELECTRODOMESTICOS|\n",
      "| ASISTENTES DE VOZ|NEST MINI. COLOR ...|              GOOGLE|APARATOS ELECTRON...|  959.0|    2023-05-02|          COPPEL|TIENDA DE ELECTRO...|COPPEL SUCURSAL E...|TECNOLOGICO 120, ...|AGUASCALIENTES|AGUASCALIENTES|21.879490|-102.260011|ELECTRODOMESTICOS|\n",
      "|   BARRA DE SONIDO|HS205. BLUETOOTH,...|             HISENSE|APARATOS ELECTRON...| 1699.0|    2023-05-02|          COPPEL|TIENDA DE ELECTRO...|COPPEL SUCURSAL E...|TECNOLOGICO 120, ...|AGUASCALIENTES|AGUASCALIENTES|21.879490|-102.260011|ELECTRODOMESTICOS|\n",
      "|   BARRA DE SONIDO|HW-A450. BLUETOOT...|             SAMSUNG|APARATOS ELECTRON...| 4499.0|    2023-05-02|          COPPEL|TIENDA DE ELECTRO...|COPPEL SUCURSAL E...|TECNOLOGICO 120, ...|AGUASCALIENTES|AGUASCALIENTES|21.879490|-102.260011|ELECTRODOMESTICOS|\n",
      "|BOCINAS PORTÁTILES|RM1. USB Y BLUETO...|                  LG|APARATOS ELECTRON...| 2999.0|    2023-05-02|          COPPEL|TIENDA DE ELECTRO...|COPPEL SUCURSAL E...|TECNOLOGICO 120, ...|AGUASCALIENTES|AGUASCALIENTES|21.879490|-102.260011|ELECTRODOMESTICOS|\n",
      "|BOCINAS PORTÁTILES|RM2. USB Y BLUETO...|                  LG|APARATOS ELECTRON...| 4899.0|    2023-05-02|          COPPEL|TIENDA DE ELECTRO...|COPPEL SUCURSAL E...|TECNOLOGICO 120, ...|AGUASCALIENTES|AGUASCALIENTES|21.879490|-102.260011|ELECTRODOMESTICOS|\n",
      "|BOCINAS PORTÁTILES|RN5. USB Y BLUETOOTH|                  LG|APARATOS ELECTRON...| 5999.0|    2023-05-02|          COPPEL|TIENDA DE ELECTRO...|COPPEL SUCURSAL E...|TECNOLOGICO 120, ...|AGUASCALIENTES|AGUASCALIENTES|21.879490|-102.260011|ELECTRODOMESTICOS|\n",
      "|BOCINAS PORTÁTILES|RN7. USB Y BLUETO...|                  LG|APARATOS ELECTRON...| 7999.0|    2023-05-02|          COPPEL|TIENDA DE ELECTRO...|COPPEL SUCURSAL E...|TECNOLOGICO 120, ...|AGUASCALIENTES|AGUASCALIENTES|21.879490|-102.260011|ELECTRODOMESTICOS|\n",
      "|BOCINAS PORTÁTILES|MX-T50. USB Y BLU...|             SAMSUNG|APARATOS ELECTRON...| 6699.0|    2023-05-02|          COPPEL|TIENDA DE ELECTRO...|COPPEL SUCURSAL E...|TECNOLOGICO 120, ...|AGUASCALIENTES|AGUASCALIENTES|21.879490|-102.260011|ELECTRODOMESTICOS|\n",
      "|BOCINAS PORTÁTILES|GTK-PG10. USB Y B...|                SONY|APARATOS ELECTRON...| 7249.0|    2023-05-02|          COPPEL|TIENDA DE ELECTRO...|COPPEL SUCURSAL E...|TECNOLOGICO 120, ...|AGUASCALIENTES|AGUASCALIENTES|21.879490|-102.260011|ELECTRODOMESTICOS|\n",
      "|BOCINAS PORTÁTILES|MHC-V02. CD'S 1, ...|                SONY|APARATOS ELECTRON...| 5499.0|    2023-05-02|          COPPEL|TIENDA DE ELECTRO...|COPPEL SUCURSAL E...|TECNOLOGICO 120, ...|AGUASCALIENTES|AGUASCALIENTES|21.879490|-102.260011|ELECTRODOMESTICOS|\n",
      "|BOCINAS PORTÁTILES|MHC-V13. CD´S 1. ...|                SONY|APARATOS ELECTRON...| 7299.0|    2023-05-02|          COPPEL|TIENDA DE ELECTRO...|COPPEL SUCURSAL E...|TECNOLOGICO 120, ...|AGUASCALIENTES|AGUASCALIENTES|21.879490|-102.260011|ELECTRODOMESTICOS|\n",
      "|BOCINAS PORTÁTILES|MHC-V73D. CD´S 1....|                SONY|APARATOS ELECTRON...|14999.0|    2023-05-02|          COPPEL|TIENDA DE ELECTRO...|COPPEL SUCURSAL E...|TECNOLOGICO 120, ...|AGUASCALIENTES|AGUASCALIENTES|21.879490|-102.260011|ELECTRODOMESTICOS|\n",
      "|         CAFETERAS|BVSTDC10SS O BVST...|               OSTER| APARATOS ELECTRICOS|  879.0|    2023-05-02|          COPPEL|TIENDA DE ELECTRO...|COPPEL SUCURSAL E...|TECNOLOGICO 120, ...|AGUASCALIENTES|AGUASCALIENTES|21.879490|-102.260011|ELECTRODOMESTICOS|\n",
      "|         CAFETERAS|BVSTDC4401RD O BV...|               OSTER| APARATOS ELECTRICOS| 1299.0|    2023-05-02|          COPPEL|TIENDA DE ELECTRO...|COPPEL SUCURSAL E...|TECNOLOGICO 120, ...|AGUASCALIENTES|AGUASCALIENTES|21.879490|-102.260011|ELECTRODOMESTICOS|\n",
      "|         CAFETERAS|CM1408MX. CAPACID...|T-FAL. HELIORA GR...| APARATOS ELECTRICOS|  899.0|    2023-05-02|          COPPEL|TIENDA DE ELECTRO...|COPPEL SUCURSAL E...|TECNOLOGICO 120, ...|AGUASCALIENTES|AGUASCALIENTES|21.879490|-102.260011|ELECTRODOMESTICOS|\n",
      "| CAMARAS DIGITALES|INSTAX MINI 11. L...|  FUJIFILM. FINE PIX|APARATOS ELECTRON...| 2169.0|    2023-05-02|          COPPEL|TIENDA DE ELECTRO...|COPPEL SUCURSAL E...|TECNOLOGICO 120, ...|AGUASCALIENTES|AGUASCALIENTES|21.879490|-102.260011|ELECTRODOMESTICOS|\n",
      "|         CELULARES|MOTO E 20. ANDROI...|            MOTOROLA|APARATOS ELECTRON...| 2499.0|    2023-05-02|          COPPEL|TIENDA DE ELECTRO...|COPPEL SUCURSAL E...|TECNOLOGICO 120, ...|AGUASCALIENTES|AGUASCALIENTES|21.879490|-102.260011|ELECTRODOMESTICOS|\n",
      "|         CELULARES|MOTO E 32. ANDROI...|            MOTOROLA|APARATOS ELECTRON...| 3999.0|    2023-05-02|          COPPEL|TIENDA DE ELECTRO...|COPPEL SUCURSAL E...|TECNOLOGICO 120, ...|AGUASCALIENTES|AGUASCALIENTES|21.879490|-102.260011|ELECTRODOMESTICOS|\n",
      "|         CELULARES|A 57. ANDROID 12 ...|                OPPO|APARATOS ELECTRON...| 5499.0|    2023-05-02|          COPPEL|TIENDA DE ELECTRO...|COPPEL SUCURSAL E...|TECNOLOGICO 120, ...|AGUASCALIENTES|AGUASCALIENTES|21.879490|-102.260011|ELECTRODOMESTICOS|\n",
      "+------------------+--------------------+--------------------+--------------------+-------+--------------+----------------+--------------------+--------------------+--------------------+--------------+--------------+---------+-----------+-----------------+\n",
      "only showing top 20 rows"
     ]
    }
   ],
   "source": [
    "# Carga del parquet en Spark\n",
    "parquet_df = spark.read.parquet(BUCKET + \"output/\")\n",
    "\n",
    "# Muestra las primeras filas para verificar.\n",
    "parquet_df.show()"
   ]
  },
  {
   "cell_type": "markdown",
   "id": "bb96eb61",
   "metadata": {},
   "source": [
    "¿Cuántos catálogos diferentes tenemos?"
   ]
  },
  {
   "cell_type": "code",
   "execution_count": 12,
   "id": "ed311aa0",
   "metadata": {},
   "outputs": [
    {
     "data": {
      "application/vnd.jupyter.widget-view+json": {
       "model_id": "",
       "version_major": 2,
       "version_minor": 0
      },
      "text/plain": [
       "FloatProgress(value=0.0, bar_style='info', description='Progress:', layout=Layout(height='25px', width='50%'),…"
      ]
     },
     "metadata": {},
     "output_type": "display_data"
    },
    {
     "name": "stdout",
     "output_type": "stream",
     "text": [
      "+----+-----------------+\n",
      "| a?o|distinct_catalogs|\n",
      "+----+-----------------+\n",
      "|2023|                7|\n",
      "+----+-----------------+"
     ]
    }
   ],
   "source": [
    "catalog_count_by_year = (parquet_df\n",
    "    .withColumn(\"fecha_registro\", to_date(\"fecha_registro\", \"yyyy-MM-dd\"))  # Convierte la cadena de fecha en tipo de dato Date\n",
    "    .groupBy(year(\"fecha_registro\").alias(\"año\"))  # Extrae el año y agrupa por este\n",
    "    .agg(countDistinct(\"catalogom\").alias(\"distinct_catalogs\"))  # Cuenta los catálogos únicos\n",
    ")\n",
    "\n",
    "# Muestra el resultado.\n",
    "catalog_count_by_year.show()\n",
    "\n",
    "# Guarda la salida en el bucket de S3.\n",
    "catalog_count_by_year.write.mode(\"overwrite\").parquet(BUCKET + \"preguntas/diff_catalogs/\")"
   ]
  },
  {
   "cell_type": "markdown",
   "id": "00d430ba",
   "metadata": {},
   "source": [
    "¿Cuáles son los 20 catálogos con más observaciones? Guarda la salida de este query en tu bucket de S3, lo necesitaremos más adelante."
   ]
  },
  {
   "cell_type": "code",
   "execution_count": 14,
   "id": "48c7c068",
   "metadata": {},
   "outputs": [
    {
     "data": {
      "application/vnd.jupyter.widget-view+json": {
       "model_id": "",
       "version_major": 2,
       "version_minor": 0
      },
      "text/plain": [
       "FloatProgress(value=0.0, bar_style='info', description='Progress:', layout=Layout(height='25px', width='50%'),…"
      ]
     },
     "metadata": {},
     "output_type": "display_data"
    },
    {
     "name": "stdout",
     "output_type": "stream",
     "text": [
      "+-------------------+------+\n",
      "|          catalogom| count|\n",
      "+-------------------+------+\n",
      "|            BASICOS|283314|\n",
      "|       MEDICAMENTOS|112418|\n",
      "|  ELECTRODOMESTICOS| 37306|\n",
      "| FRUTAS Y LEGUMBRES| 32185|\n",
      "|              PACIC| 26481|\n",
      "|           MERCADOS| 11745|\n",
      "|PESCADOS Y MARISCOS|  2282|\n",
      "+-------------------+------+"
     ]
    }
   ],
   "source": [
    "# Encuentra los 20 catálogos con más observaciones.\n",
    "top_catalogs = parquet_df.groupBy(\"catalogom\").count().orderBy(col(\"count\").desc()).limit(20)\n",
    "\n",
    "# Muestra el resultado.\n",
    "top_catalogs.show()\n",
    "\n",
    "# Guarda la salida en el bucket de S3.\n",
    "top_catalogs.write.mode(\"overwrite\").parquet(BUCKET + \"preguntas/top_catalogs/\")"
   ]
  },
  {
   "cell_type": "markdown",
   "id": "13892c1a",
   "metadata": {},
   "source": [
    "¿Tenemos datos de todos los estados del país? De no ser así, ¿cuáles faltan?"
   ]
  },
  {
   "cell_type": "code",
   "execution_count": 16,
   "id": "1be14459",
   "metadata": {},
   "outputs": [
    {
     "data": {
      "application/vnd.jupyter.widget-view+json": {
       "model_id": "",
       "version_major": 2,
       "version_minor": 0
      },
      "text/plain": [
       "FloatProgress(value=0.0, bar_style='info', description='Progress:', layout=Layout(height='25px', width='50%'),…"
      ]
     },
     "metadata": {},
     "output_type": "display_data"
    },
    {
     "name": "stdout",
     "output_type": "stream",
     "text": [
      "+--------------------+\n",
      "|              estado|\n",
      "+--------------------+\n",
      "|             YUCATÁN|\n",
      "|            VERACRUZ|\n",
      "|              OAXACA|\n",
      "|              PUEBLA|\n",
      "|        QUINTANA ROO|\n",
      "|             TABASCO|\n",
      "|             SINALOA|\n",
      "|             CHIAPAS|\n",
      "|              SONORA|\n",
      "|             DURANGO|\n",
      "|            TLAXCALA|\n",
      "|COAHUILA DE ZARAGOZA|\n",
      "|           CHIHUAHUA|\n",
      "|     SAN LUIS POTOSÍ|\n",
      "|          TAMAULIPAS|\n",
      "| BAJA CALIFORNIA SUR|\n",
      "|             JALISCO|\n",
      "|          NUEVO LEÓN|\n",
      "|    ESTADO DE MÉXICO|\n",
      "|           ZACATECAS|\n",
      "+--------------------+\n",
      "only showing top 20 rows"
     ]
    }
   ],
   "source": [
    "# Lista todos los estados únicos presentes en el DataFrame.\n",
    "unique_states = parquet_df.select(\"estado\").distinct()\n",
    "\n",
    "# Muestra los estados únicos.\n",
    "unique_states.show()\n",
    "\n",
    "# Opcional: Guarda la salida en el bucket de S3.\n",
    "unique_states.write.mode(\"overwrite\").csv(BUCKET + \"preguntas/unique_states/\")"
   ]
  },
  {
   "cell_type": "code",
   "execution_count": 21,
   "id": "a9df794f",
   "metadata": {},
   "outputs": [
    {
     "data": {
      "application/vnd.jupyter.widget-view+json": {
       "model_id": "",
       "version_major": 2,
       "version_minor": 0
      },
      "text/plain": [
       "FloatProgress(value=0.0, bar_style='info', description='Progress:', layout=Layout(height='25px', width='50%'),…"
      ]
     },
     "metadata": {},
     "output_type": "display_data"
    },
    {
     "name": "stdout",
     "output_type": "stream",
     "text": [
      "+----------------+\n",
      "|          estado|\n",
      "+----------------+\n",
      "|CIUDAD DE M?XICO|\n",
      "|          COLIMA|\n",
      "|ESTADO DE M?XICO|\n",
      "|       MICHOAC?N|\n",
      "|         NAYARIT|\n",
      "|      NUEVO LE?N|\n",
      "|       QUER?TARO|\n",
      "| SAN LUIS POTOS?|\n",
      "|         YUCAT?N|\n",
      "+----------------+"
     ]
    }
   ],
   "source": [
    "# all_states es una lista de todos los estados posibles del país.\n",
    "all_states = [\"AGUASCALIENTES\", \"BAJA CALIFORNIA\", \"BAJA CALIFORNIA SUR\", \"CAMPECHE\", \"CHIAPAS\",\"CHIHUAHUA\",\"CIUDAD DE MEXICO\",\n",
    "\"COAHUILA DE ZARAGOZA\",\"COLIMA\",\"DURANGO\",\"ESTADO DE MEXICO\",\"GUANAJUATO\",\"GUERRERO\",\"HIDALGO\",\"JALISCO\",\"MICHOACÁN\",\"MORELOS\",\"NAYARIT\",\n",
    "\"NUEVO LEON\",\"OAXACA\",\"PUEBLA\",\"QUERETARO\",\"QUINTANA ROO\",\"SAN LUIS POTOSI\",\"SINALOA\",\"SONORA\",\"TABASCO\",\"TAMAULIPAS\",\"TLAXCALA\",\n",
    "\"VERACRUZ\",\"YUCATAN\",\"ZACATECAS\"]\n",
    "\n",
    "# Crea un DataFrame para la lista completa de estados.\n",
    "all_states_df = spark.createDataFrame([(state,) for state in all_states], [\"estado\"])\n",
    "\n",
    "# Realiza un anti join para encontrar los estados que faltan.\n",
    "missing_states = all_states_df.join(unique_states, \"estado\", \"left_anti\")\n",
    "\n",
    "# Muestra los estados que faltan.\n",
    "missing_states.show()\n",
    "\n",
    "# Opcional: Guarda la salida en el bucket de S3.\n",
    "missing_states.write.mode(\"overwrite\").csv(BUCKET + \"preguntas/missing_states/\")"
   ]
  },
  {
   "cell_type": "markdown",
   "id": "545ec5e9",
   "metadata": {},
   "source": [
    "¿Cuántas observaciones tenemos por estado?"
   ]
  },
  {
   "cell_type": "code",
   "execution_count": 28,
   "id": "a5b938ad",
   "metadata": {},
   "outputs": [
    {
     "data": {
      "application/vnd.jupyter.widget-view+json": {
       "model_id": "",
       "version_major": 2,
       "version_minor": 0
      },
      "text/plain": [
       "FloatProgress(value=0.0, bar_style='info', description='Progress:', layout=Layout(height='25px', width='50%'),…"
      ]
     },
     "metadata": {},
     "output_type": "display_data"
    },
    {
     "name": "stdout",
     "output_type": "stream",
     "text": [
      "+-------------------+------+\n",
      "|             estado| count|\n",
      "+-------------------+------+\n",
      "|   CIUDAD DE MÉXICO|117779|\n",
      "|   ESTADO DE MÉXICO| 80309|\n",
      "|            JALISCO| 24028|\n",
      "|         GUANAJUATO| 23527|\n",
      "|         NUEVO LEÓN| 17754|\n",
      "|            TABASCO| 17120|\n",
      "|             PUEBLA| 16857|\n",
      "|          QUERÉTARO| 16517|\n",
      "|          CHIHUAHUA| 15750|\n",
      "|            YUCATÁN| 14231|\n",
      "|          ZACATECAS| 13775|\n",
      "|       QUINTANA ROO| 12486|\n",
      "|           CAMPECHE| 11650|\n",
      "|BAJA CALIFORNIA SUR| 10338|\n",
      "|     AGUASCALIENTES|  9957|\n",
      "|            DURANGO|  9878|\n",
      "|           TLAXCALA|  9766|\n",
      "|MICHOACÁN DE OCAMPO|  9703|\n",
      "|             SONORA|  9055|\n",
      "|             OAXACA|  8813|\n",
      "+-------------------+------+\n",
      "only showing top 20 rows"
     ]
    }
   ],
   "source": [
    "# Agrupa por estado y cuenta las observaciones\n",
    "observations_per_state = parquet_df.groupBy(\"estado\").count().orderBy(col(\"count\").desc())\n",
    "\n",
    "# Muestra los resultados\n",
    "observations_per_state.show()\n",
    "\n",
    "# Opcional: Guarda la salida en el bucket de S3.\n",
    "observations_per_state.write.mode(\"overwrite\").csv(BUCKET + \"preguntas/observations_per_state/\")"
   ]
  },
  {
   "cell_type": "markdown",
   "id": "79b81396",
   "metadata": {},
   "source": [
    "De cada estado obten: el número de catalogos diferentes por año, ¿ha aumentado el número de catálogos con el tiempo?"
   ]
  },
  {
   "cell_type": "code",
   "execution_count": 38,
   "id": "4d8f75a0",
   "metadata": {},
   "outputs": [
    {
     "data": {
      "application/vnd.jupyter.widget-view+json": {
       "model_id": "",
       "version_major": 2,
       "version_minor": 0
      },
      "text/plain": [
       "FloatProgress(value=0.0, bar_style='info', description='Progress:', layout=Layout(height='25px', width='50%'),…"
      ]
     },
     "metadata": {},
     "output_type": "display_data"
    },
    {
     "name": "stdout",
     "output_type": "stream",
     "text": [
      "+--------------------+----+------------+------+\n",
      "|              estado|year|num_catalogs|change|\n",
      "+--------------------+----+------------+------+\n",
      "|      AGUASCALIENTES|2023|           7|  NULL|\n",
      "|     BAJA CALIFORNIA|2023|           7|  NULL|\n",
      "| BAJA CALIFORNIA SUR|2023|           7|  NULL|\n",
      "|            CAMPECHE|2023|           7|  NULL|\n",
      "|             CHIAPAS|2023|           7|  NULL|\n",
      "|           CHIHUAHUA|2023|           7|  NULL|\n",
      "|    CIUDAD DE MÉXICO|2023|           7|  NULL|\n",
      "|COAHUILA DE ZARAGOZA|2023|           7|  NULL|\n",
      "|             DURANGO|2023|           7|  NULL|\n",
      "|    ESTADO DE MÉXICO|2023|           7|  NULL|\n",
      "|          GUANAJUATO|2023|           7|  NULL|\n",
      "|            GUERRERO|2023|           3|  NULL|\n",
      "|             HIDALGO|2023|           7|  NULL|\n",
      "|             JALISCO|2023|           7|  NULL|\n",
      "| MICHOACÁN DE OCAMPO|2023|           6|  NULL|\n",
      "|             MORELOS|2023|           7|  NULL|\n",
      "|          NUEVO LEÓN|2023|           7|  NULL|\n",
      "|              OAXACA|2023|           5|  NULL|\n",
      "|              PUEBLA|2023|           6|  NULL|\n",
      "|           QUERÉTARO|2023|           7|  NULL|\n",
      "+--------------------+----+------------+------+\n",
      "only showing top 20 rows"
     ]
    }
   ],
   "source": [
    "# Define una ventana particionada por estado y ordenada por año para análisis temporal.\n",
    "windowSpec = Window.partitionBy(\"estado\").orderBy(\"year\")\n",
    "\n",
    "# Preparar el DataFrame y calcular el número de catálogos distintos por estado y año, y el cambio año a año.\n",
    "catalogs_per_state_year = (\n",
    "    parquet_df\n",
    "    # Asegurarse de que 'fecha_registro' está en formato de fecha correcto.\n",
    "    .withColumn(\"fecha_registro\", to_date(\"fecha_registro\", \"yyyy-MM-dd\"))\n",
    "    # Extraer el año y agrupar por este y por estado.\n",
    "    .groupBy(\"estado\", year(\"fecha_registro\").alias(\"year\"))\n",
    "    .agg(countDistinct(\"catalogom\").alias(\"num_catalogs\"))\n",
    "    # Calcular el número de catálogos del año anterior y el cambio respecto al año anterior.\n",
    "    .withColumn(\"prev_year_catalogs\", lag(\"num_catalogs\", 1).over(windowSpec))\n",
    "    .withColumn(\"change\", col(\"num_catalogs\") - col(\"prev_year_catalogs\"))\n",
    "    .select(\"estado\", \"year\", \"num_catalogs\", \"change\")\n",
    "    .orderBy(\"estado\", \"year\")\n",
    ")\n",
    "\n",
    "# Muestra los resultados\n",
    "catalogs_per_state_year.show()\n",
    "\n",
    "# Opcional: Guarda la salida en el bucket de S3.\n",
    "catalogs_per_state_year.write.mode(\"overwrite\").csv(BUCKET + \"preguntas/catalogs_per_state_year/\")"
   ]
  },
  {
   "cell_type": "markdown",
   "id": "67187287",
   "metadata": {},
   "source": [
    "Utilizando Spark contesta las siguientes preguntas a partir del catálogo que le tocó a tu equipo. Recuerda trabajar en el archivo con los datos particionados de otra manera tus queries van a tardar mucho."
   ]
  },
  {
   "cell_type": "markdown",
   "id": "b3eafa0c",
   "metadata": {},
   "source": [
    "¿Cuańtas marcas diferentes tiene tu categoría?"
   ]
  },
  {
   "cell_type": "code",
   "execution_count": null,
   "id": "7d2877ee",
   "metadata": {},
   "outputs": [],
   "source": [
    "# Filtra por catalogo asignado\n",
    "filtered_df = parquet_df.filter(col(\"catalogo\") == \"BASICOS\")\n",
    "\n",
    "# Selecciona la columna 'marca', encuentra valores únicos, y cuenta\n",
    "unique_brands_count = filtered_df.select(\"marca\").distinct().count()\n",
    "\n",
    "print(f\"Numero de marcas unicas en la catalogo: 'Basicos': {unique_brands_count}\")"
   ]
  },
  {
   "cell_type": "markdown",
   "id": "9036b865",
   "metadata": {},
   "source": [
    "¿Cuál es la marca con mayor precio? ¿En qué estado?"
   ]
  },
  {
   "cell_type": "code",
   "execution_count": null,
   "id": "f20b426e",
   "metadata": {},
   "outputs": [],
   "source": [
    "# Encuentra la marca con el precio más alto y el estado correspondiente\n",
    "max_price_info = filtered_df.orderBy(col(\"precio\").desc()).select(\"marca\", \"precio\", \"estado\").first()\n",
    "\n",
    "print(f\"La marca con el precio más alto es {max_price_info['marca']} con un precio de {max_price_info['precio']} en el estado de {max_price_info['estado']}.\")"
   ]
  },
  {
   "cell_type": "markdown",
   "id": "0427b628",
   "metadata": {},
   "source": [
    "¿Cuál es la marca con menor precio en CDMX? (en aquel entonces Distrito Federal)"
   ]
  },
  {
   "cell_type": "code",
   "execution_count": null,
   "id": "51579932",
   "metadata": {},
   "outputs": [],
   "source": [
    "# Filtra por estados que contengan la secuencia 'CIUDAD DE'\n",
    "df_cdmx = filtered_df.filter(col(\"estado\").contains(\"CIUDAD DE\"))\n",
    "\n",
    "# Encuentra la marca con el precio más bajo y el estado correspondiente\n",
    "min_price_info = df_cdmx.orderBy(col(\"precio\").asc()).select(\"marca\", \"precio\", \"municipio\").first()\n",
    "\n",
    "print(f\"La marca con el precio más bajo en Ciudad de México es {min_price_info['marca']} con un precio de {min_price_info['precio']}.\")"
   ]
  },
  {
   "cell_type": "markdown",
   "id": "96bc2edd",
   "metadata": {},
   "source": [
    "¿Cuál es la marca con mayores observaciones?"
   ]
  },
  {
   "cell_type": "code",
   "execution_count": null,
   "id": "ee22262c",
   "metadata": {},
   "outputs": [],
   "source": [
    "# Agrupa por la columna 'marca' y cuenta el número de observaciones para cada marca\n",
    "brand_counts = filtered_df.groupBy(\"marca\").count()\n",
    "\n",
    "# Ordena los resultados por el conteo en orden descendente y toma la primera fila\n",
    "most_observed_brand = brand_counts.orderBy(col(\"count\").desc()).first()\n",
    "\n",
    "# Verifica si hay resultados antes de acceder al resultado\n",
    "if most_observed_brand:\n",
    "    print(f\"La marca con el mayor número de observaciones es {most_observed_brand['marca']}, con {most_observed_brand['count']} observaciones.\")\n",
    "else:\n",
    "    print(\"No se encontraron registros en el dataset.\")"
   ]
  },
  {
   "cell_type": "markdown",
   "id": "e3a61cbc",
   "metadata": {},
   "source": [
    "¿Cuáles son el top 5 de marcas con mayor precio en cada estado? ¿Son diferentes?"
   ]
  },
  {
   "cell_type": "code",
   "execution_count": null,
   "id": "1f15c323",
   "metadata": {},
   "outputs": [],
   "source": [
    "# Definir una ventana ordenada por precio descendente dentro de cada estado\n",
    "windowSpec = Window.partitionBy(\"estado\").orderBy(col(\"precio\").desc())\n",
    "\n",
    "# Aplicar la ventana con un número de fila para identificar los 5 principales\n",
    "state_brand_prices = filtered_df.withColumn(\"row_number\", row_number().over(windowSpec)) \\\n",
    "    .filter(col(\"row_number\") <= 5) \\\n",
    "    .select(\"estado\", \"marca\", \"precio\", \"row_number\")\n",
    "\n",
    "state_brand_prices.show()\n",
    "\n",
    "# Para comparar las 5 listas principales en diferentes estados, las recopilamos e imprimimos agrupadas por estado.\n",
    "top_brands_by_state = state_brand_prices.groupBy(\"estado\") \\\n",
    "    .agg(collect_list(\"marca\").alias(\"top_5_brands\")) \\\n",
    "    .orderBy(\"estado\")\n",
    "top_brands_by_state.show(50, False)\n"
   ]
  },
  {
   "cell_type": "markdown",
   "id": "97d27328",
   "metadata": {},
   "source": [
    "¿Cuáles son el top 5 de marcas con menor precio en CDMX? (en aquel entonces Distrito Federal)"
   ]
  },
  {
   "cell_type": "code",
   "execution_count": null,
   "id": "f3db8057",
   "metadata": {},
   "outputs": [],
   "source": [
    "# Define una ventana ordenada por precio ascendente dentro de cada estado que contiene \"CIUDAD DE\".\n",
    "windowSpec = Window.partitionBy(\"estado\").orderBy(col(\"precio\").asc())\n",
    "\n",
    "# Aplica la especificación de ventana con un número de fila para identificar el top 5 de precios más bajos.\n",
    "lowest_price_brands = filtered_df.withColumn(\"row_number\", row_number().over(windowSpec)) \\\n",
    "    .filter(col(\"row_number\") <= 5) \\\n",
    "    .select(\"estado\", \"marca\", \"precio\", \"row_number\")\n",
    "\n",
    "# Muestra las 5 marcas con los precios más bajos en los estados que contienen \"CIUDAD DE\".\n",
    "lowest_price_brands.show()\n",
    "\n",
    "# Para comparar las listas del top 5 entre diferentes \"CIUDAD DE\", las recopilamos y las mostramos agrupadas por estado.\n",
    "top_brands_by_state_lowest = lowest_price_brands.groupBy(\"estado\") \\\n",
    "    .agg(collect_list(\"marca\").alias(\"top_5_lowest_brands\")) \\\n",
    "    .orderBy(\"estado\")\n",
    "top_brands_by_state_lowest.show(50, False)"
   ]
  },
  {
   "cell_type": "markdown",
   "id": "32c75544",
   "metadata": {},
   "source": [
    "¿Cuáles son el top 5 de marcas con mayores observaciones? ¿Se parecen a las de nivel por estado?"
   ]
  },
  {
   "cell_type": "code",
   "execution_count": null,
   "id": "a79aca8a",
   "metadata": {},
   "outputs": [],
   "source": [
    "# Contar las ocurrencias de cada marca en todo el dataset\n",
    "brand_occurrences = filtered_df.groupBy(\"marca\").count()\n",
    "\n",
    "# Ordenar las marcas por el número de observaciones en orden descendente y seleccionar el top 5\n",
    "top_5_brands_observations = brand_occurrences.orderBy(col(\"count\").desc()).limit(5)\n",
    "\n",
    "# Mostrar el top 5 de marcas con mayores observaciones\n",
    "top_5_brands_observations.show()"
   ]
  },
  {
   "cell_type": "code",
   "execution_count": null,
   "id": "8691e32a",
   "metadata": {},
   "outputs": [],
   "source": [
    "# Buscar las marcas top 5 de observaciones en una lista\n",
    "top_5_observation_list = [row['marca'] for row in top_5_brands_observations.collect()]\n",
    "\n",
    "# Ahora creamos el DataFrame especificando el esquema\n",
    "top_5_obs_df = spark.createDataFrame(top_5_observation_list, StringType()).withColumnRenamed(\"value\", \"marca\")\n",
    "top_5_obs_df.show()\n",
    "\n",
    "# Realizar un join entre el DataFrame de top 5 por precio y el DataFrame de observaciones top 5\n",
    "comparison_df = state_brand_prices.join(top_5_obs_df, \"marca\", \"inner\")\n",
    "\n",
    "# Mostrar los resultados de la comparación\n",
    "comparison_df.show()\n",
    "\n",
    "# Comprobar cuántos estados tienen marcas que están en las top 5 de observaciones\n",
    "distinct_states_with_top5_obs = comparison_df.select(\"estado\").distinct().count()\n",
    "print(f\"Número de estados que tienen al menos una marca en común con las top 5 de observaciones: {distinct_states_with_top5_obs}\")"
   ]
  },
  {
   "cell_type": "markdown",
   "id": "5a1c9d01",
   "metadata": {},
   "source": [
    "¿Ha dejado de existir alguna marca durante los años que tienes? ¿Cuál? ¿Cuándo desapareció?"
   ]
  },
  {
   "cell_type": "code",
   "execution_count": null,
   "id": "e58dfafb",
   "metadata": {},
   "outputs": [],
   "source": [
    "# Extraer el año de la columna 'registro' que tiene formato DD-MM-YYYY\n",
    "# Convertir la columna de registro a tipo fecha y extraer el año\n",
    "filtered_df = filtered_df.withColumn(\"fecha\", to_date(col(\"fecha_registro\"), \"dd-MM-yyyy\"))\n",
    "filtered_df = filtered_df.withColumn(\"fecha_y\", year(col(\"fecha\")))\n",
    "\n",
    "# Mostrar las primeras filas para verificar\n",
    "filtered_df.show()"
   ]
  },
  {
   "cell_type": "code",
   "execution_count": null,
   "id": "89a42586",
   "metadata": {},
   "outputs": [],
   "source": [
    "# Ventana para particionar por marca\n",
    "window_spec = Window.partitionBy(\"marca\")\n",
    "\n",
    "# Encontrar el último año de aparición para cada marca\n",
    "last_appearance = filtered_df.withColumn(\"last_year\", max_(\"fecha_y\").over(window_spec))\n",
    "last_appearance.show()"
   ]
  },
  {
   "cell_type": "code",
   "execution_count": null,
   "id": "2a9210a6",
   "metadata": {},
   "outputs": [],
   "source": [
    "# Seleccione columnas distintas de marca y último año para evitar filas duplicadas\n",
    "distinct_last_appearance = last_appearance.select(\"marca\", \"last_year\").distinct()\n",
    "distinct_last_appearance.show()"
   ]
  },
  {
   "cell_type": "markdown",
   "id": "7f682696",
   "metadata": {},
   "source": [
    "Genera una gráfica de serie de tiempo por estado para la marca con mayor precio -en todos los años-, donde el eje equis es el año y el eje ye es el precio máximo."
   ]
  },
  {
   "cell_type": "code",
   "execution_count": null,
   "id": "1c432c9c",
   "metadata": {},
   "outputs": [],
   "source": []
  }
 ],
 "metadata": {
  "kernelspec": {
   "display_name": "Python 3",
   "language": "python",
   "name": "python3"
  },
  "language_info": {
   "codemirror_mode": {
    "name": "python",
    "version": 3
   },
   "file_extension": ".py",
   "mimetype": "text/x-python",
   "name": "python",
   "pygments_lexer": "python3",
   "version": "3.10.11"
  }
 },
 "nbformat": 4,
 "nbformat_minor": 5
}
